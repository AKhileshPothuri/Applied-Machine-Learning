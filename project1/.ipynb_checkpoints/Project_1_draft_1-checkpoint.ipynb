{
 "cells": [
  {
   "cell_type": "code",
   "execution_count": 1,
   "id": "2e8f0da9",
   "metadata": {
    "ExecuteTime": {
     "end_time": "2023-02-02T04:01:00.163472Z",
     "start_time": "2023-02-02T04:00:59.071187Z"
    }
   },
   "outputs": [],
   "source": [
    "import pandas as pd\n",
    "import numpy as np\n",
    "from sklearn.model_selection import train_test_split\n"
   ]
  },
  {
   "cell_type": "code",
   "execution_count": 2,
   "id": "e7db1912",
   "metadata": {
    "ExecuteTime": {
     "end_time": "2023-02-02T04:01:00.200874Z",
     "start_time": "2023-02-02T04:01:00.164756Z"
    }
   },
   "outputs": [
    {
     "data": {
      "text/html": [
       "<div>\n",
       "<style scoped>\n",
       "    .dataframe tbody tr th:only-of-type {\n",
       "        vertical-align: middle;\n",
       "    }\n",
       "\n",
       "    .dataframe tbody tr th {\n",
       "        vertical-align: top;\n",
       "    }\n",
       "\n",
       "    .dataframe thead th {\n",
       "        text-align: right;\n",
       "    }\n",
       "</style>\n",
       "<table border=\"1\" class=\"dataframe\">\n",
       "  <thead>\n",
       "    <tr style=\"text-align: right;\">\n",
       "      <th></th>\n",
       "      <th>age</th>\n",
       "      <th>job</th>\n",
       "      <th>marital</th>\n",
       "      <th>education</th>\n",
       "      <th>balance</th>\n",
       "      <th>housing</th>\n",
       "      <th>loan</th>\n",
       "      <th>y</th>\n",
       "    </tr>\n",
       "  </thead>\n",
       "  <tbody>\n",
       "    <tr>\n",
       "      <th>0</th>\n",
       "      <td>58</td>\n",
       "      <td>management</td>\n",
       "      <td>married</td>\n",
       "      <td>tertiary</td>\n",
       "      <td>2143</td>\n",
       "      <td>yes</td>\n",
       "      <td>no</td>\n",
       "      <td>no</td>\n",
       "    </tr>\n",
       "    <tr>\n",
       "      <th>1</th>\n",
       "      <td>44</td>\n",
       "      <td>technician</td>\n",
       "      <td>single</td>\n",
       "      <td>secondary</td>\n",
       "      <td>29</td>\n",
       "      <td>yes</td>\n",
       "      <td>no</td>\n",
       "      <td>no</td>\n",
       "    </tr>\n",
       "    <tr>\n",
       "      <th>2</th>\n",
       "      <td>33</td>\n",
       "      <td>entrepreneur</td>\n",
       "      <td>married</td>\n",
       "      <td>secondary</td>\n",
       "      <td>2</td>\n",
       "      <td>yes</td>\n",
       "      <td>yes</td>\n",
       "      <td>no</td>\n",
       "    </tr>\n",
       "    <tr>\n",
       "      <th>3</th>\n",
       "      <td>47</td>\n",
       "      <td>blue-collar</td>\n",
       "      <td>married</td>\n",
       "      <td>unknown</td>\n",
       "      <td>1506</td>\n",
       "      <td>yes</td>\n",
       "      <td>no</td>\n",
       "      <td>no</td>\n",
       "    </tr>\n",
       "    <tr>\n",
       "      <th>4</th>\n",
       "      <td>33</td>\n",
       "      <td>unknown</td>\n",
       "      <td>single</td>\n",
       "      <td>unknown</td>\n",
       "      <td>1</td>\n",
       "      <td>no</td>\n",
       "      <td>no</td>\n",
       "      <td>no</td>\n",
       "    </tr>\n",
       "  </tbody>\n",
       "</table>\n",
       "</div>"
      ],
      "text/plain": [
       "   age           job  marital  education  balance housing loan   y\n",
       "0   58    management  married   tertiary     2143     yes   no  no\n",
       "1   44    technician   single  secondary       29     yes   no  no\n",
       "2   33  entrepreneur  married  secondary        2     yes  yes  no\n",
       "3   47   blue-collar  married    unknown     1506     yes   no  no\n",
       "4   33       unknown   single    unknown        1      no   no  no"
      ]
     },
     "execution_count": 2,
     "metadata": {},
     "output_type": "execute_result"
    }
   ],
   "source": [
    "raw_data = pd.read_csv(\"Project1_data.csv\")\n",
    "raw_data.head()"
   ]
  },
  {
   "cell_type": "code",
   "execution_count": 3,
   "id": "45f66eb1",
   "metadata": {
    "ExecuteTime": {
     "end_time": "2023-02-02T04:01:00.230214Z",
     "start_time": "2023-02-02T04:01:00.201776Z"
    }
   },
   "outputs": [
    {
     "data": {
      "text/plain": [
       "age            0\n",
       "job          311\n",
       "marital        0\n",
       "education      0\n",
       "balance        0\n",
       "housing        0\n",
       "loan           0\n",
       "y             14\n",
       "dtype: int64"
      ]
     },
     "execution_count": 3,
     "metadata": {},
     "output_type": "execute_result"
    }
   ],
   "source": [
    "raw_data.isna().sum()"
   ]
  },
  {
   "cell_type": "code",
   "execution_count": 4,
   "id": "807b7b2f",
   "metadata": {
    "ExecuteTime": {
     "end_time": "2023-02-02T04:01:00.262355Z",
     "start_time": "2023-02-02T04:01:00.231688Z"
    }
   },
   "outputs": [
    {
     "name": "stdout",
     "output_type": "stream",
     "text": [
      "<class 'pandas.core.frame.DataFrame'>\n",
      "RangeIndex: 45211 entries, 0 to 45210\n",
      "Data columns (total 8 columns):\n",
      " #   Column     Non-Null Count  Dtype \n",
      "---  ------     --------------  ----- \n",
      " 0   age        45211 non-null  int64 \n",
      " 1   job        44900 non-null  object\n",
      " 2   marital    45211 non-null  object\n",
      " 3   education  45211 non-null  object\n",
      " 4   balance    45211 non-null  int64 \n",
      " 5   housing    45211 non-null  object\n",
      " 6   loan       45211 non-null  object\n",
      " 7   y          45197 non-null  object\n",
      "dtypes: int64(2), object(6)\n",
      "memory usage: 2.8+ MB\n"
     ]
    }
   ],
   "source": [
    "raw_data.info()"
   ]
  },
  {
   "cell_type": "code",
   "execution_count": 5,
   "id": "73deaef5",
   "metadata": {
    "ExecuteTime": {
     "end_time": "2023-02-02T04:01:00.301569Z",
     "start_time": "2023-02-02T04:01:00.263363Z"
    }
   },
   "outputs": [
    {
     "name": "stdout",
     "output_type": "stream",
     "text": [
      "<class 'pandas.core.frame.DataFrame'>\n",
      "Int64Index: 45197 entries, 0 to 45210\n",
      "Data columns (total 8 columns):\n",
      " #   Column     Non-Null Count  Dtype \n",
      "---  ------     --------------  ----- \n",
      " 0   age        45197 non-null  int64 \n",
      " 1   job        44886 non-null  object\n",
      " 2   marital    45197 non-null  object\n",
      " 3   education  45197 non-null  object\n",
      " 4   balance    45197 non-null  int64 \n",
      " 5   housing    45197 non-null  object\n",
      " 6   loan       45197 non-null  object\n",
      " 7   y          45197 non-null  object\n",
      "dtypes: int64(2), object(6)\n",
      "memory usage: 3.1+ MB\n"
     ]
    }
   ],
   "source": [
    "raw_data = raw_data.dropna(subset=['y'])\n",
    "raw_data.info()"
   ]
  },
  {
   "cell_type": "code",
   "execution_count": 6,
   "id": "62b4f358",
   "metadata": {
    "ExecuteTime": {
     "end_time": "2023-02-02T04:01:00.331312Z",
     "start_time": "2023-02-02T04:01:00.302689Z"
    }
   },
   "outputs": [
    {
     "data": {
      "text/plain": [
       "age            0\n",
       "job          311\n",
       "marital        0\n",
       "education      0\n",
       "balance        0\n",
       "housing        0\n",
       "loan           0\n",
       "y              0\n",
       "dtype: int64"
      ]
     },
     "execution_count": 6,
     "metadata": {},
     "output_type": "execute_result"
    }
   ],
   "source": [
    "raw_data.isna().sum()"
   ]
  },
  {
   "cell_type": "code",
   "execution_count": 7,
   "id": "66a5257c",
   "metadata": {
    "ExecuteTime": {
     "end_time": "2023-02-02T04:01:00.336590Z",
     "start_time": "2023-02-02T04:01:00.332401Z"
    }
   },
   "outputs": [
    {
     "data": {
      "text/plain": [
       "array(['management', 'technician', 'entrepreneur', 'blue-collar',\n",
       "       'unknown', 'retired', 'admin.', 'services', 'self-employed',\n",
       "       'unemployed', 'housemaid', nan, 'student'], dtype=object)"
      ]
     },
     "execution_count": 7,
     "metadata": {},
     "output_type": "execute_result"
    }
   ],
   "source": [
    "raw_data.job.unique()"
   ]
  },
  {
   "cell_type": "code",
   "execution_count": 8,
   "id": "76ff577a",
   "metadata": {
    "ExecuteTime": {
     "end_time": "2023-02-02T04:01:00.369444Z",
     "start_time": "2023-02-02T04:01:00.337663Z"
    }
   },
   "outputs": [
    {
     "data": {
      "text/plain": [
       "age          0\n",
       "job          0\n",
       "marital      0\n",
       "education    0\n",
       "balance      0\n",
       "housing      0\n",
       "loan         0\n",
       "y            0\n",
       "dtype: int64"
      ]
     },
     "execution_count": 8,
     "metadata": {},
     "output_type": "execute_result"
    }
   ],
   "source": [
    "raw_data['job'] = raw_data['job'].fillna('unknown')\n",
    "raw_data.isna().sum()"
   ]
  },
  {
   "cell_type": "code",
   "execution_count": 9,
   "id": "33ce6b96",
   "metadata": {
    "ExecuteTime": {
     "end_time": "2023-02-02T04:01:00.380716Z",
     "start_time": "2023-02-02T04:01:00.370486Z"
    }
   },
   "outputs": [],
   "source": [
    "\n",
    "train_df, test_df = train_test_split(raw_data, test_size=0.2)\n",
    "\n",
    "train_df = train_df.reset_index()\n",
    "\n",
    "test_df = test_df.reset_index()"
   ]
  },
  {
   "cell_type": "code",
   "execution_count": 10,
   "id": "5e5a91ee",
   "metadata": {
    "ExecuteTime": {
     "end_time": "2023-02-02T04:01:00.413131Z",
     "start_time": "2023-02-02T04:01:00.383024Z"
    }
   },
   "outputs": [
    {
     "data": {
      "text/html": [
       "<div>\n",
       "<style scoped>\n",
       "    .dataframe tbody tr th:only-of-type {\n",
       "        vertical-align: middle;\n",
       "    }\n",
       "\n",
       "    .dataframe tbody tr th {\n",
       "        vertical-align: top;\n",
       "    }\n",
       "\n",
       "    .dataframe thead th {\n",
       "        text-align: right;\n",
       "    }\n",
       "</style>\n",
       "<table border=\"1\" class=\"dataframe\">\n",
       "  <thead>\n",
       "    <tr style=\"text-align: right;\">\n",
       "      <th></th>\n",
       "      <th>index</th>\n",
       "      <th>age</th>\n",
       "      <th>job</th>\n",
       "      <th>marital</th>\n",
       "      <th>education</th>\n",
       "      <th>balance</th>\n",
       "      <th>housing</th>\n",
       "      <th>loan</th>\n",
       "      <th>y</th>\n",
       "    </tr>\n",
       "  </thead>\n",
       "  <tbody>\n",
       "    <tr>\n",
       "      <th>count</th>\n",
       "      <td>36157.000000</td>\n",
       "      <td>36157.000000</td>\n",
       "      <td>36157</td>\n",
       "      <td>36157</td>\n",
       "      <td>36157</td>\n",
       "      <td>36157.000000</td>\n",
       "      <td>36157</td>\n",
       "      <td>36157</td>\n",
       "      <td>36157</td>\n",
       "    </tr>\n",
       "    <tr>\n",
       "      <th>unique</th>\n",
       "      <td>NaN</td>\n",
       "      <td>NaN</td>\n",
       "      <td>12</td>\n",
       "      <td>3</td>\n",
       "      <td>4</td>\n",
       "      <td>NaN</td>\n",
       "      <td>2</td>\n",
       "      <td>2</td>\n",
       "      <td>2</td>\n",
       "    </tr>\n",
       "    <tr>\n",
       "      <th>top</th>\n",
       "      <td>NaN</td>\n",
       "      <td>NaN</td>\n",
       "      <td>blue-collar</td>\n",
       "      <td>married</td>\n",
       "      <td>secondary</td>\n",
       "      <td>NaN</td>\n",
       "      <td>yes</td>\n",
       "      <td>no</td>\n",
       "      <td>no</td>\n",
       "    </tr>\n",
       "    <tr>\n",
       "      <th>freq</th>\n",
       "      <td>NaN</td>\n",
       "      <td>NaN</td>\n",
       "      <td>7776</td>\n",
       "      <td>21781</td>\n",
       "      <td>18607</td>\n",
       "      <td>NaN</td>\n",
       "      <td>20091</td>\n",
       "      <td>30334</td>\n",
       "      <td>31958</td>\n",
       "    </tr>\n",
       "    <tr>\n",
       "      <th>mean</th>\n",
       "      <td>22523.887131</td>\n",
       "      <td>40.870205</td>\n",
       "      <td>NaN</td>\n",
       "      <td>NaN</td>\n",
       "      <td>NaN</td>\n",
       "      <td>1324.196366</td>\n",
       "      <td>NaN</td>\n",
       "      <td>NaN</td>\n",
       "      <td>NaN</td>\n",
       "    </tr>\n",
       "    <tr>\n",
       "      <th>std</th>\n",
       "      <td>13027.658560</td>\n",
       "      <td>10.742495</td>\n",
       "      <td>NaN</td>\n",
       "      <td>NaN</td>\n",
       "      <td>NaN</td>\n",
       "      <td>3843.534616</td>\n",
       "      <td>NaN</td>\n",
       "      <td>NaN</td>\n",
       "      <td>NaN</td>\n",
       "    </tr>\n",
       "    <tr>\n",
       "      <th>min</th>\n",
       "      <td>0.000000</td>\n",
       "      <td>0.000000</td>\n",
       "      <td>NaN</td>\n",
       "      <td>NaN</td>\n",
       "      <td>NaN</td>\n",
       "      <td>-99999.000000</td>\n",
       "      <td>NaN</td>\n",
       "      <td>NaN</td>\n",
       "      <td>NaN</td>\n",
       "    </tr>\n",
       "    <tr>\n",
       "      <th>25%</th>\n",
       "      <td>11267.000000</td>\n",
       "      <td>33.000000</td>\n",
       "      <td>NaN</td>\n",
       "      <td>NaN</td>\n",
       "      <td>NaN</td>\n",
       "      <td>72.000000</td>\n",
       "      <td>NaN</td>\n",
       "      <td>NaN</td>\n",
       "      <td>NaN</td>\n",
       "    </tr>\n",
       "    <tr>\n",
       "      <th>50%</th>\n",
       "      <td>22495.000000</td>\n",
       "      <td>39.000000</td>\n",
       "      <td>NaN</td>\n",
       "      <td>NaN</td>\n",
       "      <td>NaN</td>\n",
       "      <td>446.000000</td>\n",
       "      <td>NaN</td>\n",
       "      <td>NaN</td>\n",
       "      <td>NaN</td>\n",
       "    </tr>\n",
       "    <tr>\n",
       "      <th>75%</th>\n",
       "      <td>33757.000000</td>\n",
       "      <td>48.000000</td>\n",
       "      <td>NaN</td>\n",
       "      <td>NaN</td>\n",
       "      <td>NaN</td>\n",
       "      <td>1430.000000</td>\n",
       "      <td>NaN</td>\n",
       "      <td>NaN</td>\n",
       "      <td>NaN</td>\n",
       "    </tr>\n",
       "    <tr>\n",
       "      <th>max</th>\n",
       "      <td>45210.000000</td>\n",
       "      <td>95.000000</td>\n",
       "      <td>NaN</td>\n",
       "      <td>NaN</td>\n",
       "      <td>NaN</td>\n",
       "      <td>102127.000000</td>\n",
       "      <td>NaN</td>\n",
       "      <td>NaN</td>\n",
       "      <td>NaN</td>\n",
       "    </tr>\n",
       "  </tbody>\n",
       "</table>\n",
       "</div>"
      ],
      "text/plain": [
       "               index           age          job  marital  education  \\\n",
       "count   36157.000000  36157.000000        36157    36157      36157   \n",
       "unique           NaN           NaN           12        3          4   \n",
       "top              NaN           NaN  blue-collar  married  secondary   \n",
       "freq             NaN           NaN         7776    21781      18607   \n",
       "mean    22523.887131     40.870205          NaN      NaN        NaN   \n",
       "std     13027.658560     10.742495          NaN      NaN        NaN   \n",
       "min         0.000000      0.000000          NaN      NaN        NaN   \n",
       "25%     11267.000000     33.000000          NaN      NaN        NaN   \n",
       "50%     22495.000000     39.000000          NaN      NaN        NaN   \n",
       "75%     33757.000000     48.000000          NaN      NaN        NaN   \n",
       "max     45210.000000     95.000000          NaN      NaN        NaN   \n",
       "\n",
       "              balance housing   loan      y  \n",
       "count    36157.000000   36157  36157  36157  \n",
       "unique            NaN       2      2      2  \n",
       "top               NaN     yes     no     no  \n",
       "freq              NaN   20091  30334  31958  \n",
       "mean      1324.196366     NaN    NaN    NaN  \n",
       "std       3843.534616     NaN    NaN    NaN  \n",
       "min     -99999.000000     NaN    NaN    NaN  \n",
       "25%         72.000000     NaN    NaN    NaN  \n",
       "50%        446.000000     NaN    NaN    NaN  \n",
       "75%       1430.000000     NaN    NaN    NaN  \n",
       "max     102127.000000     NaN    NaN    NaN  "
      ]
     },
     "execution_count": 10,
     "metadata": {},
     "output_type": "execute_result"
    }
   ],
   "source": [
    "train_df.describe(include='all')"
   ]
  },
  {
   "cell_type": "code",
   "execution_count": 11,
   "id": "4e49dc58",
   "metadata": {
    "ExecuteTime": {
     "end_time": "2023-02-02T04:01:00.418596Z",
     "start_time": "2023-02-02T04:01:00.414160Z"
    }
   },
   "outputs": [
    {
     "data": {
      "text/plain": [
       "yes    20091\n",
       "no     16066\n",
       "Name: housing, dtype: int64"
      ]
     },
     "execution_count": 11,
     "metadata": {},
     "output_type": "execute_result"
    }
   ],
   "source": [
    "train_df.housing.value_counts()"
   ]
  },
  {
   "cell_type": "code",
   "execution_count": 12,
   "id": "5257d6b9",
   "metadata": {
    "ExecuteTime": {
     "end_time": "2023-02-02T04:01:00.423888Z",
     "start_time": "2023-02-02T04:01:00.419581Z"
    }
   },
   "outputs": [
    {
     "data": {
      "text/plain": [
       "no     30334\n",
       "yes     5823\n",
       "Name: loan, dtype: int64"
      ]
     },
     "execution_count": 12,
     "metadata": {},
     "output_type": "execute_result"
    }
   ],
   "source": [
    "train_df.loan.value_counts()"
   ]
  },
  {
   "cell_type": "code",
   "execution_count": 13,
   "id": "5e03518b",
   "metadata": {
    "ExecuteTime": {
     "end_time": "2023-02-02T04:01:00.447919Z",
     "start_time": "2023-02-02T04:01:00.424869Z"
    }
   },
   "outputs": [],
   "source": [
    "cat_columns = ['job','marital','education','housing','loan']\n",
    "\n",
    "train_cat = train_df[cat_columns]\n",
    "test_cat = test_df[cat_columns]\n",
    "\n",
    "train_cat = pd.get_dummies(train_cat)\n",
    "test_cat = pd.get_dummies(test_cat)\n",
    "\n",
    "train_df = train_df.drop(columns = cat_columns)\n",
    "test_df = test_df.drop(columns = cat_columns)\n"
   ]
  },
  {
   "cell_type": "code",
   "execution_count": 14,
   "id": "c58d804b",
   "metadata": {
    "ExecuteTime": {
     "end_time": "2023-02-02T04:01:00.453810Z",
     "start_time": "2023-02-02T04:01:00.448937Z"
    }
   },
   "outputs": [],
   "source": [
    "train_df = train_df.join(train_cat)\n",
    "test_df = test_df.join(train_cat)\n"
   ]
  },
  {
   "cell_type": "code",
   "execution_count": 15,
   "id": "73a98956",
   "metadata": {
    "ExecuteTime": {
     "end_time": "2023-02-02T04:01:00.459213Z",
     "start_time": "2023-02-02T04:01:00.454825Z"
    }
   },
   "outputs": [],
   "source": [
    "train_df['y'] = np.where(train_df['y']=='yes',0,1)\n",
    "test_df['y'] = np.where(test_df['y']=='yes',0,1)\n"
   ]
  },
  {
   "cell_type": "code",
   "execution_count": 16,
   "id": "5ec072f9",
   "metadata": {
    "ExecuteTime": {
     "end_time": "2023-02-02T04:01:00.464014Z",
     "start_time": "2023-02-02T04:01:00.460114Z"
    }
   },
   "outputs": [],
   "source": [
    "X_train = train_df.drop(columns=['y'])\n",
    "Y_train = train_df[['y']]\n",
    "X_test = test_df.drop(columns=['y'])\n",
    "Y_test = test_df[['y']]"
   ]
  },
  {
   "cell_type": "code",
   "execution_count": 17,
   "id": "cab40e4a",
   "metadata": {
    "ExecuteTime": {
     "end_time": "2023-02-02T04:01:00.551046Z",
     "start_time": "2023-02-02T04:01:00.464937Z"
    }
   },
   "outputs": [
    {
     "name": "stderr",
     "output_type": "stream",
     "text": [
      "/Users/akhileshpothuri/opt/anaconda3/lib/python3.9/site-packages/sklearn/utils/validation.py:993: DataConversionWarning: A column-vector y was passed when a 1d array was expected. Please change the shape of y to (n_samples, ), for example using ravel().\n",
      "  y = column_or_1d(y, warn=True)\n"
     ]
    },
    {
     "data": {
      "text/plain": [
       "LogisticRegression()"
      ]
     },
     "execution_count": 17,
     "metadata": {},
     "output_type": "execute_result"
    }
   ],
   "source": [
    "from sklearn.linear_model import LogisticRegression\n",
    "logmodel = LogisticRegression()\n",
    "logmodel.fit(X_train,Y_train)\n"
   ]
  },
  {
   "cell_type": "code",
   "execution_count": 18,
   "id": "0232d4c3",
   "metadata": {
    "ExecuteTime": {
     "end_time": "2023-02-02T04:01:00.556135Z",
     "start_time": "2023-02-02T04:01:00.552752Z"
    }
   },
   "outputs": [],
   "source": [
    "predictions = logmodel.predict_proba(X_test)[::,1]"
   ]
  },
  {
   "cell_type": "code",
   "execution_count": 19,
   "id": "0a369ea2",
   "metadata": {
    "ExecuteTime": {
     "end_time": "2023-02-02T04:01:01.084183Z",
     "start_time": "2023-02-02T04:01:00.557233Z"
    }
   },
   "outputs": [
    {
     "data": {
      "image/png": "[encoded data removed]",
      "text/plain": [
       "<Figure size 432x288 with 1 Axes>"
      ]
     },
     "metadata": {
      "needs_background": "light"
     },
     "output_type": "display_data"
    }
   ],
   "source": [
    "from sklearn import metrics\n",
    "import matplotlib.pyplot as plt\n",
    "fpr, tpr, _ = metrics.roc_curve(Y_test,  predictions)\n",
    "\n",
    "plt.plot(fpr,tpr)\n",
    "plt.ylabel('True Positive Rate')\n",
    "plt.xlabel('False Positive Rate')\n",
    "plt.show()"
   ]
  },
  {
   "cell_type": "code",
   "execution_count": 20,
   "id": "f1fb3405",
   "metadata": {
    "ExecuteTime": {
     "end_time": "2023-02-02T04:01:01.086707Z",
     "start_time": "2023-02-02T04:01:01.085185Z"
    }
   },
   "outputs": [],
   "source": [
    "predictions = predictions.round()\n"
   ]
  },
  {
   "cell_type": "code",
   "execution_count": 21,
   "id": "1717e59a",
   "metadata": {
    "ExecuteTime": {
     "end_time": "2023-02-02T04:01:01.101712Z",
     "start_time": "2023-02-02T04:01:01.087538Z"
    }
   },
   "outputs": [
    {
     "name": "stdout",
     "output_type": "stream",
     "text": [
      "              precision    recall  f1-score   support\n",
      "\n",
      "           0       0.41      0.02      0.03      1089\n",
      "           1       0.88      1.00      0.94      7951\n",
      "\n",
      "    accuracy                           0.88      9040\n",
      "   macro avg       0.65      0.51      0.48      9040\n",
      "weighted avg       0.82      0.88      0.83      9040\n",
      "\n"
     ]
    }
   ],
   "source": [
    "from sklearn.metrics import classification_report\n",
    "print(classification_report(Y_test,predictions))"
   ]
  },
  {
   "cell_type": "code",
   "execution_count": 22,
   "id": "f4d371b4",
   "metadata": {
    "ExecuteTime": {
     "end_time": "2023-02-02T04:01:01.107183Z",
     "start_time": "2023-02-02T04:01:01.102771Z"
    }
   },
   "outputs": [
    {
     "data": {
      "text/plain": [
       "array([[  18, 1071],\n",
       "       [  26, 7925]])"
      ]
     },
     "execution_count": 22,
     "metadata": {},
     "output_type": "execute_result"
    }
   ],
   "source": [
    "metrics.confusion_matrix(Y_test, predictions)"
   ]
  }
 ],
 "metadata": {
  "kernelspec": {
   "display_name": "Python 3 (ipykernel)",
   "language": "python",
   "name": "python3"
  },
  "language_info": {
   "codemirror_mode": {
    "name": "ipython",
    "version": 3
   },
   "file_extension": ".py",
   "mimetype": "text/x-python",
   "name": "python",
   "nbconvert_exporter": "python",
   "pygments_lexer": "ipython3",
   "version": "3.9.12"
  }
 },
 "nbformat": 4,
 "nbformat_minor": 5
}
