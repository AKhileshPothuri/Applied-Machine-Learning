{
 "cells": [
  {
   "cell_type": "code",
   "execution_count": 1,
   "metadata": {},
   "outputs": [
    {
     "name": "stderr",
     "output_type": "stream",
     "text": [
      "In C:\\ProgramData\\Anaconda3\\lib\\site-packages\\matplotlib\\mpl-data\\stylelib\\_classic_test.mplstyle: \n",
      "The text.latex.preview rcparam was deprecated in Matplotlib 3.3 and will be removed two minor releases later.\n",
      "In C:\\ProgramData\\Anaconda3\\lib\\site-packages\\matplotlib\\mpl-data\\stylelib\\_classic_test.mplstyle: \n",
      "The mathtext.fallback_to_cm rcparam was deprecated in Matplotlib 3.3 and will be removed two minor releases later.\n",
      "In C:\\ProgramData\\Anaconda3\\lib\\site-packages\\matplotlib\\mpl-data\\stylelib\\_classic_test.mplstyle: Support for setting the 'mathtext.fallback_to_cm' rcParam is deprecated since 3.3 and will be removed two minor releases later; use 'mathtext.fallback : 'cm' instead.\n",
      "In C:\\ProgramData\\Anaconda3\\lib\\site-packages\\matplotlib\\mpl-data\\stylelib\\_classic_test.mplstyle: \n",
      "The validate_bool_maybe_none function was deprecated in Matplotlib 3.3 and will be removed two minor releases later.\n",
      "In C:\\ProgramData\\Anaconda3\\lib\\site-packages\\matplotlib\\mpl-data\\stylelib\\_classic_test.mplstyle: \n",
      "The savefig.jpeg_quality rcparam was deprecated in Matplotlib 3.3 and will be removed two minor releases later.\n",
      "In C:\\ProgramData\\Anaconda3\\lib\\site-packages\\matplotlib\\mpl-data\\stylelib\\_classic_test.mplstyle: \n",
      "The keymap.all_axes rcparam was deprecated in Matplotlib 3.3 and will be removed two minor releases later.\n",
      "In C:\\ProgramData\\Anaconda3\\lib\\site-packages\\matplotlib\\mpl-data\\stylelib\\_classic_test.mplstyle: \n",
      "The animation.avconv_path rcparam was deprecated in Matplotlib 3.3 and will be removed two minor releases later.\n",
      "In C:\\ProgramData\\Anaconda3\\lib\\site-packages\\matplotlib\\mpl-data\\stylelib\\_classic_test.mplstyle: \n",
      "The animation.avconv_args rcparam was deprecated in Matplotlib 3.3 and will be removed two minor releases later.\n"
     ]
    }
   ],
   "source": [
    "import numpy as np\n",
    "import pandas as pd\n",
    "import gc\n",
    "import string\n",
    "import re\n",
    "import time as t\n",
    "import pickle\n",
    "from scipy.sparse import csc_matrix\n",
    "\n",
    "from sqlalchemy import create_engine\n",
    "from sklearn.feature_extraction.text import CountVectorizer, TfidfVectorizer\n",
    "from wordcloud import WordCloud, STOPWORDS\n",
    "import matplotlib.pyplot as plt\n",
    "\n",
    "\n",
    "from sklearn.naive_bayes import GaussianNB\n",
    "from xgboost import XGBClassifier, plot_importance\n",
    "from sklearn.linear_model import LogisticRegression\n",
    "from sklearn.metrics import precision_score, recall_score, accuracy_score, confusion_matrix, classification_report\n",
    "from sklearn.model_selection import train_test_split\n",
    "from sklearn.model_selection import StratifiedKFold\n",
    "from sklearn.multioutput import MultiOutputClassifier\n",
    "from sklearn.multiclass import OneVsRestClassifier\n",
    "from skmultilearn.model_selection import iterative_train_test_split, IterativeStratification\n",
    "\n",
    "pd.options.display.max_colwidth=1000"
   ]
  },
  {
   "cell_type": "code",
   "execution_count": 173,
   "metadata": {},
   "outputs": [
    {
     "name": "stderr",
     "output_type": "stream",
     "text": [
      "C:\\ProgramData\\Anaconda3\\lib\\site-packages\\ipykernel_launcher.py:1: DeprecationWarning: time.clock has been deprecated in Python 3.3 and will be removed from Python 3.8: use time.perf_counter or time.process_time instead\n",
      "  \"\"\"Entry point for launching an IPython kernel.\n"
     ]
    }
   ],
   "source": [
    "\n",
    "t1=t.clock()"
   ]
  },
  {
   "cell_type": "code",
   "execution_count": 174,
   "metadata": {},
   "outputs": [],
   "source": [
    "from tensorflow.keras.models import  Model\n",
    "from tensorflow.keras import layers, Input\n",
    "from tensorflow.keras.layers import Dense, Activation, BatchNormalization, Dropout\n",
    "from tensorflow.keras import optimizers\n",
    "from tensorflow.keras.utils import to_categorical\n",
    "import tensorflow as tf"
   ]
  },
  {
   "cell_type": "code",
   "execution_count": 175,
   "metadata": {},
   "outputs": [],
   "source": [
    "#engine = create_engine(f'mssql+pyodbc://{server}/{db}?trusted_connection=yes&driver=SQL Server Native Client 11.0') \n",
    "#df =  pd.read_sql(sql,engine)\n",
    "#df.to_csv('Part_reco_phase2.csv',index=False)"
   ]
  },
  {
   "cell_type": "code",
   "execution_count": 176,
   "metadata": {},
   "outputs": [
    {
     "data": {
      "text/plain": [
       "(3130, 96)"
      ]
     },
     "execution_count": 176,
     "metadata": {},
     "output_type": "execute_result"
    }
   ],
   "source": [
    "#df = pd.read_csv('Part_reco_csdw_26Nov.csv')\n",
    "current_region = \"LA\"\n",
    "date = \"25Feb\"\n",
    "df = pd.read_csv(f'F:\\Akhilesh_new\\Part_reco_regionwise\\Data Preparation\\Part_reco_RRlogic_{date}_{current_region}.csv')\n",
    "df = df[df['Repair_Flag']==1]\n",
    "df.shape"
   ]
  },
  {
   "cell_type": "code",
   "execution_count": 177,
   "metadata": {},
   "outputs": [],
   "source": [
    "df_commodity = pd.read_csv(f'F:\\Akhilesh_new\\Part_reco_regionwise\\Part_Commodity_{date}.csv')"
   ]
  },
  {
   "cell_type": "code",
   "execution_count": 178,
   "metadata": {},
   "outputs": [],
   "source": [
    "df_pmaster = pd.read_excel('F:\\Akhilesh_new\\Part_reco_regionwise\\pmaster.xlsx')"
   ]
  },
  {
   "cell_type": "code",
   "execution_count": 179,
   "metadata": {},
   "outputs": [],
   "source": [
    "#df[['Product_Number','Product_Big_Series_Name','Product_Line_Code_Name','PL_Product_Category']].isna().sum()"
   ]
  },
  {
   "cell_type": "code",
   "execution_count": 180,
   "metadata": {},
   "outputs": [
    {
     "data": {
      "text/plain": [
       "Product_Number              0\n",
       "Product_Big_Series_Name    44\n",
       "Product_Line_Code_Name     44\n",
       "PL_Product_Category        44\n",
       "dtype: int64"
      ]
     },
     "execution_count": 180,
     "metadata": {},
     "output_type": "execute_result"
    }
   ],
   "source": [
    "df = df.drop(columns=['Product_Big_Series_Name','Product_Line_Code_Name','PL_Product_Category'])\n",
    "df = df.merge(df_pmaster,how='left',on=['Product_Number'])\n",
    "df = df.rename(columns={'PL_Category':'PL_Product_Category'})\n",
    "df[['Product_Number','Product_Big_Series_Name','Product_Line_Code_Name','PL_Product_Category']].isna().sum()"
   ]
  },
  {
   "cell_type": "code",
   "execution_count": 181,
   "metadata": {},
   "outputs": [],
   "source": [
    "test_period = ['202011','202012','202101']"
   ]
  },
  {
   "cell_type": "markdown",
   "metadata": {},
   "source": [
    "#### Commodity mapping"
   ]
  },
  {
   "cell_type": "code",
   "execution_count": 182,
   "metadata": {},
   "outputs": [],
   "source": [
    "df_model = df.merge(df_commodity,how='left',on=['Part_Number'])\n",
    "\n",
    "#print(df_model.part_commodity.value_counts())\n",
    "#print(df_model.part_commodity.isna().sum())"
   ]
  },
  {
   "cell_type": "code",
   "execution_count": 183,
   "metadata": {},
   "outputs": [
    {
     "data": {
      "text/plain": [
       "('2019-11-06 19:08:11', '2021-01-30 23:59:22')"
      ]
     },
     "execution_count": 183,
     "metadata": {},
     "output_type": "execute_result"
    }
   ],
   "source": [
    "df_model.Closed_Date.min(), df_model.Closed_Date.max()"
   ]
  },
  {
   "cell_type": "code",
   "execution_count": 184,
   "metadata": {},
   "outputs": [],
   "source": [
    "pd.options.display.max_columns=100"
   ]
  },
  {
   "cell_type": "markdown",
   "metadata": {},
   "source": [
    "#### Data filter"
   ]
  },
  {
   "cell_type": "code",
   "execution_count": 185,
   "metadata": {},
   "outputs": [
    {
     "data": {
      "text/plain": [
       "1865204"
      ]
     },
     "execution_count": 185,
     "metadata": {},
     "output_type": "execute_result"
    }
   ],
   "source": [
    "del df\n",
    "gc.collect()"
   ]
  },
  {
   "cell_type": "code",
   "execution_count": 186,
   "metadata": {},
   "outputs": [
    {
     "data": {
      "text/html": [
       "<div>\n",
       "<style scoped>\n",
       "    .dataframe tbody tr th:only-of-type {\n",
       "        vertical-align: middle;\n",
       "    }\n",
       "\n",
       "    .dataframe tbody tr th {\n",
       "        vertical-align: top;\n",
       "    }\n",
       "\n",
       "    .dataframe thead th {\n",
       "        text-align: right;\n",
       "    }\n",
       "</style>\n",
       "<table border=\"1\" class=\"dataframe\">\n",
       "  <thead>\n",
       "    <tr style=\"text-align: right;\">\n",
       "      <th></th>\n",
       "      <th>Case_ID</th>\n",
       "      <th>Source_x</th>\n",
       "      <th>Event_Count</th>\n",
       "      <th>Created_Date</th>\n",
       "      <th>Closed_Date</th>\n",
       "      <th>Case_Status</th>\n",
       "      <th>Region</th>\n",
       "      <th>Sub_Region_1_Name</th>\n",
       "      <th>Market_Segment</th>\n",
       "      <th>Business_Segment</th>\n",
       "      <th>Business_Subsegment</th>\n",
       "      <th>Global_Business_Unit</th>\n",
       "      <th>Product_Number</th>\n",
       "      <th>Premium_Flag</th>\n",
       "      <th>Case_OTC</th>\n",
       "      <th>Incoming_Channel</th>\n",
       "      <th>DNAP_Flag</th>\n",
       "      <th>MPS_Flag</th>\n",
       "      <th>Case_Resolution</th>\n",
       "      <th>Delivery_Alternative</th>\n",
       "      <th>Irrelevant_Name</th>\n",
       "      <th>Complaint_Flag</th>\n",
       "      <th>Case_Subject</th>\n",
       "      <th>Rerepair30days</th>\n",
       "      <th>Rerepair90days</th>\n",
       "      <th>CSR_Count</th>\n",
       "      <th>WO_Count</th>\n",
       "      <th>SO_Count</th>\n",
       "      <th>Delivery_Motion</th>\n",
       "      <th>Serial_Number</th>\n",
       "      <th>Ops_Interventions</th>\n",
       "      <th>Onsite_Service_Events</th>\n",
       "      <th>CSR_Service_Events</th>\n",
       "      <th>Product_Family</th>\n",
       "      <th>Product_Family_Description</th>\n",
       "      <th>Created_By_Workgroup</th>\n",
       "      <th>QA_Code</th>\n",
       "      <th>ADP_Flag</th>\n",
       "      <th>Market_SubSegment</th>\n",
       "      <th>Service_Flag</th>\n",
       "      <th>Case_Entitlement</th>\n",
       "      <th>Entitlement_Start_Date</th>\n",
       "      <th>Entitlement_End_Date</th>\n",
       "      <th>Executive_OTC</th>\n",
       "      <th>Executive_Category</th>\n",
       "      <th>Case_Type</th>\n",
       "      <th>Product_Description</th>\n",
       "      <th>Product_Series_Name</th>\n",
       "      <th>Entitlement_Status</th>\n",
       "      <th>More_Than_1Repair_Flag</th>\n",
       "      <th>Operating_System_Name</th>\n",
       "      <th>Recommended_Parts</th>\n",
       "      <th>Parts Canceled</th>\n",
       "      <th>DOA</th>\n",
       "      <th>Returned Good</th>\n",
       "      <th>Used &amp; Not Consumed</th>\n",
       "      <th>Used &amp; Consumed</th>\n",
       "      <th>No_Failure_Code</th>\n",
       "      <th>Parent_Case</th>\n",
       "      <th>Entitlement_Type</th>\n",
       "      <th>First_Part_Ordered</th>\n",
       "      <th>Last_Part_Ordered</th>\n",
       "      <th>Wrong_Parts_Recommendation_Flag</th>\n",
       "      <th>ip1</th>\n",
       "      <th>ip2</th>\n",
       "      <th>ip3</th>\n",
       "      <th>First_Closed_Date</th>\n",
       "      <th>Rerepair_days</th>\n",
       "      <th>Repair_days_le_90</th>\n",
       "      <th>FTF_plus_Maxrepair</th>\n",
       "      <th>Source_y</th>\n",
       "      <th>SubID</th>\n",
       "      <th>Part_Order_Number</th>\n",
       "      <th>PO_Open_Date</th>\n",
       "      <th>Part_Requested_Date</th>\n",
       "      <th>Part_Number</th>\n",
       "      <th>Part_Order_Detail_Description</th>\n",
       "      <th>Selected_Quantity</th>\n",
       "      <th>Failure_Code</th>\n",
       "      <th>Original_Part_Number</th>\n",
       "      <th>Offered_Part_Number</th>\n",
       "      <th>Part_Delivered</th>\n",
       "      <th>Part_Status</th>\n",
       "      <th>Subassembly</th>\n",
       "      <th>Subsystem</th>\n",
       "      <th>RR90_Same_Part_Number_Flag</th>\n",
       "      <th>RR90_Same_Commodity_Flag</th>\n",
       "      <th>RR30_Same_Part_Number_Flag</th>\n",
       "      <th>RR30_Same_Commodity_Flag</th>\n",
       "      <th>Consumed_Flag1</th>\n",
       "      <th>Consumed_Flag2</th>\n",
       "      <th>Remote_Flag</th>\n",
       "      <th>Repair_Flag</th>\n",
       "      <th>Product_Big_Series_Name</th>\n",
       "      <th>Product_Line_Code_Name</th>\n",
       "      <th>PL_Product_Category</th>\n",
       "      <th>part_commodity</th>\n",
       "      <th>part_description</th>\n",
       "    </tr>\n",
       "  </thead>\n",
       "  <tbody>\n",
       "    <tr>\n",
       "      <td>0</td>\n",
       "      <td>5039628069</td>\n",
       "      <td>CDAX</td>\n",
       "      <td>1</td>\n",
       "      <td>2019-11-05 16:56:12</td>\n",
       "      <td>2019-11-08</td>\n",
       "      <td>Closed</td>\n",
       "      <td>AMS</td>\n",
       "      <td>LA</td>\n",
       "      <td>Commercial</td>\n",
       "      <td>Personal Systems</td>\n",
       "      <td>Business PC Solutions</td>\n",
       "      <td>Commercial Compute</td>\n",
       "      <td>1ZR97LT</td>\n",
       "      <td>0</td>\n",
       "      <td>05K-Extended Warranty</td>\n",
       "      <td>Phone</td>\n",
       "      <td>0</td>\n",
       "      <td>0</td>\n",
       "      <td>Onsite Solution</td>\n",
       "      <td>Subcontractor Onsite</td>\n",
       "      <td>0.0</td>\n",
       "      <td>0</td>\n",
       "      <td>PE/ONS/NCD/440 G5/Problemas de teclado y stickpoint</td>\n",
       "      <td>NaN</td>\n",
       "      <td>NaN</td>\n",
       "      <td>0.0</td>\n",
       "      <td>1.0</td>\n",
       "      <td>0.0</td>\n",
       "      <td>Onsite</td>\n",
       "      <td>5CD7517GR1</td>\n",
       "      <td>1.0</td>\n",
       "      <td>NaN</td>\n",
       "      <td>1.0</td>\n",
       "      <td>FELB</td>\n",
       "      <td>Ratchet STD 1.0 -HP ProBook 440 G5</td>\n",
       "      <td>LLP_SC GSC CRA H PSG LAC</td>\n",
       "      <td>NaN</td>\n",
       "      <td>0</td>\n",
       "      <td>Notebooks</td>\n",
       "      <td>NBD</td>\n",
       "      <td>carepack (XLS9B6M742C3)</td>\n",
       "      <td>2018-03-28</td>\n",
       "      <td>2021-03-27</td>\n",
       "      <td>Trade</td>\n",
       "      <td>MG/CY</td>\n",
       "      <td>HW Delivery</td>\n",
       "      <td>HP ProBook 440 G5 Notebook PC</td>\n",
       "      <td>HP ProBook 440 G5 Notebook PC</td>\n",
       "      <td>Active</td>\n",
       "      <td>NaN</td>\n",
       "      <td>NaN</td>\n",
       "      <td>1.0</td>\n",
       "      <td>0.0</td>\n",
       "      <td>0.0</td>\n",
       "      <td>0.0</td>\n",
       "      <td>0.0</td>\n",
       "      <td>1.0</td>\n",
       "      <td>0.0</td>\n",
       "      <td>NaN</td>\n",
       "      <td>Care-Pack</td>\n",
       "      <td>L01072-161</td>\n",
       "      <td>L01072-161</td>\n",
       "      <td>0</td>\n",
       "      <td>input_output_device_hp_only</td>\n",
       "      <td>keyboard</td>\n",
       "      <td>some_keys_not_working_(keyboard)</td>\n",
       "      <td>2019-11-08 23:01:43</td>\n",
       "      <td>-4</td>\n",
       "      <td>1</td>\n",
       "      <td>1.0</td>\n",
       "      <td>CDAX</td>\n",
       "      <td>WO-008885924</td>\n",
       "      <td>PO-111944361 - 1</td>\n",
       "      <td>2019-11-05 17:07:52</td>\n",
       "      <td>2019-11-05 23:00:00</td>\n",
       "      <td>L01072-161</td>\n",
       "      <td>SPS-KBD CP SR CHILE</td>\n",
       "      <td>1.0</td>\n",
       "      <td>73 - Used &amp; Consumed</td>\n",
       "      <td>L01072-161</td>\n",
       "      <td>L01072-161</td>\n",
       "      <td>NaN</td>\n",
       "      <td>Shipped</td>\n",
       "      <td>Keyboard</td>\n",
       "      <td>I/O DEVICE</td>\n",
       "      <td>NaN</td>\n",
       "      <td>NaN</td>\n",
       "      <td>NaN</td>\n",
       "      <td>NaN</td>\n",
       "      <td>1.0</td>\n",
       "      <td>0.0</td>\n",
       "      <td>0.0</td>\n",
       "      <td>1.0</td>\n",
       "      <td>HP ProBook 440 G5 Notebook PC (Ratchet)</td>\n",
       "      <td>6U</td>\n",
       "      <td>COMMERCIAL NOTEBOOKS</td>\n",
       "      <td>Keyboard</td>\n",
       "      <td>SPS-KBD CP SR CHILE</td>\n",
       "    </tr>\n",
       "    <tr>\n",
       "      <td>1</td>\n",
       "      <td>5039703165</td>\n",
       "      <td>CDAX</td>\n",
       "      <td>1</td>\n",
       "      <td>2019-11-06 20:25:08</td>\n",
       "      <td>2019-11-20</td>\n",
       "      <td>Closed</td>\n",
       "      <td>AMS</td>\n",
       "      <td>LA</td>\n",
       "      <td>Commercial</td>\n",
       "      <td>Personal Systems</td>\n",
       "      <td>Business PC Solutions</td>\n",
       "      <td>Commercial Compute</td>\n",
       "      <td>3WQ23EC</td>\n",
       "      <td>0</td>\n",
       "      <td>05R-Normal Contract</td>\n",
       "      <td>Phone</td>\n",
       "      <td>0</td>\n",
       "      <td>0</td>\n",
       "      <td>Parts Shipped</td>\n",
       "      <td>CSR</td>\n",
       "      <td>0.0</td>\n",
       "      <td>0</td>\n",
       "      <td>BS/CSR/ONS/NCD/840 G5/Problemas de Cargador</td>\n",
       "      <td>1.0</td>\n",
       "      <td>1.0</td>\n",
       "      <td>2.0</td>\n",
       "      <td>0.0</td>\n",
       "      <td>0.0</td>\n",
       "      <td>CSR</td>\n",
       "      <td>5CG83549K0</td>\n",
       "      <td>2.0</td>\n",
       "      <td>2.0</td>\n",
       "      <td>NaN</td>\n",
       "      <td>FETR</td>\n",
       "      <td>Computron14 PRO 1.0 -EliteBook840/846G5</td>\n",
       "      <td>LLP_SC GSC CRA H PSG LAC</td>\n",
       "      <td>NaN</td>\n",
       "      <td>0</td>\n",
       "      <td>Notebooks</td>\n",
       "      <td>NBD</td>\n",
       "      <td>contract (104898957774)</td>\n",
       "      <td>2018-10-01</td>\n",
       "      <td>2021-09-30</td>\n",
       "      <td>Trade</td>\n",
       "      <td>6700</td>\n",
       "      <td>HW Delivery</td>\n",
       "      <td>HP EliteBook 840 G5 Notebook PC</td>\n",
       "      <td>HP EliteBook 840 G5 Notebook PC</td>\n",
       "      <td>Active</td>\n",
       "      <td>1.0</td>\n",
       "      <td>NaN</td>\n",
       "      <td>2.0</td>\n",
       "      <td>0.0</td>\n",
       "      <td>0.0</td>\n",
       "      <td>0.0</td>\n",
       "      <td>0.0</td>\n",
       "      <td>2.0</td>\n",
       "      <td>0.0</td>\n",
       "      <td>NaN</td>\n",
       "      <td>Contract</td>\n",
       "      <td>860209-850</td>\n",
       "      <td>860209-850</td>\n",
       "      <td>0</td>\n",
       "      <td>power</td>\n",
       "      <td>wont_power_on</td>\n",
       "      <td>no_power_no_light_on_notebook</td>\n",
       "      <td>2019-11-20 17:52:52</td>\n",
       "      <td>-14</td>\n",
       "      <td>1</td>\n",
       "      <td>1.0</td>\n",
       "      <td>CDAX</td>\n",
       "      <td>CSR-101451186</td>\n",
       "      <td>PO-112022311 - 1</td>\n",
       "      <td>2019-11-11 14:27:33</td>\n",
       "      <td>NaN</td>\n",
       "      <td>860209-850</td>\n",
       "      <td>GNRC-65W ADPTR nPFC RC USB-C 3PIN</td>\n",
       "      <td>1.0</td>\n",
       "      <td>73 - Used &amp; Consumed</td>\n",
       "      <td>NaN</td>\n",
       "      <td>860209-850</td>\n",
       "      <td>NaN</td>\n",
       "      <td>Shipped</td>\n",
       "      <td>AC Adapter</td>\n",
       "      <td>POWER</td>\n",
       "      <td>NaN</td>\n",
       "      <td>NaN</td>\n",
       "      <td>NaN</td>\n",
       "      <td>NaN</td>\n",
       "      <td>1.0</td>\n",
       "      <td>0.0</td>\n",
       "      <td>0.0</td>\n",
       "      <td>1.0</td>\n",
       "      <td>HP EliteBook 840/846 G5 Notebook PC (Computron14)</td>\n",
       "      <td>AN</td>\n",
       "      <td>COMMERCIAL NOTEBOOKS</td>\n",
       "      <td>PwrSuply/Mains/Adptr</td>\n",
       "      <td>GNRC-65W ADPTR nPFC RC USB-C 3PIN</td>\n",
       "    </tr>\n",
       "    <tr>\n",
       "      <td>2</td>\n",
       "      <td>5039703165</td>\n",
       "      <td>CDAX</td>\n",
       "      <td>1</td>\n",
       "      <td>2019-11-06 20:25:08</td>\n",
       "      <td>2019-11-20</td>\n",
       "      <td>Closed</td>\n",
       "      <td>AMS</td>\n",
       "      <td>LA</td>\n",
       "      <td>Commercial</td>\n",
       "      <td>Personal Systems</td>\n",
       "      <td>Business PC Solutions</td>\n",
       "      <td>Commercial Compute</td>\n",
       "      <td>3WQ23EC</td>\n",
       "      <td>0</td>\n",
       "      <td>05R-Normal Contract</td>\n",
       "      <td>Phone</td>\n",
       "      <td>0</td>\n",
       "      <td>0</td>\n",
       "      <td>Parts Shipped</td>\n",
       "      <td>CSR</td>\n",
       "      <td>0.0</td>\n",
       "      <td>0</td>\n",
       "      <td>BS/CSR/ONS/NCD/840 G5/Problemas de Cargador</td>\n",
       "      <td>1.0</td>\n",
       "      <td>1.0</td>\n",
       "      <td>2.0</td>\n",
       "      <td>0.0</td>\n",
       "      <td>0.0</td>\n",
       "      <td>CSR</td>\n",
       "      <td>5CG83549K0</td>\n",
       "      <td>2.0</td>\n",
       "      <td>2.0</td>\n",
       "      <td>NaN</td>\n",
       "      <td>FETR</td>\n",
       "      <td>Computron14 PRO 1.0 -EliteBook840/846G5</td>\n",
       "      <td>LLP_SC GSC CRA H PSG LAC</td>\n",
       "      <td>NaN</td>\n",
       "      <td>0</td>\n",
       "      <td>Notebooks</td>\n",
       "      <td>NBD</td>\n",
       "      <td>contract (104898957774)</td>\n",
       "      <td>2018-10-01</td>\n",
       "      <td>2021-09-30</td>\n",
       "      <td>Trade</td>\n",
       "      <td>6700</td>\n",
       "      <td>HW Delivery</td>\n",
       "      <td>HP EliteBook 840 G5 Notebook PC</td>\n",
       "      <td>HP EliteBook 840 G5 Notebook PC</td>\n",
       "      <td>Active</td>\n",
       "      <td>1.0</td>\n",
       "      <td>NaN</td>\n",
       "      <td>2.0</td>\n",
       "      <td>0.0</td>\n",
       "      <td>0.0</td>\n",
       "      <td>0.0</td>\n",
       "      <td>0.0</td>\n",
       "      <td>2.0</td>\n",
       "      <td>0.0</td>\n",
       "      <td>NaN</td>\n",
       "      <td>Contract</td>\n",
       "      <td>860209-850</td>\n",
       "      <td>860209-850</td>\n",
       "      <td>0</td>\n",
       "      <td>power</td>\n",
       "      <td>wont_power_on</td>\n",
       "      <td>no_power_no_light_on_notebook</td>\n",
       "      <td>2019-11-20 17:52:52</td>\n",
       "      <td>-14</td>\n",
       "      <td>1</td>\n",
       "      <td>1.0</td>\n",
       "      <td>CDAX</td>\n",
       "      <td>CSR-101445622</td>\n",
       "      <td>PO-111966797 - 1</td>\n",
       "      <td>2019-11-06 20:45:04</td>\n",
       "      <td>NaN</td>\n",
       "      <td>860209-850</td>\n",
       "      <td>GNRC-65W ADPTR nPFC RC USB-C 3PIN</td>\n",
       "      <td>1.0</td>\n",
       "      <td>73 - Used &amp; Consumed</td>\n",
       "      <td>NaN</td>\n",
       "      <td>860209-850</td>\n",
       "      <td>NaN</td>\n",
       "      <td>Shipped</td>\n",
       "      <td>AC Adapter</td>\n",
       "      <td>POWER</td>\n",
       "      <td>NaN</td>\n",
       "      <td>NaN</td>\n",
       "      <td>NaN</td>\n",
       "      <td>NaN</td>\n",
       "      <td>1.0</td>\n",
       "      <td>0.0</td>\n",
       "      <td>0.0</td>\n",
       "      <td>1.0</td>\n",
       "      <td>HP EliteBook 840/846 G5 Notebook PC (Computron14)</td>\n",
       "      <td>AN</td>\n",
       "      <td>COMMERCIAL NOTEBOOKS</td>\n",
       "      <td>PwrSuply/Mains/Adptr</td>\n",
       "      <td>GNRC-65W ADPTR nPFC RC USB-C 3PIN</td>\n",
       "    </tr>\n",
       "    <tr>\n",
       "      <td>3</td>\n",
       "      <td>5039623744</td>\n",
       "      <td>CDAX</td>\n",
       "      <td>1</td>\n",
       "      <td>2019-11-05 15:47:24</td>\n",
       "      <td>2019-11-25</td>\n",
       "      <td>Closed</td>\n",
       "      <td>AMS</td>\n",
       "      <td>LA</td>\n",
       "      <td>Commercial</td>\n",
       "      <td>Personal Systems</td>\n",
       "      <td>Business PC Solutions</td>\n",
       "      <td>Commercial Compute</td>\n",
       "      <td>2ST02UT</td>\n",
       "      <td>0</td>\n",
       "      <td>05K-Extended Warranty</td>\n",
       "      <td>Phone</td>\n",
       "      <td>0</td>\n",
       "      <td>0</td>\n",
       "      <td>Onsite Solution</td>\n",
       "      <td>Subcontractor Onsite</td>\n",
       "      <td>0.0</td>\n",
       "      <td>0</td>\n",
       "      <td>TT/BENCH/5BD/450 G5/No power</td>\n",
       "      <td>NaN</td>\n",
       "      <td>NaN</td>\n",
       "      <td>0.0</td>\n",
       "      <td>1.0</td>\n",
       "      <td>0.0</td>\n",
       "      <td>Onsite</td>\n",
       "      <td>5CD824H7SH</td>\n",
       "      <td>1.0</td>\n",
       "      <td>NaN</td>\n",
       "      <td>1.0</td>\n",
       "      <td>FELU</td>\n",
       "      <td>Rollbar STD 1.0 -HP ProBook 450 G5</td>\n",
       "      <td>LLP_SC GSC CRA H PSG LAC</td>\n",
       "      <td>AA | 1B</td>\n",
       "      <td>0</td>\n",
       "      <td>Notebooks</td>\n",
       "      <td>NBD</td>\n",
       "      <td>carepack (X537TP4VC982)</td>\n",
       "      <td>2018-08-27</td>\n",
       "      <td>2021-08-26</td>\n",
       "      <td>Trade</td>\n",
       "      <td>MG/CY</td>\n",
       "      <td>HW Delivery</td>\n",
       "      <td>HP ProBook 450 G5 Notebook PC</td>\n",
       "      <td>HP ProBook 450 G5 Notebook PC</td>\n",
       "      <td>Active</td>\n",
       "      <td>NaN</td>\n",
       "      <td>NaN</td>\n",
       "      <td>2.0</td>\n",
       "      <td>0.0</td>\n",
       "      <td>0.0</td>\n",
       "      <td>0.0</td>\n",
       "      <td>0.0</td>\n",
       "      <td>2.0</td>\n",
       "      <td>1.0</td>\n",
       "      <td>NaN</td>\n",
       "      <td>Care-Pack</td>\n",
       "      <td>L00828-601</td>\n",
       "      <td>905644-001</td>\n",
       "      <td>0</td>\n",
       "      <td>power</td>\n",
       "      <td>wont_power_on</td>\n",
       "      <td>no_power_no_light_on_notebook</td>\n",
       "      <td>2019-11-25 17:12:17</td>\n",
       "      <td>-21</td>\n",
       "      <td>1</td>\n",
       "      <td>1.0</td>\n",
       "      <td>CDAX</td>\n",
       "      <td>WO-008962683</td>\n",
       "      <td>PO-112066305 - 1</td>\n",
       "      <td>2019-11-13 20:17:11</td>\n",
       "      <td>2019-11-13 23:00:00</td>\n",
       "      <td>905644-001</td>\n",
       "      <td>GNRC DCIN CAL50 8p 4.5mm 90W Reilly</td>\n",
       "      <td>1.0</td>\n",
       "      <td>73 - Used &amp; Consumed</td>\n",
       "      <td>905644-001</td>\n",
       "      <td>905644-001</td>\n",
       "      <td>NaN</td>\n",
       "      <td>Shipped</td>\n",
       "      <td>Cables</td>\n",
       "      <td>MECH</td>\n",
       "      <td>NaN</td>\n",
       "      <td>NaN</td>\n",
       "      <td>NaN</td>\n",
       "      <td>NaN</td>\n",
       "      <td>1.0</td>\n",
       "      <td>0.0</td>\n",
       "      <td>0.0</td>\n",
       "      <td>1.0</td>\n",
       "      <td>HP ProBook 450 Notebook PC series</td>\n",
       "      <td>6U</td>\n",
       "      <td>COMMERCIAL NOTEBOOKS</td>\n",
       "      <td>PwrSuply/Mains/Adptr</td>\n",
       "      <td>GNRC DCIN CAL50 8p 4.5mm 90W Reilly</td>\n",
       "    </tr>\n",
       "    <tr>\n",
       "      <td>4</td>\n",
       "      <td>5039632329</td>\n",
       "      <td>CDAX</td>\n",
       "      <td>1</td>\n",
       "      <td>2019-11-05 18:16:27</td>\n",
       "      <td>2019-11-08</td>\n",
       "      <td>Closed</td>\n",
       "      <td>AMS</td>\n",
       "      <td>LA</td>\n",
       "      <td>Commercial</td>\n",
       "      <td>Personal Systems</td>\n",
       "      <td>Business PC Solutions</td>\n",
       "      <td>Commercial Compute</td>\n",
       "      <td>4BW88UT</td>\n",
       "      <td>0</td>\n",
       "      <td>02N-Normal Warranty</td>\n",
       "      <td>Phone</td>\n",
       "      <td>0</td>\n",
       "      <td>0</td>\n",
       "      <td>Onsite Solution</td>\n",
       "      <td>Subcontractor Onsite</td>\n",
       "      <td>0.0</td>\n",
       "      <td>0</td>\n",
       "      <td>JM/ONS/NCD/400 G5 SFF/No hay video</td>\n",
       "      <td>NaN</td>\n",
       "      <td>NaN</td>\n",
       "      <td>0.0</td>\n",
       "      <td>1.0</td>\n",
       "      <td>0.0</td>\n",
       "      <td>Onsite</td>\n",
       "      <td>MXL9061H2P</td>\n",
       "      <td>1.0</td>\n",
       "      <td>NaN</td>\n",
       "      <td>1.0</td>\n",
       "      <td>FF3J</td>\n",
       "      <td>Saxtuba PDK 1.0 -HP ProDesk 400 G5 SFF</td>\n",
       "      <td>LLP_SC GSC CRA H PSG LAC</td>\n",
       "      <td>1B</td>\n",
       "      <td>0</td>\n",
       "      <td>Desktops</td>\n",
       "      <td>NBD</td>\n",
       "      <td>warranty (FR)</td>\n",
       "      <td>2019-04-26</td>\n",
       "      <td>2022-04-25</td>\n",
       "      <td>Warranty</td>\n",
       "      <td>BPS</td>\n",
       "      <td>HW Delivery</td>\n",
       "      <td>HP ProDesk 400 G5 Small Form Factor PC</td>\n",
       "      <td>HP ProDesk 400 G5 Small Form Factor PC</td>\n",
       "      <td>Active</td>\n",
       "      <td>NaN</td>\n",
       "      <td>NaN</td>\n",
       "      <td>1.0</td>\n",
       "      <td>0.0</td>\n",
       "      <td>0.0</td>\n",
       "      <td>0.0</td>\n",
       "      <td>0.0</td>\n",
       "      <td>1.0</td>\n",
       "      <td>0.0</td>\n",
       "      <td>NaN</td>\n",
       "      <td>Warranty</td>\n",
       "      <td>L05339-601</td>\n",
       "      <td>L05339-601</td>\n",
       "      <td>0</td>\n",
       "      <td>p.o.s.t_boot</td>\n",
       "      <td>boot_to_black_screen</td>\n",
       "      <td>display_p.o.s.t_symptomatic_issue_(no_boot)</td>\n",
       "      <td>2019-11-08 23:04:48</td>\n",
       "      <td>-4</td>\n",
       "      <td>1</td>\n",
       "      <td>1.0</td>\n",
       "      <td>CDAX</td>\n",
       "      <td>WO-008886519</td>\n",
       "      <td>PO-111945249 - 1</td>\n",
       "      <td>2019-11-05 18:24:05</td>\n",
       "      <td>2019-11-05 23:00:00</td>\n",
       "      <td>L05339-601</td>\n",
       "      <td>SPS-BD SYS ProDesk 400 G5 SFF WIN</td>\n",
       "      <td>1.0</td>\n",
       "      <td>73 - Used &amp; Consumed</td>\n",
       "      <td>L05339-601</td>\n",
       "      <td>L05339-601</td>\n",
       "      <td>NaN</td>\n",
       "      <td>Shipped</td>\n",
       "      <td>System Board</td>\n",
       "      <td>SYS/PROC BD</td>\n",
       "      <td>NaN</td>\n",
       "      <td>NaN</td>\n",
       "      <td>NaN</td>\n",
       "      <td>NaN</td>\n",
       "      <td>1.0</td>\n",
       "      <td>0.0</td>\n",
       "      <td>0.0</td>\n",
       "      <td>1.0</td>\n",
       "      <td>HP ProDesk 400 Desktop PC series</td>\n",
       "      <td>5U</td>\n",
       "      <td>COMMERCIAL DESKTOPS</td>\n",
       "      <td>PCA I/O</td>\n",
       "      <td>SPS-BD SYS ProDesk 400 G5 SFF WIN</td>\n",
       "    </tr>\n",
       "  </tbody>\n",
       "</table>\n",
       "</div>"
      ],
      "text/plain": [
       "      Case_ID Source_x  Event_Count         Created_Date Closed_Date  \\\n",
       "0  5039628069     CDAX            1  2019-11-05 16:56:12  2019-11-08   \n",
       "1  5039703165     CDAX            1  2019-11-06 20:25:08  2019-11-20   \n",
       "2  5039703165     CDAX            1  2019-11-06 20:25:08  2019-11-20   \n",
       "3  5039623744     CDAX            1  2019-11-05 15:47:24  2019-11-25   \n",
       "4  5039632329     CDAX            1  2019-11-05 18:16:27  2019-11-08   \n",
       "\n",
       "  Case_Status Region Sub_Region_1_Name Market_Segment  Business_Segment  \\\n",
       "0      Closed    AMS                LA     Commercial  Personal Systems   \n",
       "1      Closed    AMS                LA     Commercial  Personal Systems   \n",
       "2      Closed    AMS                LA     Commercial  Personal Systems   \n",
       "3      Closed    AMS                LA     Commercial  Personal Systems   \n",
       "4      Closed    AMS                LA     Commercial  Personal Systems   \n",
       "\n",
       "     Business_Subsegment Global_Business_Unit Product_Number  Premium_Flag  \\\n",
       "0  Business PC Solutions   Commercial Compute        1ZR97LT             0   \n",
       "1  Business PC Solutions   Commercial Compute        3WQ23EC             0   \n",
       "2  Business PC Solutions   Commercial Compute        3WQ23EC             0   \n",
       "3  Business PC Solutions   Commercial Compute        2ST02UT             0   \n",
       "4  Business PC Solutions   Commercial Compute        4BW88UT             0   \n",
       "\n",
       "                Case_OTC Incoming_Channel  DNAP_Flag  MPS_Flag  \\\n",
       "0  05K-Extended Warranty            Phone          0         0   \n",
       "1    05R-Normal Contract            Phone          0         0   \n",
       "2    05R-Normal Contract            Phone          0         0   \n",
       "3  05K-Extended Warranty            Phone          0         0   \n",
       "4    02N-Normal Warranty            Phone          0         0   \n",
       "\n",
       "   Case_Resolution  Delivery_Alternative  Irrelevant_Name  Complaint_Flag  \\\n",
       "0  Onsite Solution  Subcontractor Onsite              0.0               0   \n",
       "1    Parts Shipped                   CSR              0.0               0   \n",
       "2    Parts Shipped                   CSR              0.0               0   \n",
       "3  Onsite Solution  Subcontractor Onsite              0.0               0   \n",
       "4  Onsite Solution  Subcontractor Onsite              0.0               0   \n",
       "\n",
       "                                          Case_Subject  Rerepair30days  \\\n",
       "0  PE/ONS/NCD/440 G5/Problemas de teclado y stickpoint             NaN   \n",
       "1          BS/CSR/ONS/NCD/840 G5/Problemas de Cargador             1.0   \n",
       "2          BS/CSR/ONS/NCD/840 G5/Problemas de Cargador             1.0   \n",
       "3                         TT/BENCH/5BD/450 G5/No power             NaN   \n",
       "4                   JM/ONS/NCD/400 G5 SFF/No hay video             NaN   \n",
       "\n",
       "   Rerepair90days  CSR_Count  WO_Count  SO_Count Delivery_Motion  \\\n",
       "0             NaN        0.0       1.0       0.0          Onsite   \n",
       "1             1.0        2.0       0.0       0.0             CSR   \n",
       "2             1.0        2.0       0.0       0.0             CSR   \n",
       "3             NaN        0.0       1.0       0.0          Onsite   \n",
       "4             NaN        0.0       1.0       0.0          Onsite   \n",
       "\n",
       "  Serial_Number  Ops_Interventions  Onsite_Service_Events  CSR_Service_Events  \\\n",
       "0    5CD7517GR1                1.0                    NaN                 1.0   \n",
       "1    5CG83549K0                2.0                    2.0                 NaN   \n",
       "2    5CG83549K0                2.0                    2.0                 NaN   \n",
       "3    5CD824H7SH                1.0                    NaN                 1.0   \n",
       "4    MXL9061H2P                1.0                    NaN                 1.0   \n",
       "\n",
       "  Product_Family               Product_Family_Description  \\\n",
       "0           FELB       Ratchet STD 1.0 -HP ProBook 440 G5   \n",
       "1           FETR  Computron14 PRO 1.0 -EliteBook840/846G5   \n",
       "2           FETR  Computron14 PRO 1.0 -EliteBook840/846G5   \n",
       "3           FELU       Rollbar STD 1.0 -HP ProBook 450 G5   \n",
       "4           FF3J   Saxtuba PDK 1.0 -HP ProDesk 400 G5 SFF   \n",
       "\n",
       "       Created_By_Workgroup  QA_Code  ADP_Flag Market_SubSegment Service_Flag  \\\n",
       "0  LLP_SC GSC CRA H PSG LAC      NaN         0         Notebooks          NBD   \n",
       "1  LLP_SC GSC CRA H PSG LAC      NaN         0         Notebooks          NBD   \n",
       "2  LLP_SC GSC CRA H PSG LAC      NaN         0         Notebooks          NBD   \n",
       "3  LLP_SC GSC CRA H PSG LAC  AA | 1B         0         Notebooks          NBD   \n",
       "4  LLP_SC GSC CRA H PSG LAC       1B         0          Desktops          NBD   \n",
       "\n",
       "          Case_Entitlement Entitlement_Start_Date Entitlement_End_Date  \\\n",
       "0  carepack (XLS9B6M742C3)             2018-03-28           2021-03-27   \n",
       "1  contract (104898957774)             2018-10-01           2021-09-30   \n",
       "2  contract (104898957774)             2018-10-01           2021-09-30   \n",
       "3  carepack (X537TP4VC982)             2018-08-27           2021-08-26   \n",
       "4            warranty (FR)             2019-04-26           2022-04-25   \n",
       "\n",
       "  Executive_OTC Executive_Category    Case_Type  \\\n",
       "0         Trade              MG/CY  HW Delivery   \n",
       "1         Trade               6700  HW Delivery   \n",
       "2         Trade               6700  HW Delivery   \n",
       "3         Trade              MG/CY  HW Delivery   \n",
       "4      Warranty                BPS  HW Delivery   \n",
       "\n",
       "                      Product_Description  \\\n",
       "0           HP ProBook 440 G5 Notebook PC   \n",
       "1         HP EliteBook 840 G5 Notebook PC   \n",
       "2         HP EliteBook 840 G5 Notebook PC   \n",
       "3           HP ProBook 450 G5 Notebook PC   \n",
       "4  HP ProDesk 400 G5 Small Form Factor PC   \n",
       "\n",
       "                      Product_Series_Name Entitlement_Status  \\\n",
       "0           HP ProBook 440 G5 Notebook PC             Active   \n",
       "1         HP EliteBook 840 G5 Notebook PC             Active   \n",
       "2         HP EliteBook 840 G5 Notebook PC             Active   \n",
       "3           HP ProBook 450 G5 Notebook PC             Active   \n",
       "4  HP ProDesk 400 G5 Small Form Factor PC             Active   \n",
       "\n",
       "   More_Than_1Repair_Flag Operating_System_Name  Recommended_Parts  \\\n",
       "0                     NaN                   NaN                1.0   \n",
       "1                     1.0                   NaN                2.0   \n",
       "2                     1.0                   NaN                2.0   \n",
       "3                     NaN                   NaN                2.0   \n",
       "4                     NaN                   NaN                1.0   \n",
       "\n",
       "   Parts Canceled  DOA  Returned Good  Used & Not Consumed  Used & Consumed  \\\n",
       "0             0.0  0.0            0.0                  0.0              1.0   \n",
       "1             0.0  0.0            0.0                  0.0              2.0   \n",
       "2             0.0  0.0            0.0                  0.0              2.0   \n",
       "3             0.0  0.0            0.0                  0.0              2.0   \n",
       "4             0.0  0.0            0.0                  0.0              1.0   \n",
       "\n",
       "   No_Failure_Code  Parent_Case Entitlement_Type First_Part_Ordered  \\\n",
       "0              0.0          NaN        Care-Pack         L01072-161   \n",
       "1              0.0          NaN         Contract         860209-850   \n",
       "2              0.0          NaN         Contract         860209-850   \n",
       "3              1.0          NaN        Care-Pack         L00828-601   \n",
       "4              0.0          NaN         Warranty         L05339-601   \n",
       "\n",
       "  Last_Part_Ordered  Wrong_Parts_Recommendation_Flag  \\\n",
       "0        L01072-161                                0   \n",
       "1        860209-850                                0   \n",
       "2        860209-850                                0   \n",
       "3        905644-001                                0   \n",
       "4        L05339-601                                0   \n",
       "\n",
       "                           ip1                   ip2  \\\n",
       "0  input_output_device_hp_only              keyboard   \n",
       "1                        power         wont_power_on   \n",
       "2                        power         wont_power_on   \n",
       "3                        power         wont_power_on   \n",
       "4                 p.o.s.t_boot  boot_to_black_screen   \n",
       "\n",
       "                                           ip3    First_Closed_Date  \\\n",
       "0             some_keys_not_working_(keyboard)  2019-11-08 23:01:43   \n",
       "1                no_power_no_light_on_notebook  2019-11-20 17:52:52   \n",
       "2                no_power_no_light_on_notebook  2019-11-20 17:52:52   \n",
       "3                no_power_no_light_on_notebook  2019-11-25 17:12:17   \n",
       "4  display_p.o.s.t_symptomatic_issue_(no_boot)  2019-11-08 23:04:48   \n",
       "\n",
       "   Rerepair_days  Repair_days_le_90  FTF_plus_Maxrepair Source_y  \\\n",
       "0             -4                  1                 1.0     CDAX   \n",
       "1            -14                  1                 1.0     CDAX   \n",
       "2            -14                  1                 1.0     CDAX   \n",
       "3            -21                  1                 1.0     CDAX   \n",
       "4             -4                  1                 1.0     CDAX   \n",
       "\n",
       "           SubID Part_Order_Number         PO_Open_Date  Part_Requested_Date  \\\n",
       "0   WO-008885924  PO-111944361 - 1  2019-11-05 17:07:52  2019-11-05 23:00:00   \n",
       "1  CSR-101451186  PO-112022311 - 1  2019-11-11 14:27:33                  NaN   \n",
       "2  CSR-101445622  PO-111966797 - 1  2019-11-06 20:45:04                  NaN   \n",
       "3   WO-008962683  PO-112066305 - 1  2019-11-13 20:17:11  2019-11-13 23:00:00   \n",
       "4   WO-008886519  PO-111945249 - 1  2019-11-05 18:24:05  2019-11-05 23:00:00   \n",
       "\n",
       "  Part_Number        Part_Order_Detail_Description  Selected_Quantity  \\\n",
       "0  L01072-161                  SPS-KBD CP SR CHILE                1.0   \n",
       "1  860209-850    GNRC-65W ADPTR nPFC RC USB-C 3PIN                1.0   \n",
       "2  860209-850    GNRC-65W ADPTR nPFC RC USB-C 3PIN                1.0   \n",
       "3  905644-001  GNRC DCIN CAL50 8p 4.5mm 90W Reilly                1.0   \n",
       "4  L05339-601    SPS-BD SYS ProDesk 400 G5 SFF WIN                1.0   \n",
       "\n",
       "           Failure_Code Original_Part_Number Offered_Part_Number  \\\n",
       "0  73 - Used & Consumed           L01072-161          L01072-161   \n",
       "1  73 - Used & Consumed                  NaN          860209-850   \n",
       "2  73 - Used & Consumed                  NaN          860209-850   \n",
       "3  73 - Used & Consumed           905644-001          905644-001   \n",
       "4  73 - Used & Consumed           L05339-601          L05339-601   \n",
       "\n",
       "  Part_Delivered Part_Status   Subassembly    Subsystem  \\\n",
       "0            NaN     Shipped      Keyboard   I/O DEVICE   \n",
       "1            NaN     Shipped    AC Adapter        POWER   \n",
       "2            NaN     Shipped    AC Adapter        POWER   \n",
       "3            NaN     Shipped        Cables         MECH   \n",
       "4            NaN     Shipped  System Board  SYS/PROC BD   \n",
       "\n",
       "   RR90_Same_Part_Number_Flag  RR90_Same_Commodity_Flag  \\\n",
       "0                         NaN                       NaN   \n",
       "1                         NaN                       NaN   \n",
       "2                         NaN                       NaN   \n",
       "3                         NaN                       NaN   \n",
       "4                         NaN                       NaN   \n",
       "\n",
       "   RR30_Same_Part_Number_Flag  RR30_Same_Commodity_Flag  Consumed_Flag1  \\\n",
       "0                         NaN                       NaN             1.0   \n",
       "1                         NaN                       NaN             1.0   \n",
       "2                         NaN                       NaN             1.0   \n",
       "3                         NaN                       NaN             1.0   \n",
       "4                         NaN                       NaN             1.0   \n",
       "\n",
       "   Consumed_Flag2  Remote_Flag  Repair_Flag  \\\n",
       "0             0.0          0.0          1.0   \n",
       "1             0.0          0.0          1.0   \n",
       "2             0.0          0.0          1.0   \n",
       "3             0.0          0.0          1.0   \n",
       "4             0.0          0.0          1.0   \n",
       "\n",
       "                             Product_Big_Series_Name Product_Line_Code_Name  \\\n",
       "0            HP ProBook 440 G5 Notebook PC (Ratchet)                     6U   \n",
       "1  HP EliteBook 840/846 G5 Notebook PC (Computron14)                     AN   \n",
       "2  HP EliteBook 840/846 G5 Notebook PC (Computron14)                     AN   \n",
       "3                  HP ProBook 450 Notebook PC series                     6U   \n",
       "4                   HP ProDesk 400 Desktop PC series                     5U   \n",
       "\n",
       "    PL_Product_Category        part_commodity  \\\n",
       "0  COMMERCIAL NOTEBOOKS              Keyboard   \n",
       "1  COMMERCIAL NOTEBOOKS  PwrSuply/Mains/Adptr   \n",
       "2  COMMERCIAL NOTEBOOKS  PwrSuply/Mains/Adptr   \n",
       "3  COMMERCIAL NOTEBOOKS  PwrSuply/Mains/Adptr   \n",
       "4   COMMERCIAL DESKTOPS               PCA I/O   \n",
       "\n",
       "                      part_description  \n",
       "0                  SPS-KBD CP SR CHILE  \n",
       "1    GNRC-65W ADPTR nPFC RC USB-C 3PIN  \n",
       "2    GNRC-65W ADPTR nPFC RC USB-C 3PIN  \n",
       "3  GNRC DCIN CAL50 8p 4.5mm 90W Reilly  \n",
       "4    SPS-BD SYS ProDesk 400 G5 SFF WIN  "
      ]
     },
     "execution_count": 186,
     "metadata": {},
     "output_type": "execute_result"
    }
   ],
   "source": [
    "df_model['Closed_Date'] = pd.to_datetime(df_model['Closed_Date']).dt.strftime(\"%Y-%m-%d\")\n",
    "df_model.head()"
   ]
  },
  {
   "cell_type": "code",
   "execution_count": 187,
   "metadata": {},
   "outputs": [],
   "source": [
    "#df_model['Market_SubSegment'].value_counts()"
   ]
  },
  {
   "cell_type": "code",
   "execution_count": 188,
   "metadata": {},
   "outputs": [],
   "source": [
    "\n",
    "df_model = df_model[df_model['Closed_Date']>='2019-11-01']\n",
    "df_model = df_model[df_model['Closed_Date']<'2021-02-01']"
   ]
  },
  {
   "cell_type": "code",
   "execution_count": 189,
   "metadata": {},
   "outputs": [
    {
     "data": {
      "text/plain": [
       "('2019-11-06', '2021-01-30')"
      ]
     },
     "execution_count": 189,
     "metadata": {},
     "output_type": "execute_result"
    }
   ],
   "source": [
    "df_model.Closed_Date.min(), df_model.Closed_Date.max()"
   ]
  },
  {
   "cell_type": "code",
   "execution_count": 190,
   "metadata": {},
   "outputs": [],
   "source": [
    "#Case OTC filtering\n",
    "#df_model = df_model[df_model['Case_OTC'].isin(\n",
    "#    ['02N-Normal Warranty','05K-Extended Warranty','00E-No Entitlement','05D-ADP Coverage',\n",
    "#     '05R-Normal Contract','00C-Claims Contract','01-Trade','00W-Claims Warranty'])]"
   ]
  },
  {
   "cell_type": "code",
   "execution_count": 191,
   "metadata": {},
   "outputs": [],
   "source": [
    "#Case Resolution filtering\n",
    "df_model = df_model[~(df_model['Case_Resolution'].isin(['Cancel per Customer','Case Voided','Duplicate Case']))]"
   ]
  },
  {
   "cell_type": "code",
   "execution_count": 192,
   "metadata": {},
   "outputs": [],
   "source": [
    "df_model = df_model[df_model['Delivery_Motion'].isin(['Onsite','CSR'])]"
   ]
  },
  {
   "cell_type": "code",
   "execution_count": 193,
   "metadata": {},
   "outputs": [],
   "source": [
    "df_model = df_model[df_model['Incoming_Channel'].isin(['Phone'])]"
   ]
  },
  {
   "cell_type": "code",
   "execution_count": 194,
   "metadata": {},
   "outputs": [],
   "source": [
    "df_model = df_model[df_model['Market_SubSegment']=='Notebooks']"
   ]
  },
  {
   "cell_type": "code",
   "execution_count": 195,
   "metadata": {},
   "outputs": [
    {
     "name": "stdout",
     "output_type": "stream",
     "text": [
      "PCA I/O                 409\n",
      "Keyboard                406\n",
      "Hard Drive              233\n",
      "Battery                 217\n",
      "PwrSuply/Mains/Adptr    146\n",
      "Display                 110\n",
      "Fan/Motor                87\n",
      "Solid State Drive        74\n",
      "Cable/Adaptr/PwrCord     73\n",
      "Human Input Device       48\n",
      "Chassis/Enclosure        48\n",
      "Memory/Firmware          40\n",
      "Misc Hardware            36\n",
      "PCA Misc                 34\n",
      "Electronic Component     28\n",
      "PCA Network               7\n",
      "Scanner Assy              2\n",
      "Removable Media           1\n",
      "Optical Drive             1\n",
      "CPU                       1\n",
      "Name: part_commodity, dtype: int64\n"
     ]
    }
   ],
   "source": [
    "print(df_model.part_commodity.value_counts())"
   ]
  },
  {
   "cell_type": "code",
   "execution_count": 196,
   "metadata": {},
   "outputs": [
    {
     "data": {
      "text/plain": [
       "((2006, 98), 5)"
      ]
     },
     "execution_count": 196,
     "metadata": {},
     "output_type": "execute_result"
    }
   ],
   "source": [
    "#Data cleaning on Part number to be done\n",
    "df_model.shape, df_model.part_commodity.isna().sum()"
   ]
  },
  {
   "cell_type": "code",
   "execution_count": 197,
   "metadata": {},
   "outputs": [
    {
     "name": "stdout",
     "output_type": "stream",
     "text": [
      "(2006, 98)\n"
     ]
    }
   ],
   "source": [
    "#df_model = df_model[df_model['Used & Consumed']<=3]\n",
    "print(df_model.shape)"
   ]
  },
  {
   "cell_type": "code",
   "execution_count": 198,
   "metadata": {},
   "outputs": [
    {
     "data": {
      "text/plain": [
       "(2001, 98)"
      ]
     },
     "execution_count": 198,
     "metadata": {},
     "output_type": "execute_result"
    }
   ],
   "source": [
    "df_model = df_model[~(df_model['part_commodity'].isna())]\n",
    "df_model = df_model[df_model['part_commodity']!='NULL']\n",
    "df_model.shape"
   ]
  },
  {
   "cell_type": "code",
   "execution_count": 199,
   "metadata": {},
   "outputs": [
    {
     "name": "stdout",
     "output_type": "stream",
     "text": [
      "['PCA Network', 'Scanner Assy', 'Removable Media', 'Optical Drive', 'CPU']\n",
      "(1989, 98)\n"
     ]
    }
   ],
   "source": [
    "threshold=0.995\n",
    "cumsum_comm = df_model.part_commodity.value_counts(normalize=True).cumsum()<threshold\n",
    "comm_idx = len(cumsum_comm[cumsum_comm > threshold])\n",
    "comm_name = list(cumsum_comm.iloc[comm_idx:].index)\n",
    "print(comm_name)\n",
    "df_model = df_model[~(df_model['part_commodity'].isin(comm_name))]\n",
    "print(df_model.shape)"
   ]
  },
  {
   "cell_type": "markdown",
   "metadata": {},
   "source": [
    "#### Case subject refinement"
   ]
  },
  {
   "cell_type": "code",
   "execution_count": 200,
   "metadata": {},
   "outputs": [
    {
     "data": {
      "text/plain": [
       "\"\\nchars = string.ascii_lowercase\\n#df_model = df.copy()\\ndf_model = df_model.dropna(subset=['Case_Subject'])\\ndf_model['case_subject_refined'] = df_model['Case_Subject'].apply(lambda x: str(x).strip().lower())\\n\\ndf_model['case_subject_refined'] = df_model['case_subject_refined'].apply(lambda x: re.sub('\\\\s+',' ',x))\\ndf_model['case_subject_refined'] = df_model['case_subject_refined'].apply(lambda x: re.sub('\\\\/*\\\\s*$',' ',x))\\ndf_model['case_subject_refined'] = df_model['case_subject_refined'].apply(lambda x: x.split(r'/')[-1])\\n#df_model['case_subject_refined'] = df_model['case_subject_refined'].apply(lambda x: x.split(r'-')[-1])\\ndf_model['case_subject_refined'] = df_model['case_subject_refined'].apply(lambda x: ''.join([char if char in chars else ' ' for char in x ]))\\n#df_model['case_subject_refined'] = df_model['case_subject_refined'].apply(lambda x: ' '.join([stemmer.stem(word) for word in x.split() if len(word)>2]))\\ndf_model['case_subject_refined'] = df_model['case_subject_refined'].apply(lambda x: ' '.join([word for word in x.split() if len(word)>=2]))\\n#df_model.head()\\n\""
      ]
     },
     "execution_count": 200,
     "metadata": {},
     "output_type": "execute_result"
    }
   ],
   "source": [
    "'''\n",
    "chars = string.ascii_lowercase\n",
    "#df_model = df.copy()\n",
    "df_model = df_model.dropna(subset=['Case_Subject'])\n",
    "df_model['case_subject_refined'] = df_model['Case_Subject'].apply(lambda x: str(x).strip().lower())\n",
    "\n",
    "df_model['case_subject_refined'] = df_model['case_subject_refined'].apply(lambda x: re.sub('\\s+',' ',x))\n",
    "df_model['case_subject_refined'] = df_model['case_subject_refined'].apply(lambda x: re.sub('\\/*\\s*$',' ',x))\n",
    "df_model['case_subject_refined'] = df_model['case_subject_refined'].apply(lambda x: x.split(r'/')[-1])\n",
    "#df_model['case_subject_refined'] = df_model['case_subject_refined'].apply(lambda x: x.split(r'-')[-1])\n",
    "df_model['case_subject_refined'] = df_model['case_subject_refined'].apply(lambda x: ''.join([char if char in chars else ' ' for char in x ]))\n",
    "#df_model['case_subject_refined'] = df_model['case_subject_refined'].apply(lambda x: ' '.join([stemmer.stem(word) for word in x.split() if len(word)>2]))\n",
    "df_model['case_subject_refined'] = df_model['case_subject_refined'].apply(lambda x: ' '.join([word for word in x.split() if len(word)>=2]))\n",
    "#df_model.head()\n",
    "'''"
   ]
  },
  {
   "cell_type": "code",
   "execution_count": 201,
   "metadata": {},
   "outputs": [],
   "source": [
    "chars = string.ascii_lowercase\n",
    "df_model['case_subject_refined'] = df_model['Case_Subject'].apply(lambda x: str(x).strip().lower())\n",
    "\n",
    "df_model['case_subject_refined'] = df_model['case_subject_refined'].apply(lambda x: re.sub('\\s+',' ',x))\n",
    "df_model['case_subject_refined'] = df_model['case_subject_refined'].apply(lambda x: re.sub('\\/*\\s*$',' ',x))\n",
    "df_model['case_subject_refined'] = df_model['case_subject_refined'].apply(lambda x: ' '.join([x.split(r'/')[-2],x.split(r'/')[-1]]) if len(x.split(r'/'))>2 else x.split(r'/')[-1])\n",
    "df_model['case_subject_refined'] = df_model['case_subject_refined'].apply(lambda x: ''.join([char if char in chars else ' ' for char in x ]))\n",
    "df_model['case_subject_refined'] = df_model['case_subject_refined'].apply(lambda x: ' '.join([word for word in x.split() if len(word)>=2]))\n"
   ]
  },
  {
   "cell_type": "code",
   "execution_count": 202,
   "metadata": {},
   "outputs": [
    {
     "data": {
      "text/html": [
       "<div>\n",
       "<style scoped>\n",
       "    .dataframe tbody tr th:only-of-type {\n",
       "        vertical-align: middle;\n",
       "    }\n",
       "\n",
       "    .dataframe tbody tr th {\n",
       "        vertical-align: top;\n",
       "    }\n",
       "\n",
       "    .dataframe thead th {\n",
       "        text-align: right;\n",
       "    }\n",
       "</style>\n",
       "<table border=\"1\" class=\"dataframe\">\n",
       "  <thead>\n",
       "    <tr style=\"text-align: right;\">\n",
       "      <th></th>\n",
       "      <th>Case_Subject</th>\n",
       "      <th>case_subject_refined</th>\n",
       "    </tr>\n",
       "  </thead>\n",
       "  <tbody>\n",
       "    <tr>\n",
       "      <td>0</td>\n",
       "      <td>PE/ONS/NCD/440 G5/Problemas de teclado y stickpoint</td>\n",
       "      <td>problemas de teclado stickpoint</td>\n",
       "    </tr>\n",
       "    <tr>\n",
       "      <td>1</td>\n",
       "      <td>BS/CSR/ONS/NCD/840 G5/Problemas de Cargador</td>\n",
       "      <td>problemas de cargador</td>\n",
       "    </tr>\n",
       "    <tr>\n",
       "      <td>2</td>\n",
       "      <td>BS/CSR/ONS/NCD/840 G5/Problemas de Cargador</td>\n",
       "      <td>problemas de cargador</td>\n",
       "    </tr>\n",
       "    <tr>\n",
       "      <td>3</td>\n",
       "      <td>TT/BENCH/5BD/450 G5/No power</td>\n",
       "      <td>no power</td>\n",
       "    </tr>\n",
       "    <tr>\n",
       "      <td>5</td>\n",
       "      <td>MX/ONS/NCD/840 G5/Problemas de teclado y stickpoint</td>\n",
       "      <td>problemas de teclado stickpoint</td>\n",
       "    </tr>\n",
       "  </tbody>\n",
       "</table>\n",
       "</div>"
      ],
      "text/plain": [
       "                                          Case_Subject  \\\n",
       "0  PE/ONS/NCD/440 G5/Problemas de teclado y stickpoint   \n",
       "1          BS/CSR/ONS/NCD/840 G5/Problemas de Cargador   \n",
       "2          BS/CSR/ONS/NCD/840 G5/Problemas de Cargador   \n",
       "3                         TT/BENCH/5BD/450 G5/No power   \n",
       "5  MX/ONS/NCD/840 G5/Problemas de teclado y stickpoint   \n",
       "\n",
       "              case_subject_refined  \n",
       "0  problemas de teclado stickpoint  \n",
       "1            problemas de cargador  \n",
       "2            problemas de cargador  \n",
       "3                         no power  \n",
       "5  problemas de teclado stickpoint  "
      ]
     },
     "execution_count": 202,
     "metadata": {},
     "output_type": "execute_result"
    }
   ],
   "source": [
    "df_model[['Case_Subject','case_subject_refined']].head()"
   ]
  },
  {
   "cell_type": "markdown",
   "metadata": {},
   "source": [
    "#### Feature Engineering"
   ]
  },
  {
   "cell_type": "code",
   "execution_count": 203,
   "metadata": {},
   "outputs": [],
   "source": [
    "df_model['Entitlement_Start_Date'] = pd.to_datetime(df_model['Entitlement_Start_Date'])\n",
    "df_model['Entitlement_End_Date'] = pd.to_datetime(df_model['Entitlement_End_Date'])\n",
    "df_model['Created_Date'] = pd.to_datetime(df_model['Created_Date'])\n",
    "df_model['Closed_Date'] = pd.to_datetime(df_model['Closed_Date'])\n",
    "df_model['Entitlement_Age_from_start'] = ((df_model.Created_Date - df_model.Entitlement_Start_Date)/np.timedelta64(1,'M')).fillna(0).astype('int')\n",
    "df_model['Entitlement_Age_from_end'] = ((df_model.Created_Date - df_model.Entitlement_End_Date)/np.timedelta64(1,'M')).fillna(0).astype('int')\n",
    "\n",
    "df_model['Closed_Date'] = df_model.Closed_Date.dt.strftime('%Y%m').astype('int')"
   ]
  },
  {
   "cell_type": "markdown",
   "metadata": {},
   "source": [
    "#### Feature Selection"
   ]
  },
  {
   "cell_type": "code",
   "execution_count": 204,
   "metadata": {},
   "outputs": [],
   "source": [
    "#Ignored Incomming_Channel\n",
    "final_features = ['Case_ID','Product_Big_Series_Name', 'Product_Line_Code_Name', 'PL_Product_Category', 'Product_Number','Used & Consumed','Failure_Code'\n",
    "                  ,'Recommended_Parts','Serial_Number','Entitlement_Type','Entitlement_Age_from_start','Entitlement_Age_from_end','Entitlement_Status','case_subject_refined','Closed_Date','part_commodity',\n",
    "                 'ip1','ip2','ip3']\n",
    "\n",
    "\n",
    "df_final2 = df_model[final_features]"
   ]
  },
  {
   "cell_type": "code",
   "execution_count": 205,
   "metadata": {},
   "outputs": [
    {
     "data": {
      "text/plain": [
       "Case_ID                        0\n",
       "Product_Big_Series_Name       19\n",
       "Product_Line_Code_Name        19\n",
       "PL_Product_Category           19\n",
       "Product_Number                 0\n",
       "Used & Consumed                0\n",
       "Failure_Code                   0\n",
       "Recommended_Parts              0\n",
       "Serial_Number                  0\n",
       "Entitlement_Type               3\n",
       "Entitlement_Age_from_start     0\n",
       "Entitlement_Age_from_end       0\n",
       "Entitlement_Status             3\n",
       "case_subject_refined           0\n",
       "Closed_Date                    0\n",
       "part_commodity                 0\n",
       "ip1                            0\n",
       "ip2                            1\n",
       "ip3                            1\n",
       "dtype: int64"
      ]
     },
     "execution_count": 205,
     "metadata": {},
     "output_type": "execute_result"
    }
   ],
   "source": [
    "df_final2.isna().sum()"
   ]
  },
  {
   "cell_type": "code",
   "execution_count": 206,
   "metadata": {},
   "outputs": [
    {
     "name": "stderr",
     "output_type": "stream",
     "text": [
      "C:\\ProgramData\\Anaconda3\\lib\\site-packages\\ipykernel_launcher.py:1: SettingWithCopyWarning: \n",
      "A value is trying to be set on a copy of a slice from a DataFrame.\n",
      "Try using .loc[row_indexer,col_indexer] = value instead\n",
      "\n",
      "See the caveats in the documentation: http://pandas.pydata.org/pandas-docs/stable/user_guide/indexing.html#returning-a-view-versus-a-copy\n",
      "  \"\"\"Entry point for launching an IPython kernel.\n",
      "C:\\ProgramData\\Anaconda3\\lib\\site-packages\\ipykernel_launcher.py:2: SettingWithCopyWarning: \n",
      "A value is trying to be set on a copy of a slice from a DataFrame.\n",
      "Try using .loc[row_indexer,col_indexer] = value instead\n",
      "\n",
      "See the caveats in the documentation: http://pandas.pydata.org/pandas-docs/stable/user_guide/indexing.html#returning-a-view-versus-a-copy\n",
      "  \n"
     ]
    }
   ],
   "source": [
    "df_final2['Product_Big_Series_Name'] = df_final2['Product_Big_Series_Name'].str.lower()\n",
    "df_final2['PL_Product_Category'] = df_final2['PL_Product_Category'].str.lower()"
   ]
  },
  {
   "cell_type": "code",
   "execution_count": 207,
   "metadata": {},
   "outputs": [
    {
     "name": "stderr",
     "output_type": "stream",
     "text": [
      "C:\\ProgramData\\Anaconda3\\lib\\site-packages\\ipykernel_launcher.py:1: SettingWithCopyWarning: \n",
      "A value is trying to be set on a copy of a slice from a DataFrame.\n",
      "Try using .loc[row_indexer,col_indexer] = value instead\n",
      "\n",
      "See the caveats in the documentation: http://pandas.pydata.org/pandas-docs/stable/user_guide/indexing.html#returning-a-view-versus-a-copy\n",
      "  \"\"\"Entry point for launching an IPython kernel.\n",
      "C:\\ProgramData\\Anaconda3\\lib\\site-packages\\ipykernel_launcher.py:2: SettingWithCopyWarning: \n",
      "A value is trying to be set on a copy of a slice from a DataFrame.\n",
      "Try using .loc[row_indexer,col_indexer] = value instead\n",
      "\n",
      "See the caveats in the documentation: http://pandas.pydata.org/pandas-docs/stable/user_guide/indexing.html#returning-a-view-versus-a-copy\n",
      "  \n",
      "C:\\ProgramData\\Anaconda3\\lib\\site-packages\\ipykernel_launcher.py:3: SettingWithCopyWarning: \n",
      "A value is trying to be set on a copy of a slice from a DataFrame.\n",
      "Try using .loc[row_indexer,col_indexer] = value instead\n",
      "\n",
      "See the caveats in the documentation: http://pandas.pydata.org/pandas-docs/stable/user_guide/indexing.html#returning-a-view-versus-a-copy\n",
      "  This is separate from the ipykernel package so we can avoid doing imports until\n",
      "C:\\ProgramData\\Anaconda3\\lib\\site-packages\\ipykernel_launcher.py:4: SettingWithCopyWarning: \n",
      "A value is trying to be set on a copy of a slice from a DataFrame.\n",
      "Try using .loc[row_indexer,col_indexer] = value instead\n",
      "\n",
      "See the caveats in the documentation: http://pandas.pydata.org/pandas-docs/stable/user_guide/indexing.html#returning-a-view-versus-a-copy\n",
      "  after removing the cwd from sys.path.\n",
      "C:\\ProgramData\\Anaconda3\\lib\\site-packages\\ipykernel_launcher.py:5: SettingWithCopyWarning: \n",
      "A value is trying to be set on a copy of a slice from a DataFrame.\n",
      "Try using .loc[row_indexer,col_indexer] = value instead\n",
      "\n",
      "See the caveats in the documentation: http://pandas.pydata.org/pandas-docs/stable/user_guide/indexing.html#returning-a-view-versus-a-copy\n",
      "  \"\"\"\n"
     ]
    },
    {
     "data": {
      "text/plain": [
       "Case_ID                       0\n",
       "Product_Big_Series_Name       0\n",
       "Product_Line_Code_Name        0\n",
       "PL_Product_Category           0\n",
       "Product_Number                0\n",
       "Used & Consumed               0\n",
       "Failure_Code                  0\n",
       "Recommended_Parts             0\n",
       "Serial_Number                 0\n",
       "Entitlement_Type              0\n",
       "Entitlement_Age_from_start    0\n",
       "Entitlement_Age_from_end      0\n",
       "Entitlement_Status            0\n",
       "case_subject_refined          0\n",
       "Closed_Date                   0\n",
       "part_commodity                0\n",
       "ip1                           0\n",
       "ip2                           1\n",
       "ip3                           1\n",
       "dtype: int64"
      ]
     },
     "execution_count": 207,
     "metadata": {},
     "output_type": "execute_result"
    }
   ],
   "source": [
    "df_final2['Product_Big_Series_Name'] = df_final2['Product_Big_Series_Name'].fillna('Others')\n",
    "df_final2['Product_Line_Code_Name'] = df_final2['Product_Line_Code_Name'].fillna('Others')\n",
    "df_final2['PL_Product_Category'] = df_final2['PL_Product_Category'].fillna('Others')\n",
    "df_final2['Entitlement_Type'] = df_final2['Entitlement_Type'].fillna('Others')\n",
    "df_final2['Entitlement_Status'] = df_final2['Entitlement_Type'].fillna('Others')\n",
    "df_final2 = df_final2.dropna(subset=['Used & Consumed'])\n",
    "df_final2.isna().sum()"
   ]
  },
  {
   "cell_type": "code",
   "execution_count": 208,
   "metadata": {},
   "outputs": [
    {
     "name": "stdout",
     "output_type": "stream",
     "text": [
      "(1989, 19)\n"
     ]
    },
    {
     "data": {
      "text/plain": [
       "(1989, 19)"
      ]
     },
     "execution_count": 208,
     "metadata": {},
     "output_type": "execute_result"
    }
   ],
   "source": [
    "print(df_final2.shape)\n",
    "df_final2 = df_final2[~(df_final2['Product_Big_Series_Name'].str.contains('printer|printers|supplies',case=False,regex=True))]\n",
    "df_final2 = df_final2[~(df_final2['PL_Product_Category'].str.contains('printer|supplies|laser',case=False,regex=True))]\n",
    "df_final2.shape"
   ]
  },
  {
   "cell_type": "code",
   "execution_count": 209,
   "metadata": {},
   "outputs": [
    {
     "data": {
      "text/plain": [
       "commercial notebooks      0.946204\n",
       "mobile workstations       0.979387\n",
       "commercial accessories    0.990447\n",
       "Others                    1.000000\n",
       "Name: PL_Product_Category, dtype: float64"
      ]
     },
     "execution_count": 209,
     "metadata": {},
     "output_type": "execute_result"
    }
   ],
   "source": [
    "df_final2.PL_Product_Category.value_counts(normalize=True).cumsum()"
   ]
  },
  {
   "cell_type": "markdown",
   "metadata": {},
   "source": [
    "#### Dimensionality reduction on part number"
   ]
  },
  {
   "cell_type": "code",
   "execution_count": 210,
   "metadata": {},
   "outputs": [
    {
     "data": {
      "text/plain": [
       "601"
      ]
     },
     "execution_count": 210,
     "metadata": {},
     "output_type": "execute_result"
    }
   ],
   "source": [
    "pn_to_remove = df_final2.groupby(by=['Product_Number'])['Product_Line_Code_Name'].count().reset_index()\n",
    "pn_remove = pn_to_remove[pn_to_remove['Product_Line_Code_Name']<10]['Product_Number'].unique().tolist()\n",
    "final_pn_to_remove = ['Product_Number_'+x for x in pn_remove]\n",
    "len(final_pn_to_remove)"
   ]
  },
  {
   "cell_type": "markdown",
   "metadata": {},
   "source": [
    "#### Label encoding on Commodity"
   ]
  },
  {
   "cell_type": "code",
   "execution_count": 211,
   "metadata": {},
   "outputs": [
    {
     "name": "stdout",
     "output_type": "stream",
     "text": [
      "<class 'pandas.core.frame.DataFrame'>\n",
      "Int64Index: 1989 entries, 0 to 3136\n",
      "Data columns (total 20 columns):\n",
      "Case_ID                       1989 non-null int64\n",
      "Product_Big_Series_Name       1989 non-null object\n",
      "Product_Line_Code_Name        1989 non-null object\n",
      "PL_Product_Category           1989 non-null object\n",
      "Product_Number                1989 non-null object\n",
      "Used & Consumed               1989 non-null float64\n",
      "Failure_Code                  1989 non-null object\n",
      "Recommended_Parts             1989 non-null float64\n",
      "Serial_Number                 1989 non-null object\n",
      "Entitlement_Type              1989 non-null object\n",
      "Entitlement_Age_from_start    1989 non-null int32\n",
      "Entitlement_Age_from_end      1989 non-null int32\n",
      "Entitlement_Status            1989 non-null object\n",
      "case_subject_refined          1989 non-null object\n",
      "Closed_Date                   1989 non-null int32\n",
      "part_commodity                1989 non-null int64\n",
      "ip1                           1989 non-null object\n",
      "ip2                           1988 non-null object\n",
      "ip3                           1988 non-null object\n",
      "commodity                     1989 non-null object\n",
      "dtypes: float64(2), int32(3), int64(2), object(13)\n",
      "memory usage: 303.0+ KB\n",
      "None\n"
     ]
    }
   ],
   "source": [
    "from sklearn.preprocessing import LabelEncoder\n",
    "label_encoder = LabelEncoder()\n",
    "y = df_final2['part_commodity']\n",
    "df_final2['commodity'] = df_final2['part_commodity']\n",
    "df_final2['part_commodity'] = label_encoder.fit_transform(df_final2['part_commodity'])\n",
    "print(df_final2.info())"
   ]
  },
  {
   "cell_type": "code",
   "execution_count": 212,
   "metadata": {},
   "outputs": [],
   "source": [
    "pickle.dump(label_encoder,open(f'F:\\Part_Reco\\Part_reco_regionwise\\models\\lbl_encoder_{current_region}.pkl','wb'))"
   ]
  },
  {
   "cell_type": "markdown",
   "metadata": {},
   "source": [
    "### Inclusion of ip data"
   ]
  },
  {
   "cell_type": "code",
   "execution_count": 213,
   "metadata": {},
   "outputs": [
    {
     "name": "stdout",
     "output_type": "stream",
     "text": [
      "<class 'pandas.core.frame.DataFrame'>\n",
      "Int64Index: 1989 entries, 0 to 3136\n",
      "Data columns (total 20 columns):\n",
      "Case_ID                       1989 non-null int64\n",
      "Product_Big_Series_Name       1989 non-null object\n",
      "Product_Line_Code_Name        1989 non-null object\n",
      "PL_Product_Category           1989 non-null object\n",
      "Product_Number                1989 non-null object\n",
      "Used & Consumed               1989 non-null float64\n",
      "Failure_Code                  1989 non-null object\n",
      "Recommended_Parts             1989 non-null float64\n",
      "Serial_Number                 1989 non-null object\n",
      "Entitlement_Type              1989 non-null object\n",
      "Entitlement_Age_from_start    1989 non-null int32\n",
      "Entitlement_Age_from_end      1989 non-null int32\n",
      "Entitlement_Status            1989 non-null object\n",
      "case_subject_refined          1989 non-null object\n",
      "Closed_Date                   1989 non-null int32\n",
      "part_commodity                1989 non-null int64\n",
      "ip1                           1989 non-null object\n",
      "ip2                           1988 non-null object\n",
      "ip3                           1988 non-null object\n",
      "commodity                     1989 non-null object\n",
      "dtypes: float64(2), int32(3), int64(2), object(13)\n",
      "memory usage: 303.0+ KB\n"
     ]
    }
   ],
   "source": [
    "df_final2.info()"
   ]
  },
  {
   "cell_type": "code",
   "execution_count": 214,
   "metadata": {},
   "outputs": [
    {
     "name": "stdout",
     "output_type": "stream",
     "text": [
      "(1989, 20)\n",
      "(1989, 33)\n"
     ]
    }
   ],
   "source": [
    "print(df_final2.shape)\n",
    "multilabel = pd.get_dummies(df_final2['commodity'])\n",
    "df_final_ip = pd.concat([df_final2,multilabel], axis=1)\n",
    "df_final_ip = df_final_ip.drop(columns=['part_commodity','commodity'])\n",
    "print(df_final_ip.shape)"
   ]
  },
  {
   "cell_type": "code",
   "execution_count": 215,
   "metadata": {},
   "outputs": [],
   "source": [
    "#list(multilabel.columns)\n",
    "df_multilabel = df_final_ip.groupby(by=['Case_ID'])[multilabel.columns].sum()\n",
    "for column in df_multilabel.columns:\n",
    "    df_multilabel.loc[df_multilabel[column]>1,column] = 1\n",
    "    \n",
    "df_multilabel = df_multilabel.reset_index()"
   ]
  },
  {
   "cell_type": "code",
   "execution_count": 216,
   "metadata": {},
   "outputs": [
    {
     "data": {
      "text/plain": [
       "(1989, 18)"
      ]
     },
     "execution_count": 216,
     "metadata": {},
     "output_type": "execute_result"
    }
   ],
   "source": [
    "df_final_ip = df_final_ip.drop(columns=list(multilabel.columns))\n",
    "df_final_ip.shape"
   ]
  },
  {
   "cell_type": "code",
   "execution_count": 217,
   "metadata": {},
   "outputs": [
    {
     "data": {
      "text/plain": [
       "(1989, 33)"
      ]
     },
     "execution_count": 217,
     "metadata": {},
     "output_type": "execute_result"
    }
   ],
   "source": [
    "df_final_ip = df_final_ip.merge(df_multilabel,how='left',on=['Case_ID'])\n",
    "df_final_ip.shape"
   ]
  },
  {
   "cell_type": "code",
   "execution_count": 218,
   "metadata": {},
   "outputs": [
    {
     "data": {
      "text/plain": [
       "(1743, 33)"
      ]
     },
     "execution_count": 218,
     "metadata": {},
     "output_type": "execute_result"
    }
   ],
   "source": [
    "df_final_ip = df_final_ip.drop_duplicates()\n",
    "df_final_ip.shape"
   ]
  },
  {
   "cell_type": "code",
   "execution_count": 219,
   "metadata": {},
   "outputs": [],
   "source": [
    "#df_final_ip.to_csv('Multilabel_features.csv',index=False)"
   ]
  },
  {
   "cell_type": "code",
   "execution_count": 220,
   "metadata": {},
   "outputs": [
    {
     "name": "stdout",
     "output_type": "stream",
     "text": [
      "(1743, 33) Case_ID                       0\n",
      "Product_Big_Series_Name       0\n",
      "Product_Line_Code_Name        0\n",
      "PL_Product_Category           0\n",
      "Product_Number                0\n",
      "Used & Consumed               0\n",
      "Failure_Code                  0\n",
      "Recommended_Parts             0\n",
      "Serial_Number                 0\n",
      "Entitlement_Type              0\n",
      "Entitlement_Age_from_start    0\n",
      "Entitlement_Age_from_end      0\n",
      "Entitlement_Status            0\n",
      "case_subject_refined          0\n",
      "Closed_Date                   0\n",
      "ip1                           0\n",
      "ip2                           1\n",
      "ip3                           1\n",
      "Battery                       0\n",
      "Cable/Adaptr/PwrCord          0\n",
      "Chassis/Enclosure             0\n",
      "Display                       0\n",
      "Electronic Component          0\n",
      "Fan/Motor                     0\n",
      "Hard Drive                    0\n",
      "Human Input Device            0\n",
      "Keyboard                      0\n",
      "Memory/Firmware               0\n",
      "Misc Hardware                 0\n",
      "PCA I/O                       0\n",
      "PCA Misc                      0\n",
      "PwrSuply/Mains/Adptr          0\n",
      "Solid State Drive             0\n",
      "dtype: int64\n",
      "(1307, 761) (427, 403)\n"
     ]
    }
   ],
   "source": [
    "\n",
    "print(df_final_ip.shape, df_final_ip.isna().sum())\n",
    "\n",
    "train_data = df_final_ip[~(df_final_ip['Closed_Date'].isin(test_period))]\n",
    "test_data = df_final_ip[df_final_ip['Closed_Date'].isin(test_period)]\n",
    "train_data = train_data[train_data['Used & Consumed']<=3]\n",
    "train_data = train_data.drop(columns=['Used & Consumed','Failure_Code','Recommended_Parts','Serial_Number'])\n",
    "test_data = test_data.drop(columns=['Used & Consumed','Failure_Code','Recommended_Parts','Serial_Number'])\n",
    "test_cases_dt = test_data[['Case_ID']]\n",
    "\n",
    "columns_onehot = list(train_data.columns)\n",
    "columns_onehot.remove('case_subject_refined')\n",
    "\n",
    "train_data_binarized = pd.get_dummies(train_data[columns_onehot])\n",
    "train_data_binarized['case_subject_refined'] = train_data['case_subject_refined']\n",
    "\n",
    "test_data_binarized = pd.get_dummies(test_data[columns_onehot])\n",
    "test_data_binarized['case_subject_refined'] = test_data['case_subject_refined']\n",
    "\n",
    "print(train_data_binarized.shape, test_data_binarized.shape)\n",
    "\n"
   ]
  },
  {
   "cell_type": "code",
   "execution_count": 221,
   "metadata": {},
   "outputs": [
    {
     "data": {
      "text/plain": [
       "array([201911, 201912, 202001, 202003, 202002, 202004, 202005, 202006,\n",
       "       202009, 202010, 202007, 202011, 202012, 202008, 202101],\n",
       "      dtype=int64)"
      ]
     },
     "execution_count": 221,
     "metadata": {},
     "output_type": "execute_result"
    }
   ],
   "source": [
    "df_final_ip['Closed_Date'].unique()"
   ]
  },
  {
   "cell_type": "code",
   "execution_count": 222,
   "metadata": {},
   "outputs": [
    {
     "data": {
      "text/html": [
       "<div>\n",
       "<style scoped>\n",
       "    .dataframe tbody tr th:only-of-type {\n",
       "        vertical-align: middle;\n",
       "    }\n",
       "\n",
       "    .dataframe tbody tr th {\n",
       "        vertical-align: top;\n",
       "    }\n",
       "\n",
       "    .dataframe thead th {\n",
       "        text-align: right;\n",
       "    }\n",
       "</style>\n",
       "<table border=\"1\" class=\"dataframe\">\n",
       "  <thead>\n",
       "    <tr style=\"text-align: right;\">\n",
       "      <th></th>\n",
       "      <th>Case_ID</th>\n",
       "      <th>Product_Big_Series_Name</th>\n",
       "      <th>Product_Line_Code_Name</th>\n",
       "      <th>PL_Product_Category</th>\n",
       "      <th>Product_Number</th>\n",
       "      <th>Used &amp; Consumed</th>\n",
       "      <th>Failure_Code</th>\n",
       "      <th>Recommended_Parts</th>\n",
       "      <th>Serial_Number</th>\n",
       "      <th>Entitlement_Type</th>\n",
       "      <th>Entitlement_Age_from_start</th>\n",
       "      <th>Entitlement_Age_from_end</th>\n",
       "      <th>Entitlement_Status</th>\n",
       "      <th>case_subject_refined</th>\n",
       "      <th>Closed_Date</th>\n",
       "      <th>ip1</th>\n",
       "      <th>ip2</th>\n",
       "      <th>ip3</th>\n",
       "      <th>Battery</th>\n",
       "      <th>Cable/Adaptr/PwrCord</th>\n",
       "      <th>Chassis/Enclosure</th>\n",
       "      <th>Display</th>\n",
       "      <th>Electronic Component</th>\n",
       "      <th>Fan/Motor</th>\n",
       "      <th>Hard Drive</th>\n",
       "      <th>Human Input Device</th>\n",
       "      <th>Keyboard</th>\n",
       "      <th>Memory/Firmware</th>\n",
       "      <th>Misc Hardware</th>\n",
       "      <th>PCA I/O</th>\n",
       "      <th>PCA Misc</th>\n",
       "      <th>PwrSuply/Mains/Adptr</th>\n",
       "      <th>Solid State Drive</th>\n",
       "    </tr>\n",
       "  </thead>\n",
       "  <tbody>\n",
       "    <tr>\n",
       "      <td>1966</td>\n",
       "      <td>5056581503</td>\n",
       "      <td>hp elitebook 840 g6 notebook pc (crescent14 1.0)</td>\n",
       "      <td>AN</td>\n",
       "      <td>commercial notebooks</td>\n",
       "      <td>2J004UP</td>\n",
       "      <td>1.0</td>\n",
       "      <td>73 - Used &amp; Consumed</td>\n",
       "      <td>1.0</td>\n",
       "      <td>5CG0166WZH</td>\n",
       "      <td>Care-Pack</td>\n",
       "      <td>6</td>\n",
       "      <td>-29</td>\n",
       "      <td>Care-Pack</td>\n",
       "      <td>no video</td>\n",
       "      <td>202011</td>\n",
       "      <td>Not available</td>\n",
       "      <td>NaN</td>\n",
       "      <td>NaN</td>\n",
       "      <td>0</td>\n",
       "      <td>0</td>\n",
       "      <td>0</td>\n",
       "      <td>0</td>\n",
       "      <td>0</td>\n",
       "      <td>0</td>\n",
       "      <td>0</td>\n",
       "      <td>0</td>\n",
       "      <td>0</td>\n",
       "      <td>0</td>\n",
       "      <td>0</td>\n",
       "      <td>1</td>\n",
       "      <td>0</td>\n",
       "      <td>0</td>\n",
       "      <td>0</td>\n",
       "    </tr>\n",
       "  </tbody>\n",
       "</table>\n",
       "</div>"
      ],
      "text/plain": [
       "         Case_ID                           Product_Big_Series_Name  \\\n",
       "1966  5056581503  hp elitebook 840 g6 notebook pc (crescent14 1.0)   \n",
       "\n",
       "     Product_Line_Code_Name   PL_Product_Category Product_Number  \\\n",
       "1966                     AN  commercial notebooks        2J004UP   \n",
       "\n",
       "      Used & Consumed          Failure_Code  Recommended_Parts Serial_Number  \\\n",
       "1966              1.0  73 - Used & Consumed                1.0    5CG0166WZH   \n",
       "\n",
       "     Entitlement_Type  Entitlement_Age_from_start  Entitlement_Age_from_end  \\\n",
       "1966        Care-Pack                           6                       -29   \n",
       "\n",
       "     Entitlement_Status case_subject_refined  Closed_Date            ip1  ip2  \\\n",
       "1966          Care-Pack             no video       202011  Not available  NaN   \n",
       "\n",
       "      ip3  Battery  Cable/Adaptr/PwrCord  Chassis/Enclosure  Display  \\\n",
       "1966  NaN        0                     0                  0        0   \n",
       "\n",
       "      Electronic Component  Fan/Motor  Hard Drive  Human Input Device  \\\n",
       "1966                     0          0           0                   0   \n",
       "\n",
       "      Keyboard  Memory/Firmware  Misc Hardware  PCA I/O  PCA Misc  \\\n",
       "1966         0                0              0        1         0   \n",
       "\n",
       "      PwrSuply/Mains/Adptr  Solid State Drive  \n",
       "1966                     0                  0  "
      ]
     },
     "execution_count": 222,
     "metadata": {},
     "output_type": "execute_result"
    }
   ],
   "source": [
    "df_final_ip[(df_final_ip.ip1=='Not available')].head()"
   ]
  },
  {
   "cell_type": "code",
   "execution_count": 223,
   "metadata": {},
   "outputs": [
    {
     "data": {
      "text/plain": [
       "202011    1\n",
       "Name: Closed_Date, dtype: int64"
      ]
     },
     "execution_count": 223,
     "metadata": {},
     "output_type": "execute_result"
    }
   ],
   "source": [
    " #df_final_ip[(df_final_ip.ip1=='Not available') & (df_final_ip['Closed_Date']>=201907)][multilabel.columns].sum()\n",
    "\n",
    "#df_final_ip.ip1.value_counts()\n",
    "df_final_ip[(df_final_ip.ip1=='Not available')].Closed_Date.value_counts().sort_index()"
   ]
  },
  {
   "cell_type": "code",
   "execution_count": 224,
   "metadata": {},
   "outputs": [],
   "source": [
    "df_final_ip['ip1'] = df_final_ip.ip1.fillna('Not available')\n",
    "df_final_ip['ip2'] = df_final_ip.ip1.fillna('Not available')\n",
    "df_final_ip['ip3'] = df_final_ip.ip1.fillna('Not available')"
   ]
  },
  {
   "cell_type": "code",
   "execution_count": 225,
   "metadata": {},
   "outputs": [
    {
     "name": "stdout",
     "output_type": "stream",
     "text": [
      "(14, 211) (413, 211) (427, 211)\n",
      "(1307, 273) (413, 273) (14, 273)\n"
     ]
    },
    {
     "name": "stderr",
     "output_type": "stream",
     "text": [
      "C:\\ProgramData\\Anaconda3\\lib\\site-packages\\ipykernel_launcher.py:18: FutureWarning: Sorting because non-concatenation axis is not aligned. A future version\n",
      "of pandas will change to not sort by default.\n",
      "\n",
      "To accept the future behavior, pass 'sort=False'.\n",
      "\n",
      "To retain the current behavior and silence the warning, pass 'sort=True'.\n",
      "\n",
      "C:\\ProgramData\\Anaconda3\\lib\\site-packages\\ipykernel_launcher.py:21: FutureWarning: Sorting because non-concatenation axis is not aligned. A future version\n",
      "of pandas will change to not sort by default.\n",
      "\n",
      "To accept the future behavior, pass 'sort=False'.\n",
      "\n",
      "To retain the current behavior and silence the warning, pass 'sort=True'.\n",
      "\n"
     ]
    }
   ],
   "source": [
    "remove_pns1 = list((train_data_binarized.columns[train_data_binarized.columns.str.contains('Product_Number')]).intersection(final_pn_to_remove))\n",
    "train_data_binarized = train_data_binarized.drop(columns=remove_pns1)\n",
    "\n",
    "remove_pns2 = list((test_data_binarized.columns[test_data_binarized.columns.str.contains('Product_Number')]).intersection(final_pn_to_remove))\n",
    "test_data_binarized = test_data_binarized.drop(columns=remove_pns2)\n",
    "\n",
    "new_features_in_test = set(test_data_binarized.columns) - set(train_data_binarized.columns)\n",
    "len(new_features_in_test)\n",
    "\n",
    "new_test = []\n",
    "new_test_data = test_data_binarized.copy()\n",
    "for feature in new_features_in_test:\n",
    "    new_test.append(new_test_data[new_test_data[feature]==1])\n",
    "    new_test_data = new_test_data[new_test_data[feature]!=1]\n",
    "new_test_df = pd.concat(new_test)\n",
    "print(new_test_df.shape,new_test_data.shape,test_data_binarized.shape)\n",
    "\n",
    "test_data_binarized = pd.concat([new_test_data,pd.DataFrame(columns=train_data_binarized.columns,dtype='int64')],axis=0,ignore_index=True)\n",
    "test_data_binarized = test_data_binarized[train_data_binarized.columns]\n",
    "\n",
    "new_test_binarized = pd.concat([new_test_df,pd.DataFrame(columns=train_data_binarized.columns,dtype='int64')],axis=0,ignore_index=True)\n",
    "new_test_binarized = new_test_binarized[train_data_binarized.columns]\n",
    "\n",
    "print(train_data_binarized.shape, test_data_binarized.shape, new_test_binarized.shape)\n",
    "\n"
   ]
  },
  {
   "cell_type": "code",
   "execution_count": 226,
   "metadata": {},
   "outputs": [
    {
     "name": "stdout",
     "output_type": "stream",
     "text": [
      "(1989, 20) (1307, 642) (413, 642) (14, 642)\n"
     ]
    }
   ],
   "source": [
    "vectorizer = TfidfVectorizer(stop_words='english', max_features=1500)\n",
    "train_vect = vectorizer.fit_transform(train_data_binarized['case_subject_refined'])\n",
    "test_vect = vectorizer.transform(test_data_binarized['case_subject_refined'])\n",
    "new_test_vect = vectorizer.transform(new_test_binarized['case_subject_refined'])\n",
    "\n",
    "train_matrix = pd.DataFrame(data = train_vect.toarray(), columns = vectorizer.get_feature_names())\n",
    "test_matrix = pd.DataFrame(data = test_vect.toarray(), columns = vectorizer.get_feature_names())\n",
    "new_test_matrix = pd.DataFrame(data = new_test_vect.toarray(), columns = vectorizer.get_feature_names())\n",
    "\n",
    "final_train_data = pd.concat([train_data_binarized.reset_index(drop=True),train_matrix],axis=1)\n",
    "final_test_data = pd.concat([test_data_binarized.reset_index(drop=True),test_matrix],axis=1)\n",
    "final_new_test_data = pd.concat([new_test_binarized.reset_index(drop=True),new_test_matrix],axis=1)\n",
    "final_test_data = final_test_data.fillna(0)\n",
    "final_new_test_data = final_new_test_data.fillna(0)\n",
    "\n",
    "final_train_data = final_train_data.drop(columns=['Closed_Date','case_subject_refined'])\n",
    "final_test_data = final_test_data.drop(columns=['Closed_Date','case_subject_refined'])\n",
    "final_new_test_data = final_new_test_data.drop(columns=['Closed_Date','case_subject_refined'])\n",
    "\n",
    "print(df_final2.shape, final_train_data.shape, final_test_data.shape, final_new_test_data.shape)\n"
   ]
  },
  {
   "cell_type": "code",
   "execution_count": 227,
   "metadata": {},
   "outputs": [],
   "source": [
    "pickle.dump(vectorizer,  open(f'F:\\\\Part_Reco\\\\Part_reco_regionwise\\\\models\\\\vectorizer_{current_region}.pkl', \"wb\"))"
   ]
  },
  {
   "cell_type": "code",
   "execution_count": 228,
   "metadata": {},
   "outputs": [],
   "source": [
    "\n",
    "combined_data = pd.concat([final_train_data, final_test_data])\n",
    "\n",
    "combined_data = combined_data.reset_index(drop=True)\n",
    "\n",
    "y_data = combined_data[multilabel.columns]\n",
    "X_data = combined_data.drop(columns=multilabel.columns)\n",
    "\n",
    "train_X, train_y, test_X, test_y = iterative_train_test_split(X_data.values,y_data.values,test_size=0.2)\n",
    "train_X = pd.DataFrame(train_X, columns=X_data.columns)\n",
    "test_X = pd.DataFrame(test_X, columns=X_data.columns)\n",
    "train_y = pd.DataFrame(train_y, columns=y_data.columns)\n",
    "test_y = pd.DataFrame(test_y, columns=y_data.columns)\n",
    "\n",
    "train_X_ann, train_y_ann, val_X_ann, val_y_ann = iterative_train_test_split(train_X.values,train_y.values,test_size=0.2)\n",
    "train_X_ann = pd.DataFrame(train_X_ann, columns=train_X.columns)\n",
    "val_X_ann = pd.DataFrame(val_X_ann, columns=train_X.columns)\n",
    "train_y_ann = pd.DataFrame(train_y_ann, columns=train_y.columns)\n",
    "val_y_ann = pd.DataFrame(val_y_ann, columns=train_y.columns)\n",
    "\n",
    "test_cases = test_X[['Case_ID']]\n",
    "train_cases = train_X[['Case_ID']]\n",
    "\n",
    "train_X = train_X.drop(columns=['Case_ID'])\n",
    "test_X = test_X.drop(columns=['Case_ID'])\n",
    "train_X_ann = train_X_ann.drop(columns=['Case_ID'])\n",
    "val_X_ann = val_X_ann.drop(columns=['Case_ID'])\n",
    "\n"
   ]
  },
  {
   "cell_type": "code",
   "execution_count": 229,
   "metadata": {},
   "outputs": [
    {
     "data": {
      "text/plain": [
       "(1378, 626)"
      ]
     },
     "execution_count": 229,
     "metadata": {},
     "output_type": "execute_result"
    }
   ],
   "source": [
    "train_X.shape"
   ]
  },
  {
   "cell_type": "code",
   "execution_count": 230,
   "metadata": {},
   "outputs": [],
   "source": [
    "pickle.dump(train_X.columns, open(f\"F:\\\\Part_Reco\\\\Part_reco_regionwise\\\\models\\\\train_data_{current_region}.pkl\", \"wb\"))"
   ]
  },
  {
   "cell_type": "code",
   "execution_count": 231,
   "metadata": {},
   "outputs": [
    {
     "data": {
      "text/plain": [
       "60"
      ]
     },
     "execution_count": 231,
     "metadata": {},
     "output_type": "execute_result"
    }
   ],
   "source": [
    "del combined_data\n",
    "gc.collect()"
   ]
  },
  {
   "cell_type": "code",
   "execution_count": 232,
   "metadata": {},
   "outputs": [
    {
     "data": {
      "text/plain": [
       "20"
      ]
     },
     "execution_count": 232,
     "metadata": {},
     "output_type": "execute_result"
    }
   ],
   "source": [
    "del X_data, y_data\n",
    "gc.collect()"
   ]
  },
  {
   "cell_type": "code",
   "execution_count": 233,
   "metadata": {},
   "outputs": [],
   "source": [
    "train_X_sparse = csc_matrix(train_X)\n",
    "test_X_sparse = csc_matrix(test_X)"
   ]
  },
  {
   "cell_type": "markdown",
   "metadata": {},
   "source": [
    "#### Classification using train_test_split"
   ]
  },
  {
   "cell_type": "code",
   "execution_count": 234,
   "metadata": {},
   "outputs": [
    {
     "data": {
      "text/plain": [
       "\"\\nlogclassifier1 = LogisticRegression(n_jobs=-1, solver='lbfgs', max_iter=300)\\nlogclassifier1.fit(train_X_sparse,train_y)\\npred_test1= (logclassifier1.predict(test_X_sparse)).astype('int')\\n\\n\\n#print('Confusion matrix', confusion_matrix(y_test,pred3))\\nprint('Precision', precision_score(test_y,pred_test1,average='weighted'))\\nprint('Recall', recall_score(test_y,pred_test1,average='weighted'))\\nprint('Accuracy', accuracy_score(test_y,pred_test1)) #Accuracy 0.7209060378185004\\nprint('Classification report', classification_report(test_y,pred_test1))\\n\""
      ]
     },
     "execution_count": 234,
     "metadata": {},
     "output_type": "execute_result"
    }
   ],
   "source": [
    "'''\n",
    "logclassifier1 = LogisticRegression(n_jobs=-1, solver='lbfgs', max_iter=300)\n",
    "logclassifier1.fit(train_X_sparse,train_y)\n",
    "pred_test1= (logclassifier1.predict(test_X_sparse)).astype('int')\n",
    "\n",
    "\n",
    "#print('Confusion matrix', confusion_matrix(y_test,pred3))\n",
    "print('Precision', precision_score(test_y,pred_test1,average='weighted'))\n",
    "print('Recall', recall_score(test_y,pred_test1,average='weighted'))\n",
    "print('Accuracy', accuracy_score(test_y,pred_test1)) #Accuracy 0.7209060378185004\n",
    "print('Classification report', classification_report(test_y,pred_test1))\n",
    "'''"
   ]
  },
  {
   "cell_type": "markdown",
   "metadata": {},
   "source": [
    "#### Classification using Date period split"
   ]
  },
  {
   "cell_type": "code",
   "execution_count": 235,
   "metadata": {},
   "outputs": [],
   "source": [
    "y_train_dt = final_train_data[multilabel.columns] \n",
    "X_train_dt = final_train_data.drop(columns=multilabel.columns)\n",
    "\n",
    "y_test_dt = final_test_data[multilabel.columns] \n",
    "X_test_dt = final_test_data.drop(columns=multilabel.columns)\n",
    "\n",
    "X_train_dt = X_train_dt.drop(columns=['Case_ID'])\n",
    "X_test_dt = X_test_dt.drop(columns=['Case_ID'])"
   ]
  },
  {
   "cell_type": "code",
   "execution_count": 236,
   "metadata": {},
   "outputs": [
    {
     "name": "stdout",
     "output_type": "stream",
     "text": [
      "Accuracy 0.8038740920096852\n",
      "Classification report              precision    recall  f1-score   support\n",
      "\n",
      "          0       0.97      0.96      0.97        76\n",
      "          1       0.00      0.00      0.00        14\n",
      "          2       0.00      0.00      0.00         8\n",
      "          3       0.92      0.58      0.71        19\n",
      "          4       0.75      0.38      0.50         8\n",
      "          5       1.00      1.00      1.00        17\n",
      "          6       0.93      0.93      0.93        54\n",
      "          7       0.88      0.58      0.70        12\n",
      "          8       0.99      0.93      0.96       107\n",
      "          9       0.80      0.50      0.62         8\n",
      "         10       0.00      0.00      0.00         2\n",
      "         11       0.97      0.79      0.87        94\n",
      "         12       0.00      0.00      0.00         4\n",
      "         13       1.00      0.77      0.87        26\n",
      "         14       1.00      0.64      0.78        14\n",
      "\n",
      "avg / total       0.90      0.79      0.84       463\n",
      "\n"
     ]
    },
    {
     "name": "stderr",
     "output_type": "stream",
     "text": [
      "C:\\ProgramData\\Anaconda3\\lib\\site-packages\\sklearn\\metrics\\classification.py:1135: UndefinedMetricWarning: Precision and F-score are ill-defined and being set to 0.0 in labels with no predicted samples.\n",
      "  'precision', 'predicted', average, warn_for)\n"
     ]
    }
   ],
   "source": [
    "\n",
    "X_train_dt_sparse = csc_matrix(X_train_dt)\n",
    "X_test_dt_sparse = csc_matrix(X_test_dt)\n",
    "\n",
    "logclassifier2 = OneVsRestClassifier(LogisticRegression(n_jobs=-1, solver='lbfgs', max_iter=300))\n",
    "logclassifier2.fit(X_train_dt_sparse,y_train_dt)\n",
    "pred_test2= (logclassifier2.predict(X_test_dt_sparse)).astype('int')\n",
    "\n",
    "\n",
    "#print('Confusion matrix', confusion_matrix(y_test,pred3))\n",
    "#print('Precision', precision_score(y_test_dt,pred_test2,average='weighted'))\n",
    "#print('Recall', recall_score(y_test_dt,pred_test2,average='weighted'))\n",
    "print('Accuracy', accuracy_score(y_test_dt,pred_test2)) #Accuracy 0.7063969382176053\n",
    "print('Classification report', classification_report(y_test_dt,pred_test2))"
   ]
  },
  {
   "cell_type": "code",
   "execution_count": 237,
   "metadata": {},
   "outputs": [],
   "source": [
    "pickle.dump(logclassifier2,open(f'F:\\\\Part_Reco\\\\Part_reco_regionwise\\\\models\\\\logistic_model_{current_region}.pkl',\"wb\"))"
   ]
  },
  {
   "cell_type": "code",
   "execution_count": 238,
   "metadata": {},
   "outputs": [],
   "source": [
    "#Deep learning initialization\n",
    "\n",
    "units = 300\n",
    "units2 = 70\n",
    "kernel_initializer = 'lecun_normal'\n",
    "activation ='elu'\n",
    "drop_rate1 = 0.1\n",
    "drop_rate2 = 0.3\n",
    "drop_rate3 = 0.1\n",
    "activation_output = 'sigmoid'\n",
    "optimizer = 'rmsprop'\n",
    "loss = 'binary_crossentropy'\n",
    "metrics = ['categorical_accuracy']\n",
    "n_epochs = 20\n",
    "batch_size = 32"
   ]
  },
  {
   "cell_type": "code",
   "execution_count": 239,
   "metadata": {},
   "outputs": [],
   "source": [
    "#Deep learning model\n",
    "\n",
    "np.random.seed(5)\n",
    "input_tensor = Input(shape=(train_X_ann.shape[1],))\n",
    "\n",
    "x = layers.Dense(units=units,input_dim=list(train_X_ann.shape)[1],kernel_initializer=kernel_initializer)(input_tensor)\n",
    "y = layers.BatchNormalization()(x)\n",
    "y = layers.Activation(activation)(y)\n",
    "y = layers.Dropout(rate=drop_rate1)(y)\n",
    "\n",
    "y = layers.Dense(units=units/2, kernel_initializer=kernel_initializer)(y)\n",
    "y = layers.BatchNormalization()(y)\n",
    "y = layers.Activation(activation)(y)\n",
    "y = layers.Dropout(rate=drop_rate2)(y)\n",
    "\n",
    "y = layers.Dense(units=units, kernel_initializer=kernel_initializer)(y)\n",
    "y = layers.BatchNormalization()(y)\n",
    "y = layers.Activation(activation)(y)\n",
    "y = layers.Dropout(rate=drop_rate1)(y)\n",
    "\n",
    "y = layers.add([y, x])\n",
    "\n",
    "y = layers.Dense(units=units2, kernel_initializer=kernel_initializer)(y)\n",
    "y = layers.BatchNormalization()(y)\n",
    "y = layers.Activation(activation)(y)\n",
    "y = layers.Dropout(rate=drop_rate3)(y)\n",
    "\n",
    "y = layers.Dense(units=np.int(units2*0.7), kernel_initializer=kernel_initializer)(y)\n",
    "y = layers.BatchNormalization()(y)\n",
    "y = layers.Activation(activation)(y)\n",
    "y = layers.Dropout(rate=drop_rate3)(y)\n",
    "\n",
    "output_tensor = layers.Dense(units=train_y.shape[1], kernel_initializer=kernel_initializer, activation=activation_output)(y)\n",
    "\n",
    "classifier1 = Model(input_tensor, output_tensor)\n",
    "classifier2 = Model(input_tensor, output_tensor)"
   ]
  },
  {
   "cell_type": "code",
   "execution_count": 240,
   "metadata": {},
   "outputs": [],
   "source": [
    "X_train_dt_ann, y_train_dt_ann, X_val_dt_ann , y_val_dt_ann = iterative_train_test_split(X_train_dt.values,y_train_dt.values,test_size=0.2)"
   ]
  },
  {
   "cell_type": "code",
   "execution_count": 241,
   "metadata": {
    "scrolled": true
   },
   "outputs": [
    {
     "name": "stdout",
     "output_type": "stream",
     "text": [
      "Train on 1045 samples, validate on 262 samples\n",
      "Epoch 1/20\n",
      "1045/1045 [==============================] - 1s 1ms/sample - loss: 0.6285 - categorical_accuracy: 0.4172 - val_loss: 0.5517 - val_categorical_accuracy: 0.4160\n",
      "Epoch 2/20\n",
      "1045/1045 [==============================] - 0s 211us/sample - loss: 0.4750 - categorical_accuracy: 0.6287 - val_loss: 0.4042 - val_categorical_accuracy: 0.3397\n",
      "Epoch 3/20\n",
      "1045/1045 [==============================] - 0s 210us/sample - loss: 0.3554 - categorical_accuracy: 0.7005 - val_loss: 0.2944 - val_categorical_accuracy: 0.6221\n",
      "Epoch 4/20\n",
      "1045/1045 [==============================] - 0s 211us/sample - loss: 0.2639 - categorical_accuracy: 0.7330 - val_loss: 0.2630 - val_categorical_accuracy: 0.6489\n",
      "Epoch 5/20\n",
      "1045/1045 [==============================] - 0s 211us/sample - loss: 0.1928 - categorical_accuracy: 0.7550 - val_loss: 0.1883 - val_categorical_accuracy: 0.6985\n",
      "Epoch 6/20\n",
      "1045/1045 [==============================] - 0s 212us/sample - loss: 0.1482 - categorical_accuracy: 0.7732 - val_loss: 0.1615 - val_categorical_accuracy: 0.7176\n",
      "Epoch 7/20\n",
      "1045/1045 [==============================] - 0s 209us/sample - loss: 0.1197 - categorical_accuracy: 0.7895 - val_loss: 0.1323 - val_categorical_accuracy: 0.7099\n",
      "Epoch 8/20\n",
      "1045/1045 [==============================] - 0s 204us/sample - loss: 0.1006 - categorical_accuracy: 0.8019 - val_loss: 0.1102 - val_categorical_accuracy: 0.7557\n",
      "Epoch 9/20\n",
      "1045/1045 [==============================] - 0s 211us/sample - loss: 0.0879 - categorical_accuracy: 0.8220 - val_loss: 0.0997 - val_categorical_accuracy: 0.7748\n",
      "Epoch 10/20\n",
      "1045/1045 [==============================] - 0s 207us/sample - loss: 0.0793 - categorical_accuracy: 0.8392 - val_loss: 0.0942 - val_categorical_accuracy: 0.7863\n",
      "Epoch 11/20\n",
      "1045/1045 [==============================] - 0s 208us/sample - loss: 0.0721 - categorical_accuracy: 0.8344 - val_loss: 0.1093 - val_categorical_accuracy: 0.7366\n",
      "Epoch 12/20\n",
      " 896/1045 [========================>.....] - ETA: 0s - loss: 0.0688 - categorical_accuracy: 0.8504\n",
      "Epoch 00012: ReduceLROnPlateau reducing learning rate to 0.0005000000237487257.\n",
      "1045/1045 [==============================] - 0s 406us/sample - loss: 0.0683 - categorical_accuracy: 0.8536 - val_loss: 0.0950 - val_categorical_accuracy: 0.7710\n",
      "Epoch 13/20\n",
      "1045/1045 [==============================] - 0s 213us/sample - loss: 0.0568 - categorical_accuracy: 0.8699 - val_loss: 0.0915 - val_categorical_accuracy: 0.7939\n",
      "Epoch 14/20\n",
      "1045/1045 [==============================] - 0s 206us/sample - loss: 0.0545 - categorical_accuracy: 0.8746 - val_loss: 0.0882 - val_categorical_accuracy: 0.7824\n",
      "Epoch 15/20\n",
      "1045/1045 [==============================] - 0s 203us/sample - loss: 0.0522 - categorical_accuracy: 0.8804 - val_loss: 0.0934 - val_categorical_accuracy: 0.7939\n",
      "Epoch 16/20\n",
      "1045/1045 [==============================] - 0s 199us/sample - loss: 0.0513 - categorical_accuracy: 0.8861 - val_loss: 0.0867 - val_categorical_accuracy: 0.7939\n",
      "Epoch 17/20\n",
      "1045/1045 [==============================] - 0s 198us/sample - loss: 0.0483 - categorical_accuracy: 0.8909 - val_loss: 0.0897 - val_categorical_accuracy: 0.7786\n",
      "Epoch 18/20\n",
      " 896/1045 [========================>.....] - ETA: 0s - loss: 0.0481 - categorical_accuracy: 0.8895\n",
      "Epoch 00018: ReduceLROnPlateau reducing learning rate to 0.0002500000118743628.\n",
      "1045/1045 [==============================] - 0s 203us/sample - loss: 0.0480 - categorical_accuracy: 0.8909 - val_loss: 0.0914 - val_categorical_accuracy: 0.7748\n",
      "Epoch 19/20\n",
      "1045/1045 [==============================] - 0s 205us/sample - loss: 0.0434 - categorical_accuracy: 0.9005 - val_loss: 0.0871 - val_categorical_accuracy: 0.7977\n",
      "Epoch 20/20\n",
      "1045/1045 [==============================] - 0s 199us/sample - loss: 0.0435 - categorical_accuracy: 0.9014 - val_loss: 0.0859 - val_categorical_accuracy: 0.7901\n"
     ]
    }
   ],
   "source": [
    "\n",
    "classifier2.compile(optimizer=optimizer, loss=loss, metrics=metrics)\n",
    "classifier2.fit(x=X_train_dt_ann, y=y_train_dt_ann, batch_size=batch_size, epochs=n_epochs, validation_data=(X_val_dt_ann, y_val_dt_ann),\n",
    "               callbacks = [tf.keras.callbacks.ReduceLROnPlateau(monitor='val_loss', factor=0.5, patience=2, verbose=2,min_lr=0)])\n",
    "\n",
    "pred_ann_test2 = classifier2.predict(X_test_dt)"
   ]
  },
  {
   "cell_type": "code",
   "execution_count": 242,
   "metadata": {
    "scrolled": true
   },
   "outputs": [
    {
     "name": "stdout",
     "output_type": "stream",
     "text": [
      "Test set Accuracy 0.7941888619854721\n",
      "Classification report              precision    recall  f1-score   support\n",
      "\n",
      "          0       0.96      0.84      0.90        76\n",
      "          1       0.00      0.00      0.00        14\n",
      "          2       0.17      0.25      0.20         8\n",
      "          3       0.93      0.68      0.79        19\n",
      "          4       0.80      0.50      0.62         8\n",
      "          5       1.00      1.00      1.00        17\n",
      "          6       0.93      0.96      0.95        54\n",
      "          7       0.83      0.42      0.56        12\n",
      "          8       0.99      0.93      0.96       107\n",
      "          9       0.83      0.62      0.71         8\n",
      "         10       0.00      0.00      0.00         2\n",
      "         11       0.92      0.78      0.84        94\n",
      "         12       0.00      0.00      0.00         4\n",
      "         13       1.00      0.92      0.96        26\n",
      "         14       0.91      0.71      0.80        14\n",
      "\n",
      "avg / total       0.89      0.79      0.84       463\n",
      "\n"
     ]
    },
    {
     "name": "stderr",
     "output_type": "stream",
     "text": [
      "C:\\ProgramData\\Anaconda3\\lib\\site-packages\\sklearn\\metrics\\classification.py:1135: UndefinedMetricWarning: Precision and F-score are ill-defined and being set to 0.0 in labels with no predicted samples.\n",
      "  'precision', 'predicted', average, warn_for)\n"
     ]
    }
   ],
   "source": [
    "print('Test set Accuracy', accuracy_score(y_test_dt.values,pred_ann_test2.round())) #Test set Accuracy 0.7427556041552761\n",
    "print('Classification report', classification_report(y_test_dt.values,pred_ann_test2.round()))"
   ]
  },
  {
   "cell_type": "code",
   "execution_count": 243,
   "metadata": {},
   "outputs": [],
   "source": [
    "pickle.dump(y_test_dt.columns, open(f'F:\\\\Part_Reco\\\\Part_reco_regionwise\\\\models\\\\labels_{current_region}.pkl', \"wb\"))"
   ]
  },
  {
   "cell_type": "code",
   "execution_count": 244,
   "metadata": {},
   "outputs": [],
   "source": [
    "ann_model = classifier2.to_json()\n",
    "with open(f'F:\\\\Part_Reco\\\\Part_reco_regionwise\\\\models\\\\ann_model_{current_region}.json', \"w\") as json_file:\n",
    "    json_file.write(ann_model)\n",
    "# serialize weights to HDF5\n",
    "classifier2.save_weights(f'F:\\\\Part_Reco\\\\Part_reco_regionwise\\\\models\\\\ann_model_{current_region}.h5')"
   ]
  },
  {
   "cell_type": "code",
   "execution_count": 245,
   "metadata": {},
   "outputs": [
    {
     "data": {
      "text/plain": [
       "39"
      ]
     },
     "execution_count": 245,
     "metadata": {},
     "output_type": "execute_result"
    }
   ],
   "source": [
    "gc.collect()"
   ]
  },
  {
   "cell_type": "code",
   "execution_count": 246,
   "metadata": {
    "scrolled": true
   },
   "outputs": [
    {
     "name": "stdout",
     "output_type": "stream",
     "text": [
      "Accuracy 0.7602905569007264\n",
      "Classification report              precision    recall  f1-score   support\n",
      "\n",
      "          0       0.99      0.93      0.96        76\n",
      "          1       0.33      0.14      0.20        14\n",
      "          2       1.00      0.12      0.22         8\n",
      "          3       0.92      0.58      0.71        19\n",
      "          4       1.00      0.38      0.55         8\n",
      "          5       1.00      0.94      0.97        17\n",
      "          6       0.87      0.89      0.88        54\n",
      "          7       0.86      0.50      0.63        12\n",
      "          8       0.98      0.93      0.95       107\n",
      "          9       0.60      0.38      0.46         8\n",
      "         10       0.00      0.00      0.00         2\n",
      "         11       0.89      0.74      0.81        94\n",
      "         12       0.00      0.00      0.00         4\n",
      "         13       0.95      0.77      0.85        26\n",
      "         14       0.90      0.64      0.75        14\n",
      "\n",
      "avg / total       0.90      0.78      0.82       463\n",
      "\n"
     ]
    },
    {
     "name": "stderr",
     "output_type": "stream",
     "text": [
      "C:\\ProgramData\\Anaconda3\\lib\\site-packages\\sklearn\\metrics\\classification.py:1135: UndefinedMetricWarning: Precision and F-score are ill-defined and being set to 0.0 in labels with no predicted samples.\n",
      "  'precision', 'predicted', average, warn_for)\n"
     ]
    }
   ],
   "source": [
    "xgb2 = OneVsRestClassifier(XGBClassifier(max_depth=3,n_jobs=-1,n_estimators=500,subsample=0.6, colsample_bytree=0.8))\n",
    "xgb2.fit(X_train_dt_sparse,y_train_dt)\n",
    "pred_test4= (xgb2.predict(X_test_dt_sparse)).astype('int')\n",
    "\n",
    "\n",
    "#print('Confusion matrix', confusion_matrix(y_test,pred3))\n",
    "#print('Precision', precision_score(y_test_dt,pred_test4,average='weighted'))\n",
    "#print('Recall', recall_score(y_test_dt,pred_test4,average='weighted'))\n",
    "print('Accuracy', accuracy_score(y_test_dt,pred_test4))\n",
    "print('Classification report', classification_report(y_test_dt,pred_test4))\n",
    "#Accuracy 0.7236194641880809"
   ]
  },
  {
   "cell_type": "code",
   "execution_count": 247,
   "metadata": {},
   "outputs": [],
   "source": [
    "pickle.dump(xgb2,open(f'F:\\\\Part_Reco\\\\Part_reco_regionwise\\\\models\\\\xgb_model_{current_region}.pkl',\"wb\"))"
   ]
  },
  {
   "cell_type": "markdown",
   "metadata": {},
   "source": [
    "#### Ensemble method"
   ]
  },
  {
   "cell_type": "code",
   "execution_count": 248,
   "metadata": {},
   "outputs": [],
   "source": [
    "logis_en2 = logclassifier2.predict_proba(X_test_dt_sparse)\n",
    "xgb_en2 = xgb2.predict_proba(X_test_dt_sparse)\n",
    "ann_en2 = classifier2.predict(X_test_dt)\n"
   ]
  },
  {
   "cell_type": "code",
   "execution_count": 249,
   "metadata": {},
   "outputs": [
    {
     "name": "stdout",
     "output_type": "stream",
     "text": [
      "Accuracy 0.7966101694915254\n",
      "Classification report              precision    recall  f1-score   support\n",
      "\n",
      "          0       0.97      0.97      0.97        76\n",
      "          1       0.33      0.14      0.20        14\n",
      "          2       0.50      0.12      0.20         8\n",
      "          3       0.93      0.68      0.79        19\n",
      "          4       0.75      0.38      0.50         8\n",
      "          5       1.00      1.00      1.00        17\n",
      "          6       0.86      0.93      0.89        54\n",
      "          7       0.89      0.67      0.76        12\n",
      "          8       0.98      0.95      0.97       107\n",
      "          9       0.67      0.50      0.57         8\n",
      "         10       0.00      0.00      0.00         2\n",
      "         11       0.89      0.79      0.84        94\n",
      "         12       0.00      0.00      0.00         4\n",
      "         13       0.95      0.81      0.88        26\n",
      "         14       0.92      0.86      0.89        14\n",
      "\n",
      "avg / total       0.89      0.82      0.85       463\n",
      "\n"
     ]
    }
   ],
   "source": [
    "#ensem_output = (logis_arr*0.5+xgb_arr*0.5+ann_en2*2)/3\n",
    "#ensem_output = np.maximum(logis_arr,xgb_arr,ann_en2)\n",
    "ensem_output = np.maximum(logis_en2,xgb_en2,ann_en2)\n",
    "\n",
    "\n",
    "print('Accuracy', accuracy_score(y_test_dt,ensem_output.round()))\n",
    "print('Classification report', classification_report(y_test_dt,ensem_output.round()))\n",
    "#Accuracy 0.7843868945443689"
   ]
  },
  {
   "cell_type": "code",
   "execution_count": 250,
   "metadata": {},
   "outputs": [
    {
     "data": {
      "text/plain": [
       "171"
      ]
     },
     "execution_count": 250,
     "metadata": {},
     "output_type": "execute_result"
    }
   ],
   "source": [
    "gc.collect()"
   ]
  },
  {
   "cell_type": "code",
   "execution_count": 251,
   "metadata": {},
   "outputs": [],
   "source": [
    "test_cases_dt = df_final_ip[df_final_ip['Closed_Date'].isin(test_period)]\n",
    "test_cases_dt = test_cases_dt[~test_cases_dt.Case_ID.isin(list(new_test_binarized.Case_ID.values))]"
   ]
  },
  {
   "cell_type": "code",
   "execution_count": 252,
   "metadata": {},
   "outputs": [],
   "source": [
    "max_prob = np.around(np.take_along_axis(np.array(pred_ann_test2),np.argsort(-np.array(pred_ann_test2),axis=1),axis=-1)[:,:5]*100,2)\n",
    "pred_comm = y_test_dt.columns[np.argsort(-np.array(pred_ann_test2),axis=1)[:,:5]]"
   ]
  },
  {
   "cell_type": "code",
   "execution_count": 253,
   "metadata": {},
   "outputs": [],
   "source": [
    "#test_cases_dt['part_commodity'] = label_encoder.inverse_transform(test_cases_dt['part_commodity'])\n",
    "prediction_df = pd.concat([pd.DataFrame(max_prob,columns=['confidence_'+str(i) for i in np.arange(1,6)]),pd.DataFrame(pred_comm,columns=['commodity_'+str(i) for i in np.arange(1,6)])],axis=1)\n",
    "Final_prediction = pd.concat([test_cases_dt.reset_index(drop=True),prediction_df],axis=1)\n",
    "part_mapping = pd.read_csv(f'F:\\\\Akhilesh_new\\\\Part_reco_regionwise\\\\Part_number_mapping_{date}_{current_region}.csv')\n",
    "part_prediction = Final_prediction.merge(part_mapping[['Product_Number','part_commodity','Overall_High_Demand_Part','Product_level_High_Demand_Part']]\n",
    "                                         .rename(columns={'part_commodity':'commodity_1','Product_level_High_Demand_Part':'Part_1','Overall_High_Demand_Part':'Sub_Part_1'}),\n",
    "                                        how='left',on=['Product_Number','commodity_1'])\n",
    "\n",
    "part_prediction = part_prediction.merge(part_mapping[['Product_Number','part_commodity','Overall_High_Demand_Part','Product_level_High_Demand_Part']]\n",
    "                                         .rename(columns={'part_commodity':'commodity_2','Product_level_High_Demand_Part':'Part_2','Overall_High_Demand_Part':'Sub_Part_2'}),\n",
    "                                        how='left',on=['Product_Number','commodity_2'])\n",
    "\n",
    "part_prediction = part_prediction.merge(part_mapping[['Product_Number','part_commodity','Overall_High_Demand_Part','Product_level_High_Demand_Part']]\n",
    "                                         .rename(columns={'part_commodity':'commodity_3','Product_level_High_Demand_Part':'Part_3','Overall_High_Demand_Part':'Sub_Part_3'}),\n",
    "                                        how='left',on=['Product_Number','commodity_3'])\n",
    "\n",
    "part_prediction = part_prediction.merge(part_mapping[['Product_Number','part_commodity','Overall_High_Demand_Part','Product_level_High_Demand_Part']]\n",
    "                                         .rename(columns={'part_commodity':'commodity_4','Product_level_High_Demand_Part':'Part_4','Overall_High_Demand_Part':'Sub_Part_4'}),\n",
    "                                        how='left',on=['Product_Number','commodity_4'])\n",
    "\n",
    "part_prediction = part_prediction.merge(part_mapping[['Product_Number','part_commodity','Overall_High_Demand_Part','Product_level_High_Demand_Part']]\n",
    "                                         .rename(columns={'part_commodity':'commodity_5','Product_level_High_Demand_Part':'Part_5','Overall_High_Demand_Part':'Sub_Part_5'}),\n",
    "                                        how='left',on=['Product_Number','commodity_5'])\n",
    "\n",
    "part_prediction.to_csv(f'F:\\\\Part_Reco\\\\Part_reco_regionwise\\\\models\\\\Prediction_data_{date}_{current_region}.csv',index=False)"
   ]
  },
  {
   "cell_type": "code",
   "execution_count": 254,
   "metadata": {},
   "outputs": [
    {
     "name": "stdout",
     "output_type": "stream",
     "text": [
      "Total time taken in hours:  0.03\n"
     ]
    },
    {
     "name": "stderr",
     "output_type": "stream",
     "text": [
      "C:\\ProgramData\\Anaconda3\\lib\\site-packages\\ipykernel_launcher.py:1: DeprecationWarning: time.clock has been deprecated in Python 3.3 and will be removed from Python 3.8: use time.perf_counter or time.process_time instead\n",
      "  \"\"\"Entry point for launching an IPython kernel.\n"
     ]
    }
   ],
   "source": [
    "\n",
    "t2=t.clock()\n",
    "print('Total time taken in hours: ', round((t2-t1)/60/60,2))"
   ]
  }
 ],
 "metadata": {
  "kernelspec": {
   "display_name": "Python 3 (ipykernel)",
   "language": "python",
   "name": "python3"
  },
  "language_info": {
   "codemirror_mode": {
    "name": "ipython",
    "version": 3
   },
   "file_extension": ".py",
   "mimetype": "text/x-python",
   "name": "python",
   "nbconvert_exporter": "python",
   "pygments_lexer": "ipython3",
   "version": "3.9.12"
  }
 },
 "nbformat": 4,
 "nbformat_minor": 4
}
