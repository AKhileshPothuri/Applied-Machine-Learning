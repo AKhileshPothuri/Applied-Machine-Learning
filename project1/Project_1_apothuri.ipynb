{
 "cells": [
  {
   "cell_type": "markdown",
   "id": "de0d950d",
   "metadata": {},
   "source": [
    "## Import Libraries"
   ]
  },
  {
   "cell_type": "code",
   "execution_count": 1,
   "id": "2e8f0da9",
   "metadata": {
    "ExecuteTime": {
     "end_time": "2023-02-09T00:43:09.678136Z",
     "start_time": "2023-02-09T00:43:08.210286Z"
    }
   },
   "outputs": [],
   "source": [
    "import pandas as pd\n",
    "import numpy as np\n",
    "from sklearn.metrics import classification_report,roc_auc_score,RocCurveDisplay\n",
    "from sklearn.model_selection import train_test_split\n",
    "from sklearn import metrics\n",
    "import matplotlib.pyplot as plt\n",
    "from sklearn.linear_model import LogisticRegression\n"
   ]
  },
  {
   "cell_type": "markdown",
   "id": "ad421086",
   "metadata": {},
   "source": [
    "### Task 1"
   ]
  },
  {
   "cell_type": "code",
   "execution_count": 2,
   "id": "e7db1912",
   "metadata": {
    "ExecuteTime": {
     "end_time": "2023-02-09T00:43:09.720296Z",
     "start_time": "2023-02-09T00:43:09.679292Z"
    }
   },
   "outputs": [
    {
     "data": {
      "text/html": [
       "<div>\n",
       "<style scoped>\n",
       "    .dataframe tbody tr th:only-of-type {\n",
       "        vertical-align: middle;\n",
       "    }\n",
       "\n",
       "    .dataframe tbody tr th {\n",
       "        vertical-align: top;\n",
       "    }\n",
       "\n",
       "    .dataframe thead th {\n",
       "        text-align: right;\n",
       "    }\n",
       "</style>\n",
       "<table border=\"1\" class=\"dataframe\">\n",
       "  <thead>\n",
       "    <tr style=\"text-align: right;\">\n",
       "      <th></th>\n",
       "      <th>age</th>\n",
       "      <th>job</th>\n",
       "      <th>marital</th>\n",
       "      <th>education</th>\n",
       "      <th>balance</th>\n",
       "      <th>housing</th>\n",
       "      <th>loan</th>\n",
       "      <th>y</th>\n",
       "    </tr>\n",
       "  </thead>\n",
       "  <tbody>\n",
       "    <tr>\n",
       "      <th>0</th>\n",
       "      <td>58</td>\n",
       "      <td>management</td>\n",
       "      <td>married</td>\n",
       "      <td>tertiary</td>\n",
       "      <td>2143</td>\n",
       "      <td>yes</td>\n",
       "      <td>no</td>\n",
       "      <td>no</td>\n",
       "    </tr>\n",
       "    <tr>\n",
       "      <th>1</th>\n",
       "      <td>44</td>\n",
       "      <td>technician</td>\n",
       "      <td>single</td>\n",
       "      <td>secondary</td>\n",
       "      <td>29</td>\n",
       "      <td>yes</td>\n",
       "      <td>no</td>\n",
       "      <td>no</td>\n",
       "    </tr>\n",
       "    <tr>\n",
       "      <th>2</th>\n",
       "      <td>33</td>\n",
       "      <td>entrepreneur</td>\n",
       "      <td>married</td>\n",
       "      <td>secondary</td>\n",
       "      <td>2</td>\n",
       "      <td>yes</td>\n",
       "      <td>yes</td>\n",
       "      <td>no</td>\n",
       "    </tr>\n",
       "    <tr>\n",
       "      <th>3</th>\n",
       "      <td>47</td>\n",
       "      <td>blue-collar</td>\n",
       "      <td>married</td>\n",
       "      <td>unknown</td>\n",
       "      <td>1506</td>\n",
       "      <td>yes</td>\n",
       "      <td>no</td>\n",
       "      <td>no</td>\n",
       "    </tr>\n",
       "    <tr>\n",
       "      <th>4</th>\n",
       "      <td>33</td>\n",
       "      <td>unknown</td>\n",
       "      <td>single</td>\n",
       "      <td>unknown</td>\n",
       "      <td>1</td>\n",
       "      <td>no</td>\n",
       "      <td>no</td>\n",
       "      <td>no</td>\n",
       "    </tr>\n",
       "  </tbody>\n",
       "</table>\n",
       "</div>"
      ],
      "text/plain": [
       "   age           job  marital  education  balance housing loan   y\n",
       "0   58    management  married   tertiary     2143     yes   no  no\n",
       "1   44    technician   single  secondary       29     yes   no  no\n",
       "2   33  entrepreneur  married  secondary        2     yes  yes  no\n",
       "3   47   blue-collar  married    unknown     1506     yes   no  no\n",
       "4   33       unknown   single    unknown        1      no   no  no"
      ]
     },
     "execution_count": 2,
     "metadata": {},
     "output_type": "execute_result"
    }
   ],
   "source": [
    "raw_data = pd.read_csv(\"Project1_data.csv\")\n",
    "raw_data.head()"
   ]
  },
  {
   "cell_type": "markdown",
   "id": "b8e20fa6",
   "metadata": {},
   "source": [
    "### Task 2"
   ]
  },
  {
   "cell_type": "markdown",
   "id": "fe356a2b",
   "metadata": {},
   "source": [
    "Check for Nulls in the data"
   ]
  },
  {
   "cell_type": "code",
   "execution_count": 3,
   "id": "45f66eb1",
   "metadata": {
    "ExecuteTime": {
     "end_time": "2023-02-09T00:43:09.749517Z",
     "start_time": "2023-02-09T00:43:09.721294Z"
    }
   },
   "outputs": [
    {
     "data": {
      "text/plain": [
       "age            0\n",
       "job          311\n",
       "marital        0\n",
       "education      0\n",
       "balance        0\n",
       "housing        0\n",
       "loan           0\n",
       "y             14\n",
       "dtype: int64"
      ]
     },
     "execution_count": 3,
     "metadata": {},
     "output_type": "execute_result"
    }
   ],
   "source": [
    "raw_data.isna().sum()"
   ]
  },
  {
   "cell_type": "code",
   "execution_count": 4,
   "id": "807b7b2f",
   "metadata": {
    "ExecuteTime": {
     "end_time": "2023-02-09T00:43:09.782063Z",
     "start_time": "2023-02-09T00:43:09.751133Z"
    }
   },
   "outputs": [
    {
     "name": "stdout",
     "output_type": "stream",
     "text": [
      "<class 'pandas.core.frame.DataFrame'>\n",
      "RangeIndex: 45211 entries, 0 to 45210\n",
      "Data columns (total 8 columns):\n",
      " #   Column     Non-Null Count  Dtype \n",
      "---  ------     --------------  ----- \n",
      " 0   age        45211 non-null  int64 \n",
      " 1   job        44900 non-null  object\n",
      " 2   marital    45211 non-null  object\n",
      " 3   education  45211 non-null  object\n",
      " 4   balance    45211 non-null  int64 \n",
      " 5   housing    45211 non-null  object\n",
      " 6   loan       45211 non-null  object\n",
      " 7   y          45197 non-null  object\n",
      "dtypes: int64(2), object(6)\n",
      "memory usage: 2.8+ MB\n"
     ]
    }
   ],
   "source": [
    "raw_data.info()"
   ]
  },
  {
   "cell_type": "markdown",
   "id": "b12237a6",
   "metadata": {
    "ExecuteTime": {
     "end_time": "2023-02-01T22:42:57.524076Z",
     "start_time": "2023-02-01T22:42:57.520977Z"
    }
   },
   "source": [
    "#### Since 'y' is our target variable, records where the target variable values are missing are to be dropped."
   ]
  },
  {
   "cell_type": "code",
   "execution_count": 5,
   "id": "73deaef5",
   "metadata": {
    "ExecuteTime": {
     "end_time": "2023-02-09T00:43:09.820982Z",
     "start_time": "2023-02-09T00:43:09.783036Z"
    }
   },
   "outputs": [
    {
     "name": "stdout",
     "output_type": "stream",
     "text": [
      "<class 'pandas.core.frame.DataFrame'>\n",
      "Int64Index: 45197 entries, 0 to 45210\n",
      "Data columns (total 8 columns):\n",
      " #   Column     Non-Null Count  Dtype \n",
      "---  ------     --------------  ----- \n",
      " 0   age        45197 non-null  int64 \n",
      " 1   job        44886 non-null  object\n",
      " 2   marital    45197 non-null  object\n",
      " 3   education  45197 non-null  object\n",
      " 4   balance    45197 non-null  int64 \n",
      " 5   housing    45197 non-null  object\n",
      " 6   loan       45197 non-null  object\n",
      " 7   y          45197 non-null  object\n",
      "dtypes: int64(2), object(6)\n",
      "memory usage: 3.1+ MB\n"
     ]
    }
   ],
   "source": [
    "raw_data = raw_data.dropna(subset=['y'])\n",
    "raw_data.info()"
   ]
  },
  {
   "cell_type": "code",
   "execution_count": 6,
   "id": "8d849f3b",
   "metadata": {
    "ExecuteTime": {
     "end_time": "2023-02-09T00:43:09.827010Z",
     "start_time": "2023-02-09T00:43:09.821937Z"
    }
   },
   "outputs": [
    {
     "data": {
      "text/plain": [
       "no     0.883001\n",
       "yes    0.116999\n",
       "Name: y, dtype: float64"
      ]
     },
     "execution_count": 6,
     "metadata": {},
     "output_type": "execute_result"
    }
   ],
   "source": [
    "raw_data['y'].value_counts()/len(raw_data)"
   ]
  },
  {
   "cell_type": "code",
   "execution_count": 7,
   "id": "62b4f358",
   "metadata": {
    "ExecuteTime": {
     "end_time": "2023-02-09T00:43:09.856332Z",
     "start_time": "2023-02-09T00:43:09.827970Z"
    }
   },
   "outputs": [
    {
     "data": {
      "text/plain": [
       "age            0\n",
       "job          311\n",
       "marital        0\n",
       "education      0\n",
       "balance        0\n",
       "housing        0\n",
       "loan           0\n",
       "y              0\n",
       "dtype: int64"
      ]
     },
     "execution_count": 7,
     "metadata": {},
     "output_type": "execute_result"
    }
   ],
   "source": [
    "raw_data.isna().sum()"
   ]
  },
  {
   "cell_type": "code",
   "execution_count": 8,
   "id": "66a5257c",
   "metadata": {
    "ExecuteTime": {
     "end_time": "2023-02-09T00:43:09.861459Z",
     "start_time": "2023-02-09T00:43:09.857328Z"
    }
   },
   "outputs": [
    {
     "data": {
      "text/plain": [
       "array(['management', 'technician', 'entrepreneur', 'blue-collar',\n",
       "       'unknown', 'retired', 'admin.', 'services', 'self-employed',\n",
       "       'unemployed', 'housemaid', nan, 'student'], dtype=object)"
      ]
     },
     "execution_count": 8,
     "metadata": {},
     "output_type": "execute_result"
    }
   ],
   "source": [
    "raw_data.job.unique()"
   ]
  },
  {
   "cell_type": "code",
   "execution_count": 9,
   "id": "99fa26a4",
   "metadata": {
    "ExecuteTime": {
     "end_time": "2023-02-09T00:43:09.867274Z",
     "start_time": "2023-02-09T00:43:09.862555Z"
    }
   },
   "outputs": [
    {
     "data": {
      "text/plain": [
       "blue-collar      9671\n",
       "management       9378\n",
       "technician       7549\n",
       "admin.           5132\n",
       "services         4123\n",
       "retired          2245\n",
       "self-employed    1566\n",
       "entrepreneur     1479\n",
       "unemployed       1292\n",
       "housemaid        1235\n",
       "student           933\n",
       "unknown           283\n",
       "Name: job, dtype: int64"
      ]
     },
     "execution_count": 9,
     "metadata": {},
     "output_type": "execute_result"
    }
   ],
   "source": [
    "raw_data.job.value_counts()"
   ]
  },
  {
   "cell_type": "markdown",
   "id": "98cc6659",
   "metadata": {
    "ExecuteTime": {
     "end_time": "2023-02-01T22:43:25.054870Z",
     "start_time": "2023-02-01T22:43:25.049478Z"
    }
   },
   "source": [
    "#### Impute Nulls in Job column with value 'unknown'"
   ]
  },
  {
   "cell_type": "markdown",
   "id": "8ebea717",
   "metadata": {},
   "source": [
    "Job is categorical independent variable in the given dataset, since the percentage of missing values in this variable data is less, we can impute the nulls with value 'unknown'  "
   ]
  },
  {
   "cell_type": "code",
   "execution_count": 10,
   "id": "76ff577a",
   "metadata": {
    "ExecuteTime": {
     "end_time": "2023-02-09T00:43:09.902602Z",
     "start_time": "2023-02-09T00:43:09.869897Z"
    }
   },
   "outputs": [
    {
     "data": {
      "text/plain": [
       "age          0\n",
       "job          0\n",
       "marital      0\n",
       "education    0\n",
       "balance      0\n",
       "housing      0\n",
       "loan         0\n",
       "y            0\n",
       "dtype: int64"
      ]
     },
     "execution_count": 10,
     "metadata": {},
     "output_type": "execute_result"
    }
   ],
   "source": [
    "raw_data['job'] = raw_data['job'].fillna('unknown')\n",
    "raw_data.isna().sum()"
   ]
  },
  {
   "cell_type": "markdown",
   "id": "2ec16129",
   "metadata": {
    "ExecuteTime": {
     "end_time": "2023-02-06T03:10:00.965290Z",
     "start_time": "2023-02-06T03:10:00.958981Z"
    }
   },
   "source": [
    "### Task 3"
   ]
  },
  {
   "cell_type": "code",
   "execution_count": 11,
   "id": "12e39450",
   "metadata": {
    "ExecuteTime": {
     "end_time": "2023-02-09T00:43:09.935410Z",
     "start_time": "2023-02-09T00:43:09.903575Z"
    }
   },
   "outputs": [
    {
     "data": {
      "text/html": [
       "<div>\n",
       "<style scoped>\n",
       "    .dataframe tbody tr th:only-of-type {\n",
       "        vertical-align: middle;\n",
       "    }\n",
       "\n",
       "    .dataframe tbody tr th {\n",
       "        vertical-align: top;\n",
       "    }\n",
       "\n",
       "    .dataframe thead th {\n",
       "        text-align: right;\n",
       "    }\n",
       "</style>\n",
       "<table border=\"1\" class=\"dataframe\">\n",
       "  <thead>\n",
       "    <tr style=\"text-align: right;\">\n",
       "      <th></th>\n",
       "      <th>age</th>\n",
       "      <th>job</th>\n",
       "      <th>marital</th>\n",
       "      <th>education</th>\n",
       "      <th>balance</th>\n",
       "      <th>housing</th>\n",
       "      <th>loan</th>\n",
       "      <th>y</th>\n",
       "    </tr>\n",
       "  </thead>\n",
       "  <tbody>\n",
       "    <tr>\n",
       "      <th>count</th>\n",
       "      <td>45197.000000</td>\n",
       "      <td>45197</td>\n",
       "      <td>45197</td>\n",
       "      <td>45197</td>\n",
       "      <td>45197.000000</td>\n",
       "      <td>45197</td>\n",
       "      <td>45197</td>\n",
       "      <td>45197</td>\n",
       "    </tr>\n",
       "    <tr>\n",
       "      <th>unique</th>\n",
       "      <td>NaN</td>\n",
       "      <td>12</td>\n",
       "      <td>3</td>\n",
       "      <td>4</td>\n",
       "      <td>NaN</td>\n",
       "      <td>2</td>\n",
       "      <td>2</td>\n",
       "      <td>2</td>\n",
       "    </tr>\n",
       "    <tr>\n",
       "      <th>top</th>\n",
       "      <td>NaN</td>\n",
       "      <td>blue-collar</td>\n",
       "      <td>married</td>\n",
       "      <td>secondary</td>\n",
       "      <td>NaN</td>\n",
       "      <td>yes</td>\n",
       "      <td>no</td>\n",
       "      <td>no</td>\n",
       "    </tr>\n",
       "    <tr>\n",
       "      <th>freq</th>\n",
       "      <td>NaN</td>\n",
       "      <td>9671</td>\n",
       "      <td>27206</td>\n",
       "      <td>23192</td>\n",
       "      <td>NaN</td>\n",
       "      <td>25120</td>\n",
       "      <td>37955</td>\n",
       "      <td>39909</td>\n",
       "    </tr>\n",
       "    <tr>\n",
       "      <th>mean</th>\n",
       "      <td>40.864770</td>\n",
       "      <td>NaN</td>\n",
       "      <td>NaN</td>\n",
       "      <td>NaN</td>\n",
       "      <td>1311.152997</td>\n",
       "      <td>NaN</td>\n",
       "      <td>NaN</td>\n",
       "      <td>NaN</td>\n",
       "    </tr>\n",
       "    <tr>\n",
       "      <th>std</th>\n",
       "      <td>10.750966</td>\n",
       "      <td>NaN</td>\n",
       "      <td>NaN</td>\n",
       "      <td>NaN</td>\n",
       "      <td>3807.483417</td>\n",
       "      <td>NaN</td>\n",
       "      <td>NaN</td>\n",
       "      <td>NaN</td>\n",
       "    </tr>\n",
       "    <tr>\n",
       "      <th>min</th>\n",
       "      <td>0.000000</td>\n",
       "      <td>NaN</td>\n",
       "      <td>NaN</td>\n",
       "      <td>NaN</td>\n",
       "      <td>-99999.000000</td>\n",
       "      <td>NaN</td>\n",
       "      <td>NaN</td>\n",
       "      <td>NaN</td>\n",
       "    </tr>\n",
       "    <tr>\n",
       "      <th>25%</th>\n",
       "      <td>33.000000</td>\n",
       "      <td>NaN</td>\n",
       "      <td>NaN</td>\n",
       "      <td>NaN</td>\n",
       "      <td>72.000000</td>\n",
       "      <td>NaN</td>\n",
       "      <td>NaN</td>\n",
       "      <td>NaN</td>\n",
       "    </tr>\n",
       "    <tr>\n",
       "      <th>50%</th>\n",
       "      <td>39.000000</td>\n",
       "      <td>NaN</td>\n",
       "      <td>NaN</td>\n",
       "      <td>NaN</td>\n",
       "      <td>448.000000</td>\n",
       "      <td>NaN</td>\n",
       "      <td>NaN</td>\n",
       "      <td>NaN</td>\n",
       "    </tr>\n",
       "    <tr>\n",
       "      <th>75%</th>\n",
       "      <td>48.000000</td>\n",
       "      <td>NaN</td>\n",
       "      <td>NaN</td>\n",
       "      <td>NaN</td>\n",
       "      <td>1427.000000</td>\n",
       "      <td>NaN</td>\n",
       "      <td>NaN</td>\n",
       "      <td>NaN</td>\n",
       "    </tr>\n",
       "    <tr>\n",
       "      <th>max</th>\n",
       "      <td>95.000000</td>\n",
       "      <td>NaN</td>\n",
       "      <td>NaN</td>\n",
       "      <td>NaN</td>\n",
       "      <td>102127.000000</td>\n",
       "      <td>NaN</td>\n",
       "      <td>NaN</td>\n",
       "      <td>NaN</td>\n",
       "    </tr>\n",
       "  </tbody>\n",
       "</table>\n",
       "</div>"
      ],
      "text/plain": [
       "                 age          job  marital  education        balance housing  \\\n",
       "count   45197.000000        45197    45197      45197   45197.000000   45197   \n",
       "unique           NaN           12        3          4            NaN       2   \n",
       "top              NaN  blue-collar  married  secondary            NaN     yes   \n",
       "freq             NaN         9671    27206      23192            NaN   25120   \n",
       "mean       40.864770          NaN      NaN        NaN    1311.152997     NaN   \n",
       "std        10.750966          NaN      NaN        NaN    3807.483417     NaN   \n",
       "min         0.000000          NaN      NaN        NaN  -99999.000000     NaN   \n",
       "25%        33.000000          NaN      NaN        NaN      72.000000     NaN   \n",
       "50%        39.000000          NaN      NaN        NaN     448.000000     NaN   \n",
       "75%        48.000000          NaN      NaN        NaN    1427.000000     NaN   \n",
       "max        95.000000          NaN      NaN        NaN  102127.000000     NaN   \n",
       "\n",
       "         loan      y  \n",
       "count   45197  45197  \n",
       "unique      2      2  \n",
       "top        no     no  \n",
       "freq    37955  39909  \n",
       "mean      NaN    NaN  \n",
       "std       NaN    NaN  \n",
       "min       NaN    NaN  \n",
       "25%       NaN    NaN  \n",
       "50%       NaN    NaN  \n",
       "75%       NaN    NaN  \n",
       "max       NaN    NaN  "
      ]
     },
     "execution_count": 11,
     "metadata": {},
     "output_type": "execute_result"
    }
   ],
   "source": [
    "raw_data.describe(include='all')"
   ]
  },
  {
   "cell_type": "code",
   "execution_count": 12,
   "id": "f2a5ce70",
   "metadata": {
    "ExecuteTime": {
     "end_time": "2023-02-09T00:43:09.939706Z",
     "start_time": "2023-02-09T00:43:09.936490Z"
    }
   },
   "outputs": [
    {
     "name": "stderr",
     "output_type": "stream",
     "text": [
      "/Users/akhileshpothuri/opt/anaconda3/lib/python3.9/site-packages/pandas/core/arraylike.py:397: RuntimeWarning: invalid value encountered in sqrt\n",
      "  result = getattr(ufunc, method)(*inputs, **kwargs)\n"
     ]
    }
   ],
   "source": [
    "raw_data['balance'] = np.sqrt(raw_data['balance'])"
   ]
  },
  {
   "cell_type": "code",
   "execution_count": 13,
   "id": "af7e39ae",
   "metadata": {
    "ExecuteTime": {
     "end_time": "2023-02-09T00:43:09.987950Z",
     "start_time": "2023-02-09T00:43:09.940774Z"
    }
   },
   "outputs": [],
   "source": [
    "raw_data.replace([np.inf, -np.inf], 0, inplace=True)"
   ]
  },
  {
   "cell_type": "code",
   "execution_count": 14,
   "id": "3f1e689b",
   "metadata": {
    "ExecuteTime": {
     "end_time": "2023-02-09T00:43:10.145253Z",
     "start_time": "2023-02-09T00:43:09.988980Z"
    }
   },
   "outputs": [
    {
     "data": {
      "text/plain": [
       "array([[<AxesSubplot:title={'center':'age'}>,\n",
       "        <AxesSubplot:title={'center':'balance'}>]], dtype=object)"
      ]
     },
     "execution_count": 14,
     "metadata": {},
     "output_type": "execute_result"
    },
    {
     "data": {
      "image/png": "[encoded data removed]",
      "text/plain": [
       "<Figure size 720x432 with 2 Axes>"
      ]
     },
     "metadata": {
      "needs_background": "light"
     },
     "output_type": "display_data"
    }
   ],
   "source": [
    "raw_data.hist(bins=30, figsize=(10, 6))"
   ]
  },
  {
   "cell_type": "code",
   "execution_count": 15,
   "id": "ce710691",
   "metadata": {
    "ExecuteTime": {
     "end_time": "2023-02-09T00:43:10.221279Z",
     "start_time": "2023-02-09T00:43:10.146114Z"
    }
   },
   "outputs": [
    {
     "data": {
      "text/plain": [
       "<AxesSubplot:>"
      ]
     },
     "execution_count": 15,
     "metadata": {},
     "output_type": "execute_result"
    },
    {
     "data": {
      "image/png": "[encoded data removed]",
      "text/plain": [
       "<Figure size 432x288 with 1 Axes>"
      ]
     },
     "metadata": {
      "needs_background": "light"
     },
     "output_type": "display_data"
    }
   ],
   "source": [
    "raw_data[raw_data['age']==0].job.value_counts().plot.bar(x='job', y='Frequency')"
   ]
  },
  {
   "cell_type": "markdown",
   "id": "6d3da92a",
   "metadata": {},
   "source": [
    "#### Age 0 appears to be erroneous data and hence is to be dropped from modelling"
   ]
  },
  {
   "cell_type": "code",
   "execution_count": 16,
   "id": "52e2604d",
   "metadata": {
    "ExecuteTime": {
     "end_time": "2023-02-09T00:43:10.226931Z",
     "start_time": "2023-02-09T00:43:10.222284Z"
    }
   },
   "outputs": [],
   "source": [
    "raw_data = raw_data[raw_data['age']!=0]"
   ]
  },
  {
   "cell_type": "markdown",
   "id": "c110e49f",
   "metadata": {},
   "source": [
    "#### Since balance is right skewed, we fill the null values with mean value"
   ]
  },
  {
   "cell_type": "code",
   "execution_count": 17,
   "id": "c557cd32",
   "metadata": {
    "ExecuteTime": {
     "end_time": "2023-02-09T00:43:10.230605Z",
     "start_time": "2023-02-09T00:43:10.227985Z"
    }
   },
   "outputs": [],
   "source": [
    "raw_data['balance'] = raw_data['balance'].fillna(raw_data['balance'].mean())"
   ]
  },
  {
   "cell_type": "code",
   "execution_count": 18,
   "id": "2757595e",
   "metadata": {
    "ExecuteTime": {
     "end_time": "2023-02-09T00:43:10.374371Z",
     "start_time": "2023-02-09T00:43:10.231439Z"
    }
   },
   "outputs": [
    {
     "data": {
      "text/plain": [
       "array([[<AxesSubplot:title={'center':'age'}>,\n",
       "        <AxesSubplot:title={'center':'balance'}>]], dtype=object)"
      ]
     },
     "execution_count": 18,
     "metadata": {},
     "output_type": "execute_result"
    },
    {
     "data": {
      "image/png": "[encoded data removed]",
      "text/plain": [
       "<Figure size 720x432 with 2 Axes>"
      ]
     },
     "metadata": {
      "needs_background": "light"
     },
     "output_type": "display_data"
    }
   ],
   "source": [
    "raw_data.hist(bins=30, figsize=(10, 6))"
   ]
  },
  {
   "cell_type": "markdown",
   "id": "76c9d803",
   "metadata": {},
   "source": [
    "### Task 4"
   ]
  },
  {
   "cell_type": "code",
   "execution_count": 19,
   "id": "33ce6b96",
   "metadata": {
    "ExecuteTime": {
     "end_time": "2023-02-09T00:43:10.382728Z",
     "start_time": "2023-02-09T00:43:10.375287Z"
    }
   },
   "outputs": [],
   "source": [
    "\n",
    "train_df, test_df = train_test_split(raw_data, test_size=0.2)\n",
    "\n",
    "train_df = train_df.reset_index(drop=True)\n",
    "\n",
    "test_df = test_df.reset_index(drop=True)"
   ]
  },
  {
   "cell_type": "code",
   "execution_count": 20,
   "id": "705253b8",
   "metadata": {
    "ExecuteTime": {
     "end_time": "2023-02-09T00:43:10.417158Z",
     "start_time": "2023-02-09T00:43:10.383618Z"
    }
   },
   "outputs": [
    {
     "name": "stdout",
     "output_type": "stream",
     "text": [
      "<class 'pandas.core.frame.DataFrame'>\n",
      "RangeIndex: 36092 entries, 0 to 36091\n",
      "Data columns (total 8 columns):\n",
      " #   Column     Non-Null Count  Dtype  \n",
      "---  ------     --------------  -----  \n",
      " 0   age        36092 non-null  int64  \n",
      " 1   job        36092 non-null  object \n",
      " 2   marital    36092 non-null  object \n",
      " 3   education  36092 non-null  object \n",
      " 4   balance    36092 non-null  float64\n",
      " 5   housing    36092 non-null  object \n",
      " 6   loan       36092 non-null  object \n",
      " 7   y          36092 non-null  object \n",
      "dtypes: float64(1), int64(1), object(6)\n",
      "memory usage: 2.2+ MB\n",
      "<class 'pandas.core.frame.DataFrame'>\n",
      "RangeIndex: 9024 entries, 0 to 9023\n",
      "Data columns (total 8 columns):\n",
      " #   Column     Non-Null Count  Dtype  \n",
      "---  ------     --------------  -----  \n",
      " 0   age        9024 non-null   int64  \n",
      " 1   job        9024 non-null   object \n",
      " 2   marital    9024 non-null   object \n",
      " 3   education  9024 non-null   object \n",
      " 4   balance    9024 non-null   float64\n",
      " 5   housing    9024 non-null   object \n",
      " 6   loan       9024 non-null   object \n",
      " 7   y          9024 non-null   object \n",
      "dtypes: float64(1), int64(1), object(6)\n",
      "memory usage: 564.1+ KB\n"
     ]
    },
    {
     "data": {
      "text/plain": [
       "(None, None)"
      ]
     },
     "execution_count": 20,
     "metadata": {},
     "output_type": "execute_result"
    }
   ],
   "source": [
    "train_df.info(),test_df.info()"
   ]
  },
  {
   "cell_type": "markdown",
   "id": "0a4c4120",
   "metadata": {},
   "source": [
    "### Task 5 "
   ]
  },
  {
   "cell_type": "markdown",
   "id": "cc5dea7d",
   "metadata": {},
   "source": [
    "#### Exploratory Data Analysis"
   ]
  },
  {
   "cell_type": "code",
   "execution_count": 21,
   "id": "f7ad5e00",
   "metadata": {
    "ExecuteTime": {
     "end_time": "2023-02-09T00:43:10.427059Z",
     "start_time": "2023-02-09T00:43:10.418374Z"
    }
   },
   "outputs": [
    {
     "data": {
      "text/html": [
       "<div>\n",
       "<style scoped>\n",
       "    .dataframe tbody tr th:only-of-type {\n",
       "        vertical-align: middle;\n",
       "    }\n",
       "\n",
       "    .dataframe tbody tr th {\n",
       "        vertical-align: top;\n",
       "    }\n",
       "\n",
       "    .dataframe thead th {\n",
       "        text-align: right;\n",
       "    }\n",
       "</style>\n",
       "<table border=\"1\" class=\"dataframe\">\n",
       "  <thead>\n",
       "    <tr style=\"text-align: right;\">\n",
       "      <th></th>\n",
       "      <th>age</th>\n",
       "      <th>balance</th>\n",
       "    </tr>\n",
       "  </thead>\n",
       "  <tbody>\n",
       "    <tr>\n",
       "      <th>count</th>\n",
       "      <td>36092.000000</td>\n",
       "      <td>36092.000000</td>\n",
       "    </tr>\n",
       "    <tr>\n",
       "      <th>mean</th>\n",
       "      <td>40.989665</td>\n",
       "      <td>29.356966</td>\n",
       "    </tr>\n",
       "    <tr>\n",
       "      <th>std</th>\n",
       "      <td>10.648805</td>\n",
       "      <td>24.515830</td>\n",
       "    </tr>\n",
       "    <tr>\n",
       "      <th>min</th>\n",
       "      <td>18.000000</td>\n",
       "      <td>0.000000</td>\n",
       "    </tr>\n",
       "    <tr>\n",
       "      <th>25%</th>\n",
       "      <td>33.000000</td>\n",
       "      <td>13.228757</td>\n",
       "    </tr>\n",
       "    <tr>\n",
       "      <th>50%</th>\n",
       "      <td>39.000000</td>\n",
       "      <td>25.670995</td>\n",
       "    </tr>\n",
       "    <tr>\n",
       "      <th>75%</th>\n",
       "      <td>48.000000</td>\n",
       "      <td>37.911080</td>\n",
       "    </tr>\n",
       "    <tr>\n",
       "      <th>max</th>\n",
       "      <td>95.000000</td>\n",
       "      <td>319.573153</td>\n",
       "    </tr>\n",
       "  </tbody>\n",
       "</table>\n",
       "</div>"
      ],
      "text/plain": [
       "                age       balance\n",
       "count  36092.000000  36092.000000\n",
       "mean      40.989665     29.356966\n",
       "std       10.648805     24.515830\n",
       "min       18.000000      0.000000\n",
       "25%       33.000000     13.228757\n",
       "50%       39.000000     25.670995\n",
       "75%       48.000000     37.911080\n",
       "max       95.000000    319.573153"
      ]
     },
     "execution_count": 21,
     "metadata": {},
     "output_type": "execute_result"
    }
   ],
   "source": [
    "train_df.describe()"
   ]
  },
  {
   "cell_type": "code",
   "execution_count": 22,
   "id": "5e5a91ee",
   "metadata": {
    "ExecuteTime": {
     "end_time": "2023-02-09T00:43:10.456327Z",
     "start_time": "2023-02-09T00:43:10.428101Z"
    }
   },
   "outputs": [
    {
     "data": {
      "text/html": [
       "<div>\n",
       "<style scoped>\n",
       "    .dataframe tbody tr th:only-of-type {\n",
       "        vertical-align: middle;\n",
       "    }\n",
       "\n",
       "    .dataframe tbody tr th {\n",
       "        vertical-align: top;\n",
       "    }\n",
       "\n",
       "    .dataframe thead th {\n",
       "        text-align: right;\n",
       "    }\n",
       "</style>\n",
       "<table border=\"1\" class=\"dataframe\">\n",
       "  <thead>\n",
       "    <tr style=\"text-align: right;\">\n",
       "      <th></th>\n",
       "      <th>age</th>\n",
       "      <th>job</th>\n",
       "      <th>marital</th>\n",
       "      <th>education</th>\n",
       "      <th>balance</th>\n",
       "      <th>housing</th>\n",
       "      <th>loan</th>\n",
       "      <th>y</th>\n",
       "    </tr>\n",
       "  </thead>\n",
       "  <tbody>\n",
       "    <tr>\n",
       "      <th>count</th>\n",
       "      <td>36092.000000</td>\n",
       "      <td>36092</td>\n",
       "      <td>36092</td>\n",
       "      <td>36092</td>\n",
       "      <td>36092.000000</td>\n",
       "      <td>36092</td>\n",
       "      <td>36092</td>\n",
       "      <td>36092</td>\n",
       "    </tr>\n",
       "    <tr>\n",
       "      <th>unique</th>\n",
       "      <td>NaN</td>\n",
       "      <td>12</td>\n",
       "      <td>3</td>\n",
       "      <td>4</td>\n",
       "      <td>NaN</td>\n",
       "      <td>2</td>\n",
       "      <td>2</td>\n",
       "      <td>2</td>\n",
       "    </tr>\n",
       "    <tr>\n",
       "      <th>top</th>\n",
       "      <td>NaN</td>\n",
       "      <td>blue-collar</td>\n",
       "      <td>married</td>\n",
       "      <td>secondary</td>\n",
       "      <td>NaN</td>\n",
       "      <td>yes</td>\n",
       "      <td>no</td>\n",
       "      <td>no</td>\n",
       "    </tr>\n",
       "    <tr>\n",
       "      <th>freq</th>\n",
       "      <td>NaN</td>\n",
       "      <td>7713</td>\n",
       "      <td>21796</td>\n",
       "      <td>18516</td>\n",
       "      <td>NaN</td>\n",
       "      <td>20013</td>\n",
       "      <td>30267</td>\n",
       "      <td>31844</td>\n",
       "    </tr>\n",
       "    <tr>\n",
       "      <th>mean</th>\n",
       "      <td>40.989665</td>\n",
       "      <td>NaN</td>\n",
       "      <td>NaN</td>\n",
       "      <td>NaN</td>\n",
       "      <td>29.356966</td>\n",
       "      <td>NaN</td>\n",
       "      <td>NaN</td>\n",
       "      <td>NaN</td>\n",
       "    </tr>\n",
       "    <tr>\n",
       "      <th>std</th>\n",
       "      <td>10.648805</td>\n",
       "      <td>NaN</td>\n",
       "      <td>NaN</td>\n",
       "      <td>NaN</td>\n",
       "      <td>24.515830</td>\n",
       "      <td>NaN</td>\n",
       "      <td>NaN</td>\n",
       "      <td>NaN</td>\n",
       "    </tr>\n",
       "    <tr>\n",
       "      <th>min</th>\n",
       "      <td>18.000000</td>\n",
       "      <td>NaN</td>\n",
       "      <td>NaN</td>\n",
       "      <td>NaN</td>\n",
       "      <td>0.000000</td>\n",
       "      <td>NaN</td>\n",
       "      <td>NaN</td>\n",
       "      <td>NaN</td>\n",
       "    </tr>\n",
       "    <tr>\n",
       "      <th>25%</th>\n",
       "      <td>33.000000</td>\n",
       "      <td>NaN</td>\n",
       "      <td>NaN</td>\n",
       "      <td>NaN</td>\n",
       "      <td>13.228757</td>\n",
       "      <td>NaN</td>\n",
       "      <td>NaN</td>\n",
       "      <td>NaN</td>\n",
       "    </tr>\n",
       "    <tr>\n",
       "      <th>50%</th>\n",
       "      <td>39.000000</td>\n",
       "      <td>NaN</td>\n",
       "      <td>NaN</td>\n",
       "      <td>NaN</td>\n",
       "      <td>25.670995</td>\n",
       "      <td>NaN</td>\n",
       "      <td>NaN</td>\n",
       "      <td>NaN</td>\n",
       "    </tr>\n",
       "    <tr>\n",
       "      <th>75%</th>\n",
       "      <td>48.000000</td>\n",
       "      <td>NaN</td>\n",
       "      <td>NaN</td>\n",
       "      <td>NaN</td>\n",
       "      <td>37.911080</td>\n",
       "      <td>NaN</td>\n",
       "      <td>NaN</td>\n",
       "      <td>NaN</td>\n",
       "    </tr>\n",
       "    <tr>\n",
       "      <th>max</th>\n",
       "      <td>95.000000</td>\n",
       "      <td>NaN</td>\n",
       "      <td>NaN</td>\n",
       "      <td>NaN</td>\n",
       "      <td>319.573153</td>\n",
       "      <td>NaN</td>\n",
       "      <td>NaN</td>\n",
       "      <td>NaN</td>\n",
       "    </tr>\n",
       "  </tbody>\n",
       "</table>\n",
       "</div>"
      ],
      "text/plain": [
       "                 age          job  marital  education       balance housing  \\\n",
       "count   36092.000000        36092    36092      36092  36092.000000   36092   \n",
       "unique           NaN           12        3          4           NaN       2   \n",
       "top              NaN  blue-collar  married  secondary           NaN     yes   \n",
       "freq             NaN         7713    21796      18516           NaN   20013   \n",
       "mean       40.989665          NaN      NaN        NaN     29.356966     NaN   \n",
       "std        10.648805          NaN      NaN        NaN     24.515830     NaN   \n",
       "min        18.000000          NaN      NaN        NaN      0.000000     NaN   \n",
       "25%        33.000000          NaN      NaN        NaN     13.228757     NaN   \n",
       "50%        39.000000          NaN      NaN        NaN     25.670995     NaN   \n",
       "75%        48.000000          NaN      NaN        NaN     37.911080     NaN   \n",
       "max        95.000000          NaN      NaN        NaN    319.573153     NaN   \n",
       "\n",
       "         loan      y  \n",
       "count   36092  36092  \n",
       "unique      2      2  \n",
       "top        no     no  \n",
       "freq    30267  31844  \n",
       "mean      NaN    NaN  \n",
       "std       NaN    NaN  \n",
       "min       NaN    NaN  \n",
       "25%       NaN    NaN  \n",
       "50%       NaN    NaN  \n",
       "75%       NaN    NaN  \n",
       "max       NaN    NaN  "
      ]
     },
     "execution_count": 22,
     "metadata": {},
     "output_type": "execute_result"
    }
   ],
   "source": [
    "train_df.describe(include='all')"
   ]
  },
  {
   "cell_type": "code",
   "execution_count": 23,
   "id": "42aa69d6",
   "metadata": {
    "ExecuteTime": {
     "end_time": "2023-02-09T00:43:10.465072Z",
     "start_time": "2023-02-09T00:43:10.457445Z"
    }
   },
   "outputs": [
    {
     "data": {
      "text/plain": [
       "blue-collar      7713\n",
       "management       7490\n",
       "technician       6010\n",
       "admin.           4104\n",
       "services         3294\n",
       "retired          1808\n",
       "self-employed    1272\n",
       "entrepreneur     1203\n",
       "unemployed       1006\n",
       "housemaid         975\n",
       "student           748\n",
       "unknown           469\n",
       "Name: job, dtype: int64"
      ]
     },
     "execution_count": 23,
     "metadata": {},
     "output_type": "execute_result"
    }
   ],
   "source": [
    "train_df.job.value_counts()"
   ]
  },
  {
   "cell_type": "code",
   "execution_count": 24,
   "id": "3b0b0f76",
   "metadata": {
    "ExecuteTime": {
     "end_time": "2023-02-09T00:43:10.472311Z",
     "start_time": "2023-02-09T00:43:10.467188Z"
    }
   },
   "outputs": [
    {
     "data": {
      "text/plain": [
       "married     21796\n",
       "single      10146\n",
       "divorced     4150\n",
       "Name: marital, dtype: int64"
      ]
     },
     "execution_count": 24,
     "metadata": {},
     "output_type": "execute_result"
    }
   ],
   "source": [
    "train_df.marital.value_counts()"
   ]
  },
  {
   "cell_type": "code",
   "execution_count": 25,
   "id": "5635903c",
   "metadata": {
    "ExecuteTime": {
     "end_time": "2023-02-09T00:43:10.478684Z",
     "start_time": "2023-02-09T00:43:10.473352Z"
    }
   },
   "outputs": [
    {
     "data": {
      "text/plain": [
       "secondary    18516\n",
       "tertiary     10658\n",
       "primary       5433\n",
       "unknown       1485\n",
       "Name: education, dtype: int64"
      ]
     },
     "execution_count": 25,
     "metadata": {},
     "output_type": "execute_result"
    }
   ],
   "source": [
    "train_df.education.value_counts()"
   ]
  },
  {
   "cell_type": "code",
   "execution_count": 26,
   "id": "4e49dc58",
   "metadata": {
    "ExecuteTime": {
     "end_time": "2023-02-09T00:43:10.484140Z",
     "start_time": "2023-02-09T00:43:10.479756Z"
    }
   },
   "outputs": [
    {
     "data": {
      "text/plain": [
       "yes    20013\n",
       "no     16079\n",
       "Name: housing, dtype: int64"
      ]
     },
     "execution_count": 26,
     "metadata": {},
     "output_type": "execute_result"
    }
   ],
   "source": [
    "train_df.housing.value_counts()"
   ]
  },
  {
   "cell_type": "code",
   "execution_count": 27,
   "id": "5257d6b9",
   "metadata": {
    "ExecuteTime": {
     "end_time": "2023-02-09T00:43:10.490686Z",
     "start_time": "2023-02-09T00:43:10.485084Z"
    }
   },
   "outputs": [
    {
     "data": {
      "text/plain": [
       "no     30267\n",
       "yes     5825\n",
       "Name: loan, dtype: int64"
      ]
     },
     "execution_count": 27,
     "metadata": {},
     "output_type": "execute_result"
    }
   ],
   "source": [
    "train_df.loan.value_counts()"
   ]
  },
  {
   "cell_type": "code",
   "execution_count": 28,
   "id": "a649ab2f",
   "metadata": {
    "ExecuteTime": {
     "end_time": "2023-02-09T00:43:10.570989Z",
     "start_time": "2023-02-09T00:43:10.496163Z"
    }
   },
   "outputs": [
    {
     "data": {
      "text/plain": [
       "<AxesSubplot:ylabel='None'>"
      ]
     },
     "execution_count": 28,
     "metadata": {},
     "output_type": "execute_result"
    },
    {
     "data": {
      "image/png": "[encoded data removed]",
      "text/plain": [
       "<Figure size 792x432 with 1 Axes>"
      ]
     },
     "metadata": {},
     "output_type": "display_data"
    }
   ],
   "source": [
    "train_df.groupby('job').size().plot(kind='pie', autopct='%.2f%%',figsize=(11,6))"
   ]
  },
  {
   "cell_type": "code",
   "execution_count": 29,
   "id": "4c592867",
   "metadata": {
    "ExecuteTime": {
     "end_time": "2023-02-09T00:43:10.627818Z",
     "start_time": "2023-02-09T00:43:10.572234Z"
    }
   },
   "outputs": [
    {
     "data": {
      "text/plain": [
       "<AxesSubplot:>"
      ]
     },
     "execution_count": 29,
     "metadata": {},
     "output_type": "execute_result"
    },
    {
     "data": {
      "image/png": "[encoded data removed]",
      "text/plain": [
       "<Figure size 432x288 with 1 Axes>"
      ]
     },
     "metadata": {
      "needs_background": "light"
     },
     "output_type": "display_data"
    }
   ],
   "source": [
    "train_df.education.value_counts().plot.bar(x='Education', y='Frequency')"
   ]
  },
  {
   "cell_type": "code",
   "execution_count": 30,
   "id": "37b74f06",
   "metadata": {
    "ExecuteTime": {
     "end_time": "2023-02-09T00:43:10.671797Z",
     "start_time": "2023-02-09T00:43:10.628749Z"
    }
   },
   "outputs": [
    {
     "data": {
      "text/plain": [
       "<AxesSubplot:ylabel='None'>"
      ]
     },
     "execution_count": 30,
     "metadata": {},
     "output_type": "execute_result"
    },
    {
     "data": {
      "image/png": "[encoded data removed]",
      "text/plain": [
       "<Figure size 792x432 with 1 Axes>"
      ]
     },
     "metadata": {},
     "output_type": "display_data"
    }
   ],
   "source": [
    "train_df.groupby('marital').size().plot(kind='pie', autopct='%.2f%%',figsize=(11,6))"
   ]
  },
  {
   "cell_type": "code",
   "execution_count": 31,
   "id": "69a1701e",
   "metadata": {
    "ExecuteTime": {
     "end_time": "2023-02-09T00:43:10.846266Z",
     "start_time": "2023-02-09T00:43:10.673047Z"
    }
   },
   "outputs": [
    {
     "data": {
      "text/plain": [
       "array([[<AxesSubplot:title={'center':'age'}>,\n",
       "        <AxesSubplot:title={'center':'balance'}>]], dtype=object)"
      ]
     },
     "execution_count": 31,
     "metadata": {},
     "output_type": "execute_result"
    },
    {
     "data": {
      "image/png": "[encoded data removed]",
      "text/plain": [
       "<Figure size 720x432 with 2 Axes>"
      ]
     },
     "metadata": {
      "needs_background": "light"
     },
     "output_type": "display_data"
    }
   ],
   "source": [
    "train_df.hist(bins=30, figsize=(10, 6))"
   ]
  },
  {
   "cell_type": "code",
   "execution_count": 32,
   "id": "42f99c40",
   "metadata": {
    "ExecuteTime": {
     "end_time": "2023-02-09T00:43:10.944550Z",
     "start_time": "2023-02-09T00:43:10.847248Z"
    }
   },
   "outputs": [
    {
     "data": {
      "image/png": "[encoded data removed]",
      "text/plain": [
       "<Figure size 432x288 with 1 Axes>"
      ]
     },
     "metadata": {
      "needs_background": "light"
     },
     "output_type": "display_data"
    }
   ],
   "source": [
    "fig, ax = plt.subplots()\n",
    "\n",
    "ax.hist(train_df[train_df[\"y\"]=='no'][\"age\"], bins=15, alpha=0.5, color=\"blue\", label=\"Yes\")\n",
    "ax.hist(train_df[train_df[\"y\"]=='yes'][\"age\"], bins=15, alpha=0.5, color=\"green\", label=\"No\")\n",
    "\n",
    "ax.set_xlabel(\"Age\")\n",
    "ax.set_ylabel(\"Count of individuals\")\n",
    "\n",
    "\n",
    "ax.legend();"
   ]
  },
  {
   "cell_type": "markdown",
   "id": "0c311752",
   "metadata": {},
   "source": [
    "1) The candidates with secondary education are dominant when compared to other levels of education  \n",
    "2) Age variable is similar to a normal distribution with majority lying in the range of 30-40  \n",
    "3) 60% of them are married  \n",
    "4) The target variable is highly imbalanced"
   ]
  },
  {
   "cell_type": "markdown",
   "id": "609ca58d",
   "metadata": {},
   "source": [
    "### Task 6"
   ]
  },
  {
   "cell_type": "markdown",
   "id": "cf0c0ed4",
   "metadata": {},
   "source": [
    "One-Hot Encoding the categorical Variables"
   ]
  },
  {
   "cell_type": "code",
   "execution_count": 33,
   "id": "6461c46d",
   "metadata": {
    "ExecuteTime": {
     "end_time": "2023-02-09T00:43:10.970397Z",
     "start_time": "2023-02-09T00:43:10.945493Z"
    }
   },
   "outputs": [
    {
     "name": "stdout",
     "output_type": "stream",
     "text": [
      "<class 'pandas.core.frame.DataFrame'>\n",
      "RangeIndex: 36092 entries, 0 to 36091\n",
      "Data columns (total 8 columns):\n",
      " #   Column     Non-Null Count  Dtype  \n",
      "---  ------     --------------  -----  \n",
      " 0   age        36092 non-null  int64  \n",
      " 1   job        36092 non-null  object \n",
      " 2   marital    36092 non-null  object \n",
      " 3   education  36092 non-null  object \n",
      " 4   balance    36092 non-null  float64\n",
      " 5   housing    36092 non-null  object \n",
      " 6   loan       36092 non-null  object \n",
      " 7   y          36092 non-null  object \n",
      "dtypes: float64(1), int64(1), object(6)\n",
      "memory usage: 2.2+ MB\n"
     ]
    }
   ],
   "source": [
    "train_df.info()"
   ]
  },
  {
   "cell_type": "code",
   "execution_count": 34,
   "id": "d72e8510",
   "metadata": {
    "ExecuteTime": {
     "end_time": "2023-02-09T00:43:10.996366Z",
     "start_time": "2023-02-09T00:43:10.971492Z"
    }
   },
   "outputs": [
    {
     "data": {
      "text/plain": [
       "((36092, 26), (9024, 26))"
      ]
     },
     "execution_count": 34,
     "metadata": {},
     "output_type": "execute_result"
    }
   ],
   "source": [
    "cat_columns = ['job','marital','education','housing','loan']\n",
    "\n",
    "train_df = pd.get_dummies(train_df,columns = cat_columns)\n",
    "test_df = pd.get_dummies(test_df,columns = cat_columns)\n",
    "\n",
    "train_df.shape,test_df.shape"
   ]
  },
  {
   "cell_type": "code",
   "execution_count": 35,
   "id": "be0781cb",
   "metadata": {
    "ExecuteTime": {
     "end_time": "2023-02-09T00:43:11.013477Z",
     "start_time": "2023-02-09T00:43:10.997439Z"
    }
   },
   "outputs": [
    {
     "data": {
      "text/html": [
       "<div>\n",
       "<style scoped>\n",
       "    .dataframe tbody tr th:only-of-type {\n",
       "        vertical-align: middle;\n",
       "    }\n",
       "\n",
       "    .dataframe tbody tr th {\n",
       "        vertical-align: top;\n",
       "    }\n",
       "\n",
       "    .dataframe thead th {\n",
       "        text-align: right;\n",
       "    }\n",
       "</style>\n",
       "<table border=\"1\" class=\"dataframe\">\n",
       "  <thead>\n",
       "    <tr style=\"text-align: right;\">\n",
       "      <th></th>\n",
       "      <th>age</th>\n",
       "      <th>balance</th>\n",
       "      <th>y</th>\n",
       "      <th>job_admin.</th>\n",
       "      <th>job_blue-collar</th>\n",
       "      <th>job_entrepreneur</th>\n",
       "      <th>job_housemaid</th>\n",
       "      <th>job_management</th>\n",
       "      <th>job_retired</th>\n",
       "      <th>job_self-employed</th>\n",
       "      <th>...</th>\n",
       "      <th>marital_married</th>\n",
       "      <th>marital_single</th>\n",
       "      <th>education_primary</th>\n",
       "      <th>education_secondary</th>\n",
       "      <th>education_tertiary</th>\n",
       "      <th>education_unknown</th>\n",
       "      <th>housing_no</th>\n",
       "      <th>housing_yes</th>\n",
       "      <th>loan_no</th>\n",
       "      <th>loan_yes</th>\n",
       "    </tr>\n",
       "  </thead>\n",
       "  <tbody>\n",
       "    <tr>\n",
       "      <th>0</th>\n",
       "      <td>37</td>\n",
       "      <td>49.416596</td>\n",
       "      <td>yes</td>\n",
       "      <td>0</td>\n",
       "      <td>0</td>\n",
       "      <td>0</td>\n",
       "      <td>0</td>\n",
       "      <td>0</td>\n",
       "      <td>0</td>\n",
       "      <td>0</td>\n",
       "      <td>...</td>\n",
       "      <td>0</td>\n",
       "      <td>1</td>\n",
       "      <td>0</td>\n",
       "      <td>1</td>\n",
       "      <td>0</td>\n",
       "      <td>0</td>\n",
       "      <td>1</td>\n",
       "      <td>0</td>\n",
       "      <td>1</td>\n",
       "      <td>0</td>\n",
       "    </tr>\n",
       "    <tr>\n",
       "      <th>1</th>\n",
       "      <td>52</td>\n",
       "      <td>44.988888</td>\n",
       "      <td>no</td>\n",
       "      <td>0</td>\n",
       "      <td>1</td>\n",
       "      <td>0</td>\n",
       "      <td>0</td>\n",
       "      <td>0</td>\n",
       "      <td>0</td>\n",
       "      <td>0</td>\n",
       "      <td>...</td>\n",
       "      <td>0</td>\n",
       "      <td>1</td>\n",
       "      <td>1</td>\n",
       "      <td>0</td>\n",
       "      <td>0</td>\n",
       "      <td>0</td>\n",
       "      <td>0</td>\n",
       "      <td>1</td>\n",
       "      <td>1</td>\n",
       "      <td>0</td>\n",
       "    </tr>\n",
       "    <tr>\n",
       "      <th>2</th>\n",
       "      <td>41</td>\n",
       "      <td>23.494680</td>\n",
       "      <td>no</td>\n",
       "      <td>0</td>\n",
       "      <td>1</td>\n",
       "      <td>0</td>\n",
       "      <td>0</td>\n",
       "      <td>0</td>\n",
       "      <td>0</td>\n",
       "      <td>0</td>\n",
       "      <td>...</td>\n",
       "      <td>1</td>\n",
       "      <td>0</td>\n",
       "      <td>0</td>\n",
       "      <td>1</td>\n",
       "      <td>0</td>\n",
       "      <td>0</td>\n",
       "      <td>0</td>\n",
       "      <td>1</td>\n",
       "      <td>1</td>\n",
       "      <td>0</td>\n",
       "    </tr>\n",
       "    <tr>\n",
       "      <th>3</th>\n",
       "      <td>36</td>\n",
       "      <td>56.753854</td>\n",
       "      <td>yes</td>\n",
       "      <td>1</td>\n",
       "      <td>0</td>\n",
       "      <td>0</td>\n",
       "      <td>0</td>\n",
       "      <td>0</td>\n",
       "      <td>0</td>\n",
       "      <td>0</td>\n",
       "      <td>...</td>\n",
       "      <td>1</td>\n",
       "      <td>0</td>\n",
       "      <td>0</td>\n",
       "      <td>0</td>\n",
       "      <td>1</td>\n",
       "      <td>0</td>\n",
       "      <td>1</td>\n",
       "      <td>0</td>\n",
       "      <td>1</td>\n",
       "      <td>0</td>\n",
       "    </tr>\n",
       "    <tr>\n",
       "      <th>4</th>\n",
       "      <td>45</td>\n",
       "      <td>13.416408</td>\n",
       "      <td>no</td>\n",
       "      <td>1</td>\n",
       "      <td>0</td>\n",
       "      <td>0</td>\n",
       "      <td>0</td>\n",
       "      <td>0</td>\n",
       "      <td>0</td>\n",
       "      <td>0</td>\n",
       "      <td>...</td>\n",
       "      <td>1</td>\n",
       "      <td>0</td>\n",
       "      <td>0</td>\n",
       "      <td>1</td>\n",
       "      <td>0</td>\n",
       "      <td>0</td>\n",
       "      <td>0</td>\n",
       "      <td>1</td>\n",
       "      <td>1</td>\n",
       "      <td>0</td>\n",
       "    </tr>\n",
       "  </tbody>\n",
       "</table>\n",
       "<p>5 rows × 26 columns</p>\n",
       "</div>"
      ],
      "text/plain": [
       "   age    balance    y  job_admin.  job_blue-collar  job_entrepreneur  \\\n",
       "0   37  49.416596  yes           0                0                 0   \n",
       "1   52  44.988888   no           0                1                 0   \n",
       "2   41  23.494680   no           0                1                 0   \n",
       "3   36  56.753854  yes           1                0                 0   \n",
       "4   45  13.416408   no           1                0                 0   \n",
       "\n",
       "   job_housemaid  job_management  job_retired  job_self-employed  ...  \\\n",
       "0              0               0            0                  0  ...   \n",
       "1              0               0            0                  0  ...   \n",
       "2              0               0            0                  0  ...   \n",
       "3              0               0            0                  0  ...   \n",
       "4              0               0            0                  0  ...   \n",
       "\n",
       "   marital_married  marital_single  education_primary  education_secondary  \\\n",
       "0                0               1                  0                    1   \n",
       "1                0               1                  1                    0   \n",
       "2                1               0                  0                    1   \n",
       "3                1               0                  0                    0   \n",
       "4                1               0                  0                    1   \n",
       "\n",
       "   education_tertiary  education_unknown  housing_no  housing_yes  loan_no  \\\n",
       "0                   0                  0           1            0        1   \n",
       "1                   0                  0           0            1        1   \n",
       "2                   0                  0           0            1        1   \n",
       "3                   1                  0           1            0        1   \n",
       "4                   0                  0           0            1        1   \n",
       "\n",
       "   loan_yes  \n",
       "0         0  \n",
       "1         0  \n",
       "2         0  \n",
       "3         0  \n",
       "4         0  \n",
       "\n",
       "[5 rows x 26 columns]"
      ]
     },
     "metadata": {},
     "output_type": "display_data"
    },
    {
     "data": {
      "text/html": [
       "<div>\n",
       "<style scoped>\n",
       "    .dataframe tbody tr th:only-of-type {\n",
       "        vertical-align: middle;\n",
       "    }\n",
       "\n",
       "    .dataframe tbody tr th {\n",
       "        vertical-align: top;\n",
       "    }\n",
       "\n",
       "    .dataframe thead th {\n",
       "        text-align: right;\n",
       "    }\n",
       "</style>\n",
       "<table border=\"1\" class=\"dataframe\">\n",
       "  <thead>\n",
       "    <tr style=\"text-align: right;\">\n",
       "      <th></th>\n",
       "      <th>age</th>\n",
       "      <th>balance</th>\n",
       "      <th>y</th>\n",
       "      <th>job_admin.</th>\n",
       "      <th>job_blue-collar</th>\n",
       "      <th>job_entrepreneur</th>\n",
       "      <th>job_housemaid</th>\n",
       "      <th>job_management</th>\n",
       "      <th>job_retired</th>\n",
       "      <th>job_self-employed</th>\n",
       "      <th>...</th>\n",
       "      <th>marital_married</th>\n",
       "      <th>marital_single</th>\n",
       "      <th>education_primary</th>\n",
       "      <th>education_secondary</th>\n",
       "      <th>education_tertiary</th>\n",
       "      <th>education_unknown</th>\n",
       "      <th>housing_no</th>\n",
       "      <th>housing_yes</th>\n",
       "      <th>loan_no</th>\n",
       "      <th>loan_yes</th>\n",
       "    </tr>\n",
       "  </thead>\n",
       "  <tbody>\n",
       "    <tr>\n",
       "      <th>0</th>\n",
       "      <td>22</td>\n",
       "      <td>26.286879</td>\n",
       "      <td>yes</td>\n",
       "      <td>0</td>\n",
       "      <td>0</td>\n",
       "      <td>0</td>\n",
       "      <td>0</td>\n",
       "      <td>0</td>\n",
       "      <td>0</td>\n",
       "      <td>0</td>\n",
       "      <td>...</td>\n",
       "      <td>0</td>\n",
       "      <td>1</td>\n",
       "      <td>0</td>\n",
       "      <td>0</td>\n",
       "      <td>1</td>\n",
       "      <td>0</td>\n",
       "      <td>1</td>\n",
       "      <td>0</td>\n",
       "      <td>1</td>\n",
       "      <td>0</td>\n",
       "    </tr>\n",
       "    <tr>\n",
       "      <th>1</th>\n",
       "      <td>37</td>\n",
       "      <td>29.305404</td>\n",
       "      <td>no</td>\n",
       "      <td>0</td>\n",
       "      <td>1</td>\n",
       "      <td>0</td>\n",
       "      <td>0</td>\n",
       "      <td>0</td>\n",
       "      <td>0</td>\n",
       "      <td>0</td>\n",
       "      <td>...</td>\n",
       "      <td>1</td>\n",
       "      <td>0</td>\n",
       "      <td>0</td>\n",
       "      <td>1</td>\n",
       "      <td>0</td>\n",
       "      <td>0</td>\n",
       "      <td>0</td>\n",
       "      <td>1</td>\n",
       "      <td>0</td>\n",
       "      <td>1</td>\n",
       "    </tr>\n",
       "    <tr>\n",
       "      <th>2</th>\n",
       "      <td>30</td>\n",
       "      <td>30.512293</td>\n",
       "      <td>no</td>\n",
       "      <td>0</td>\n",
       "      <td>1</td>\n",
       "      <td>0</td>\n",
       "      <td>0</td>\n",
       "      <td>0</td>\n",
       "      <td>0</td>\n",
       "      <td>0</td>\n",
       "      <td>...</td>\n",
       "      <td>0</td>\n",
       "      <td>1</td>\n",
       "      <td>0</td>\n",
       "      <td>1</td>\n",
       "      <td>0</td>\n",
       "      <td>0</td>\n",
       "      <td>0</td>\n",
       "      <td>1</td>\n",
       "      <td>1</td>\n",
       "      <td>0</td>\n",
       "    </tr>\n",
       "    <tr>\n",
       "      <th>3</th>\n",
       "      <td>37</td>\n",
       "      <td>36.592349</td>\n",
       "      <td>no</td>\n",
       "      <td>0</td>\n",
       "      <td>0</td>\n",
       "      <td>0</td>\n",
       "      <td>0</td>\n",
       "      <td>1</td>\n",
       "      <td>0</td>\n",
       "      <td>0</td>\n",
       "      <td>...</td>\n",
       "      <td>0</td>\n",
       "      <td>1</td>\n",
       "      <td>0</td>\n",
       "      <td>0</td>\n",
       "      <td>1</td>\n",
       "      <td>0</td>\n",
       "      <td>0</td>\n",
       "      <td>1</td>\n",
       "      <td>1</td>\n",
       "      <td>0</td>\n",
       "    </tr>\n",
       "    <tr>\n",
       "      <th>4</th>\n",
       "      <td>47</td>\n",
       "      <td>7.810250</td>\n",
       "      <td>no</td>\n",
       "      <td>0</td>\n",
       "      <td>1</td>\n",
       "      <td>0</td>\n",
       "      <td>0</td>\n",
       "      <td>0</td>\n",
       "      <td>0</td>\n",
       "      <td>0</td>\n",
       "      <td>...</td>\n",
       "      <td>1</td>\n",
       "      <td>0</td>\n",
       "      <td>0</td>\n",
       "      <td>0</td>\n",
       "      <td>0</td>\n",
       "      <td>1</td>\n",
       "      <td>0</td>\n",
       "      <td>1</td>\n",
       "      <td>1</td>\n",
       "      <td>0</td>\n",
       "    </tr>\n",
       "  </tbody>\n",
       "</table>\n",
       "<p>5 rows × 26 columns</p>\n",
       "</div>"
      ],
      "text/plain": [
       "   age    balance    y  job_admin.  job_blue-collar  job_entrepreneur  \\\n",
       "0   22  26.286879  yes           0                0                 0   \n",
       "1   37  29.305404   no           0                1                 0   \n",
       "2   30  30.512293   no           0                1                 0   \n",
       "3   37  36.592349   no           0                0                 0   \n",
       "4   47   7.810250   no           0                1                 0   \n",
       "\n",
       "   job_housemaid  job_management  job_retired  job_self-employed  ...  \\\n",
       "0              0               0            0                  0  ...   \n",
       "1              0               0            0                  0  ...   \n",
       "2              0               0            0                  0  ...   \n",
       "3              0               1            0                  0  ...   \n",
       "4              0               0            0                  0  ...   \n",
       "\n",
       "   marital_married  marital_single  education_primary  education_secondary  \\\n",
       "0                0               1                  0                    0   \n",
       "1                1               0                  0                    1   \n",
       "2                0               1                  0                    1   \n",
       "3                0               1                  0                    0   \n",
       "4                1               0                  0                    0   \n",
       "\n",
       "   education_tertiary  education_unknown  housing_no  housing_yes  loan_no  \\\n",
       "0                   1                  0           1            0        1   \n",
       "1                   0                  0           0            1        0   \n",
       "2                   0                  0           0            1        1   \n",
       "3                   1                  0           0            1        1   \n",
       "4                   0                  1           0            1        1   \n",
       "\n",
       "   loan_yes  \n",
       "0         0  \n",
       "1         1  \n",
       "2         0  \n",
       "3         0  \n",
       "4         0  \n",
       "\n",
       "[5 rows x 26 columns]"
      ]
     },
     "metadata": {},
     "output_type": "display_data"
    },
    {
     "data": {
      "text/plain": [
       "(None, None)"
      ]
     },
     "execution_count": 35,
     "metadata": {},
     "output_type": "execute_result"
    }
   ],
   "source": [
    "display(train_df.head()),display(test_df.head())"
   ]
  },
  {
   "cell_type": "markdown",
   "id": "e26e906d",
   "metadata": {},
   "source": [
    "### Task 7"
   ]
  },
  {
   "cell_type": "code",
   "execution_count": 36,
   "id": "73a98956",
   "metadata": {
    "ExecuteTime": {
     "end_time": "2023-02-09T00:43:11.033948Z",
     "start_time": "2023-02-09T00:43:11.014511Z"
    }
   },
   "outputs": [
    {
     "data": {
      "text/html": [
       "<div>\n",
       "<style scoped>\n",
       "    .dataframe tbody tr th:only-of-type {\n",
       "        vertical-align: middle;\n",
       "    }\n",
       "\n",
       "    .dataframe tbody tr th {\n",
       "        vertical-align: top;\n",
       "    }\n",
       "\n",
       "    .dataframe thead th {\n",
       "        text-align: right;\n",
       "    }\n",
       "</style>\n",
       "<table border=\"1\" class=\"dataframe\">\n",
       "  <thead>\n",
       "    <tr style=\"text-align: right;\">\n",
       "      <th></th>\n",
       "      <th>age</th>\n",
       "      <th>balance</th>\n",
       "      <th>y</th>\n",
       "      <th>job_admin.</th>\n",
       "      <th>job_blue-collar</th>\n",
       "      <th>job_entrepreneur</th>\n",
       "      <th>job_housemaid</th>\n",
       "      <th>job_management</th>\n",
       "      <th>job_retired</th>\n",
       "      <th>job_self-employed</th>\n",
       "      <th>...</th>\n",
       "      <th>marital_married</th>\n",
       "      <th>marital_single</th>\n",
       "      <th>education_primary</th>\n",
       "      <th>education_secondary</th>\n",
       "      <th>education_tertiary</th>\n",
       "      <th>education_unknown</th>\n",
       "      <th>housing_no</th>\n",
       "      <th>housing_yes</th>\n",
       "      <th>loan_no</th>\n",
       "      <th>loan_yes</th>\n",
       "    </tr>\n",
       "  </thead>\n",
       "  <tbody>\n",
       "    <tr>\n",
       "      <th>0</th>\n",
       "      <td>37</td>\n",
       "      <td>49.416596</td>\n",
       "      <td>0</td>\n",
       "      <td>0</td>\n",
       "      <td>0</td>\n",
       "      <td>0</td>\n",
       "      <td>0</td>\n",
       "      <td>0</td>\n",
       "      <td>0</td>\n",
       "      <td>0</td>\n",
       "      <td>...</td>\n",
       "      <td>0</td>\n",
       "      <td>1</td>\n",
       "      <td>0</td>\n",
       "      <td>1</td>\n",
       "      <td>0</td>\n",
       "      <td>0</td>\n",
       "      <td>1</td>\n",
       "      <td>0</td>\n",
       "      <td>1</td>\n",
       "      <td>0</td>\n",
       "    </tr>\n",
       "    <tr>\n",
       "      <th>1</th>\n",
       "      <td>52</td>\n",
       "      <td>44.988888</td>\n",
       "      <td>1</td>\n",
       "      <td>0</td>\n",
       "      <td>1</td>\n",
       "      <td>0</td>\n",
       "      <td>0</td>\n",
       "      <td>0</td>\n",
       "      <td>0</td>\n",
       "      <td>0</td>\n",
       "      <td>...</td>\n",
       "      <td>0</td>\n",
       "      <td>1</td>\n",
       "      <td>1</td>\n",
       "      <td>0</td>\n",
       "      <td>0</td>\n",
       "      <td>0</td>\n",
       "      <td>0</td>\n",
       "      <td>1</td>\n",
       "      <td>1</td>\n",
       "      <td>0</td>\n",
       "    </tr>\n",
       "    <tr>\n",
       "      <th>2</th>\n",
       "      <td>41</td>\n",
       "      <td>23.494680</td>\n",
       "      <td>1</td>\n",
       "      <td>0</td>\n",
       "      <td>1</td>\n",
       "      <td>0</td>\n",
       "      <td>0</td>\n",
       "      <td>0</td>\n",
       "      <td>0</td>\n",
       "      <td>0</td>\n",
       "      <td>...</td>\n",
       "      <td>1</td>\n",
       "      <td>0</td>\n",
       "      <td>0</td>\n",
       "      <td>1</td>\n",
       "      <td>0</td>\n",
       "      <td>0</td>\n",
       "      <td>0</td>\n",
       "      <td>1</td>\n",
       "      <td>1</td>\n",
       "      <td>0</td>\n",
       "    </tr>\n",
       "    <tr>\n",
       "      <th>3</th>\n",
       "      <td>36</td>\n",
       "      <td>56.753854</td>\n",
       "      <td>0</td>\n",
       "      <td>1</td>\n",
       "      <td>0</td>\n",
       "      <td>0</td>\n",
       "      <td>0</td>\n",
       "      <td>0</td>\n",
       "      <td>0</td>\n",
       "      <td>0</td>\n",
       "      <td>...</td>\n",
       "      <td>1</td>\n",
       "      <td>0</td>\n",
       "      <td>0</td>\n",
       "      <td>0</td>\n",
       "      <td>1</td>\n",
       "      <td>0</td>\n",
       "      <td>1</td>\n",
       "      <td>0</td>\n",
       "      <td>1</td>\n",
       "      <td>0</td>\n",
       "    </tr>\n",
       "    <tr>\n",
       "      <th>4</th>\n",
       "      <td>45</td>\n",
       "      <td>13.416408</td>\n",
       "      <td>1</td>\n",
       "      <td>1</td>\n",
       "      <td>0</td>\n",
       "      <td>0</td>\n",
       "      <td>0</td>\n",
       "      <td>0</td>\n",
       "      <td>0</td>\n",
       "      <td>0</td>\n",
       "      <td>...</td>\n",
       "      <td>1</td>\n",
       "      <td>0</td>\n",
       "      <td>0</td>\n",
       "      <td>1</td>\n",
       "      <td>0</td>\n",
       "      <td>0</td>\n",
       "      <td>0</td>\n",
       "      <td>1</td>\n",
       "      <td>1</td>\n",
       "      <td>0</td>\n",
       "    </tr>\n",
       "  </tbody>\n",
       "</table>\n",
       "<p>5 rows × 26 columns</p>\n",
       "</div>"
      ],
      "text/plain": [
       "   age    balance  y  job_admin.  job_blue-collar  job_entrepreneur  \\\n",
       "0   37  49.416596  0           0                0                 0   \n",
       "1   52  44.988888  1           0                1                 0   \n",
       "2   41  23.494680  1           0                1                 0   \n",
       "3   36  56.753854  0           1                0                 0   \n",
       "4   45  13.416408  1           1                0                 0   \n",
       "\n",
       "   job_housemaid  job_management  job_retired  job_self-employed  ...  \\\n",
       "0              0               0            0                  0  ...   \n",
       "1              0               0            0                  0  ...   \n",
       "2              0               0            0                  0  ...   \n",
       "3              0               0            0                  0  ...   \n",
       "4              0               0            0                  0  ...   \n",
       "\n",
       "   marital_married  marital_single  education_primary  education_secondary  \\\n",
       "0                0               1                  0                    1   \n",
       "1                0               1                  1                    0   \n",
       "2                1               0                  0                    1   \n",
       "3                1               0                  0                    0   \n",
       "4                1               0                  0                    1   \n",
       "\n",
       "   education_tertiary  education_unknown  housing_no  housing_yes  loan_no  \\\n",
       "0                   0                  0           1            0        1   \n",
       "1                   0                  0           0            1        1   \n",
       "2                   0                  0           0            1        1   \n",
       "3                   1                  0           1            0        1   \n",
       "4                   0                  0           0            1        1   \n",
       "\n",
       "   loan_yes  \n",
       "0         0  \n",
       "1         0  \n",
       "2         0  \n",
       "3         0  \n",
       "4         0  \n",
       "\n",
       "[5 rows x 26 columns]"
      ]
     },
     "metadata": {},
     "output_type": "display_data"
    },
    {
     "data": {
      "text/html": [
       "<div>\n",
       "<style scoped>\n",
       "    .dataframe tbody tr th:only-of-type {\n",
       "        vertical-align: middle;\n",
       "    }\n",
       "\n",
       "    .dataframe tbody tr th {\n",
       "        vertical-align: top;\n",
       "    }\n",
       "\n",
       "    .dataframe thead th {\n",
       "        text-align: right;\n",
       "    }\n",
       "</style>\n",
       "<table border=\"1\" class=\"dataframe\">\n",
       "  <thead>\n",
       "    <tr style=\"text-align: right;\">\n",
       "      <th></th>\n",
       "      <th>age</th>\n",
       "      <th>balance</th>\n",
       "      <th>y</th>\n",
       "      <th>job_admin.</th>\n",
       "      <th>job_blue-collar</th>\n",
       "      <th>job_entrepreneur</th>\n",
       "      <th>job_housemaid</th>\n",
       "      <th>job_management</th>\n",
       "      <th>job_retired</th>\n",
       "      <th>job_self-employed</th>\n",
       "      <th>...</th>\n",
       "      <th>marital_married</th>\n",
       "      <th>marital_single</th>\n",
       "      <th>education_primary</th>\n",
       "      <th>education_secondary</th>\n",
       "      <th>education_tertiary</th>\n",
       "      <th>education_unknown</th>\n",
       "      <th>housing_no</th>\n",
       "      <th>housing_yes</th>\n",
       "      <th>loan_no</th>\n",
       "      <th>loan_yes</th>\n",
       "    </tr>\n",
       "  </thead>\n",
       "  <tbody>\n",
       "    <tr>\n",
       "      <th>0</th>\n",
       "      <td>22</td>\n",
       "      <td>26.286879</td>\n",
       "      <td>0</td>\n",
       "      <td>0</td>\n",
       "      <td>0</td>\n",
       "      <td>0</td>\n",
       "      <td>0</td>\n",
       "      <td>0</td>\n",
       "      <td>0</td>\n",
       "      <td>0</td>\n",
       "      <td>...</td>\n",
       "      <td>0</td>\n",
       "      <td>1</td>\n",
       "      <td>0</td>\n",
       "      <td>0</td>\n",
       "      <td>1</td>\n",
       "      <td>0</td>\n",
       "      <td>1</td>\n",
       "      <td>0</td>\n",
       "      <td>1</td>\n",
       "      <td>0</td>\n",
       "    </tr>\n",
       "    <tr>\n",
       "      <th>1</th>\n",
       "      <td>37</td>\n",
       "      <td>29.305404</td>\n",
       "      <td>1</td>\n",
       "      <td>0</td>\n",
       "      <td>1</td>\n",
       "      <td>0</td>\n",
       "      <td>0</td>\n",
       "      <td>0</td>\n",
       "      <td>0</td>\n",
       "      <td>0</td>\n",
       "      <td>...</td>\n",
       "      <td>1</td>\n",
       "      <td>0</td>\n",
       "      <td>0</td>\n",
       "      <td>1</td>\n",
       "      <td>0</td>\n",
       "      <td>0</td>\n",
       "      <td>0</td>\n",
       "      <td>1</td>\n",
       "      <td>0</td>\n",
       "      <td>1</td>\n",
       "    </tr>\n",
       "    <tr>\n",
       "      <th>2</th>\n",
       "      <td>30</td>\n",
       "      <td>30.512293</td>\n",
       "      <td>1</td>\n",
       "      <td>0</td>\n",
       "      <td>1</td>\n",
       "      <td>0</td>\n",
       "      <td>0</td>\n",
       "      <td>0</td>\n",
       "      <td>0</td>\n",
       "      <td>0</td>\n",
       "      <td>...</td>\n",
       "      <td>0</td>\n",
       "      <td>1</td>\n",
       "      <td>0</td>\n",
       "      <td>1</td>\n",
       "      <td>0</td>\n",
       "      <td>0</td>\n",
       "      <td>0</td>\n",
       "      <td>1</td>\n",
       "      <td>1</td>\n",
       "      <td>0</td>\n",
       "    </tr>\n",
       "    <tr>\n",
       "      <th>3</th>\n",
       "      <td>37</td>\n",
       "      <td>36.592349</td>\n",
       "      <td>1</td>\n",
       "      <td>0</td>\n",
       "      <td>0</td>\n",
       "      <td>0</td>\n",
       "      <td>0</td>\n",
       "      <td>1</td>\n",
       "      <td>0</td>\n",
       "      <td>0</td>\n",
       "      <td>...</td>\n",
       "      <td>0</td>\n",
       "      <td>1</td>\n",
       "      <td>0</td>\n",
       "      <td>0</td>\n",
       "      <td>1</td>\n",
       "      <td>0</td>\n",
       "      <td>0</td>\n",
       "      <td>1</td>\n",
       "      <td>1</td>\n",
       "      <td>0</td>\n",
       "    </tr>\n",
       "    <tr>\n",
       "      <th>4</th>\n",
       "      <td>47</td>\n",
       "      <td>7.810250</td>\n",
       "      <td>1</td>\n",
       "      <td>0</td>\n",
       "      <td>1</td>\n",
       "      <td>0</td>\n",
       "      <td>0</td>\n",
       "      <td>0</td>\n",
       "      <td>0</td>\n",
       "      <td>0</td>\n",
       "      <td>...</td>\n",
       "      <td>1</td>\n",
       "      <td>0</td>\n",
       "      <td>0</td>\n",
       "      <td>0</td>\n",
       "      <td>0</td>\n",
       "      <td>1</td>\n",
       "      <td>0</td>\n",
       "      <td>1</td>\n",
       "      <td>1</td>\n",
       "      <td>0</td>\n",
       "    </tr>\n",
       "  </tbody>\n",
       "</table>\n",
       "<p>5 rows × 26 columns</p>\n",
       "</div>"
      ],
      "text/plain": [
       "   age    balance  y  job_admin.  job_blue-collar  job_entrepreneur  \\\n",
       "0   22  26.286879  0           0                0                 0   \n",
       "1   37  29.305404  1           0                1                 0   \n",
       "2   30  30.512293  1           0                1                 0   \n",
       "3   37  36.592349  1           0                0                 0   \n",
       "4   47   7.810250  1           0                1                 0   \n",
       "\n",
       "   job_housemaid  job_management  job_retired  job_self-employed  ...  \\\n",
       "0              0               0            0                  0  ...   \n",
       "1              0               0            0                  0  ...   \n",
       "2              0               0            0                  0  ...   \n",
       "3              0               1            0                  0  ...   \n",
       "4              0               0            0                  0  ...   \n",
       "\n",
       "   marital_married  marital_single  education_primary  education_secondary  \\\n",
       "0                0               1                  0                    0   \n",
       "1                1               0                  0                    1   \n",
       "2                0               1                  0                    1   \n",
       "3                0               1                  0                    0   \n",
       "4                1               0                  0                    0   \n",
       "\n",
       "   education_tertiary  education_unknown  housing_no  housing_yes  loan_no  \\\n",
       "0                   1                  0           1            0        1   \n",
       "1                   0                  0           0            1        0   \n",
       "2                   0                  0           0            1        1   \n",
       "3                   1                  0           0            1        1   \n",
       "4                   0                  1           0            1        1   \n",
       "\n",
       "   loan_yes  \n",
       "0         0  \n",
       "1         1  \n",
       "2         0  \n",
       "3         0  \n",
       "4         0  \n",
       "\n",
       "[5 rows x 26 columns]"
      ]
     },
     "metadata": {},
     "output_type": "display_data"
    },
    {
     "data": {
      "text/plain": [
       "(None, None)"
      ]
     },
     "execution_count": 36,
     "metadata": {},
     "output_type": "execute_result"
    }
   ],
   "source": [
    "train_df['y'] = np.where(train_df['y']=='yes',0,1)\n",
    "test_df['y'] = np.where(test_df['y']=='yes',0,1)\n",
    "\n",
    "display(train_df.head()),display(test_df.head())"
   ]
  },
  {
   "cell_type": "markdown",
   "id": "fc49e92c",
   "metadata": {},
   "source": [
    "### Task 8"
   ]
  },
  {
   "cell_type": "code",
   "execution_count": 37,
   "id": "92c44540",
   "metadata": {
    "ExecuteTime": {
     "end_time": "2023-02-09T00:43:11.038952Z",
     "start_time": "2023-02-09T00:43:11.035094Z"
    }
   },
   "outputs": [
    {
     "data": {
      "text/plain": [
       "1    31844\n",
       "0     4248\n",
       "Name: y, dtype: int64"
      ]
     },
     "execution_count": 37,
     "metadata": {},
     "output_type": "execute_result"
    }
   ],
   "source": [
    "train_df.y.value_counts()"
   ]
  },
  {
   "cell_type": "code",
   "execution_count": 38,
   "id": "174abef3",
   "metadata": {
    "ExecuteTime": {
     "end_time": "2023-02-09T00:43:11.044381Z",
     "start_time": "2023-02-09T00:43:11.039972Z"
    }
   },
   "outputs": [
    {
     "data": {
      "text/plain": [
       "1    7995\n",
       "0    1029\n",
       "Name: y, dtype: int64"
      ]
     },
     "execution_count": 38,
     "metadata": {},
     "output_type": "execute_result"
    }
   ],
   "source": [
    "test_df.y.value_counts()"
   ]
  },
  {
   "cell_type": "markdown",
   "id": "60b8b2f7",
   "metadata": {},
   "source": [
    "### Task 9"
   ]
  },
  {
   "cell_type": "markdown",
   "id": "24ebb0b0",
   "metadata": {},
   "source": [
    "#### Logistic Regression"
   ]
  },
  {
   "cell_type": "code",
   "execution_count": 39,
   "id": "5ec072f9",
   "metadata": {
    "ExecuteTime": {
     "end_time": "2023-02-09T00:43:11.049787Z",
     "start_time": "2023-02-09T00:43:11.045441Z"
    }
   },
   "outputs": [],
   "source": [
    "X_train = train_df.drop(columns=['y'])\n",
    "Y_train = train_df[['y']]\n",
    "X_test = test_df.drop(columns=['y'])\n",
    "Y_test = test_df[['y']]"
   ]
  },
  {
   "cell_type": "code",
   "execution_count": 40,
   "id": "0c973bb8",
   "metadata": {
    "ExecuteTime": {
     "end_time": "2023-02-09T00:43:11.055504Z",
     "start_time": "2023-02-09T00:43:11.050629Z"
    }
   },
   "outputs": [
    {
     "data": {
      "text/plain": [
       "age                    0\n",
       "balance                0\n",
       "job_admin.             0\n",
       "job_blue-collar        0\n",
       "job_entrepreneur       0\n",
       "job_housemaid          0\n",
       "job_management         0\n",
       "job_retired            0\n",
       "job_self-employed      0\n",
       "job_services           0\n",
       "job_student            0\n",
       "job_technician         0\n",
       "job_unemployed         0\n",
       "job_unknown            0\n",
       "marital_divorced       0\n",
       "marital_married        0\n",
       "marital_single         0\n",
       "education_primary      0\n",
       "education_secondary    0\n",
       "education_tertiary     0\n",
       "education_unknown      0\n",
       "housing_no             0\n",
       "housing_yes            0\n",
       "loan_no                0\n",
       "loan_yes               0\n",
       "dtype: int64"
      ]
     },
     "execution_count": 40,
     "metadata": {},
     "output_type": "execute_result"
    }
   ],
   "source": [
    "X_train.isna().sum()"
   ]
  },
  {
   "cell_type": "code",
   "execution_count": 41,
   "id": "cab40e4a",
   "metadata": {
    "ExecuteTime": {
     "end_time": "2023-02-09T00:43:11.218709Z",
     "start_time": "2023-02-09T00:43:11.056552Z"
    }
   },
   "outputs": [
    {
     "name": "stderr",
     "output_type": "stream",
     "text": [
      "/Users/akhileshpothuri/opt/anaconda3/lib/python3.9/site-packages/sklearn/utils/validation.py:993: DataConversionWarning: A column-vector y was passed when a 1d array was expected. Please change the shape of y to (n_samples, ), for example using ravel().\n",
      "  y = column_or_1d(y, warn=True)\n",
      "/Users/akhileshpothuri/opt/anaconda3/lib/python3.9/site-packages/sklearn/linear_model/_logistic.py:814: ConvergenceWarning: lbfgs failed to converge (status=1):\n",
      "STOP: TOTAL NO. of ITERATIONS REACHED LIMIT.\n",
      "\n",
      "Increase the number of iterations (max_iter) or scale the data as shown in:\n",
      "    https://scikit-learn.org/stable/modules/preprocessing.html\n",
      "Please also refer to the documentation for alternative solver options:\n",
      "    https://scikit-learn.org/stable/modules/linear_model.html#logistic-regression\n",
      "  n_iter_i = _check_optimize_result(\n"
     ]
    },
    {
     "data": {
      "text/plain": [
       "LogisticRegression()"
      ]
     },
     "execution_count": 41,
     "metadata": {},
     "output_type": "execute_result"
    }
   ],
   "source": [
    "logmodel = LogisticRegression()\n",
    "logmodel.fit(X_train,Y_train)\n"
   ]
  },
  {
   "cell_type": "markdown",
   "id": "e5c11476",
   "metadata": {},
   "source": [
    "### Task 10"
   ]
  },
  {
   "cell_type": "code",
   "execution_count": 42,
   "id": "0232d4c3",
   "metadata": {
    "ExecuteTime": {
     "end_time": "2023-02-09T00:43:11.223310Z",
     "start_time": "2023-02-09T00:43:11.219784Z"
    }
   },
   "outputs": [],
   "source": [
    "predictions = logmodel.predict_proba(X_test)[::,1]"
   ]
  },
  {
   "cell_type": "code",
   "execution_count": 43,
   "id": "f030baa4",
   "metadata": {
    "ExecuteTime": {
     "end_time": "2023-02-09T00:43:11.227513Z",
     "start_time": "2023-02-09T00:43:11.224383Z"
    }
   },
   "outputs": [
    {
     "data": {
      "text/plain": [
       "array([0.66955363, 0.96282182, 0.91151499, ..., 0.93716733, 0.92906036,\n",
       "       0.82375795])"
      ]
     },
     "execution_count": 43,
     "metadata": {},
     "output_type": "execute_result"
    }
   ],
   "source": [
    "predictions"
   ]
  },
  {
   "cell_type": "code",
   "execution_count": 44,
   "id": "c985b57c",
   "metadata": {
    "ExecuteTime": {
     "end_time": "2023-02-09T00:43:11.231318Z",
     "start_time": "2023-02-09T00:43:11.228818Z"
    }
   },
   "outputs": [
    {
     "data": {
      "text/plain": [
       "(9024,)"
      ]
     },
     "execution_count": 44,
     "metadata": {},
     "output_type": "execute_result"
    }
   ],
   "source": [
    "predictions.shape"
   ]
  },
  {
   "cell_type": "markdown",
   "id": "7539b682",
   "metadata": {},
   "source": [
    "### Task 11"
   ]
  },
  {
   "cell_type": "markdown",
   "id": "5cee9d4a",
   "metadata": {
    "ExecuteTime": {
     "end_time": "2023-02-02T00:06:27.467982Z",
     "start_time": "2023-02-02T00:06:27.465052Z"
    }
   },
   "source": [
    "#### ROC CURVE"
   ]
  },
  {
   "cell_type": "code",
   "execution_count": 45,
   "id": "f291aa71",
   "metadata": {
    "ExecuteTime": {
     "end_time": "2023-02-09T00:43:11.239969Z",
     "start_time": "2023-02-09T00:43:11.232476Z"
    }
   },
   "outputs": [
    {
     "data": {
      "text/plain": [
       "0.68020519384382"
      ]
     },
     "execution_count": 45,
     "metadata": {},
     "output_type": "execute_result"
    }
   ],
   "source": [
    "roc_auc_score(Y_test, predictions)"
   ]
  },
  {
   "cell_type": "code",
   "execution_count": 46,
   "id": "2b2b98c6",
   "metadata": {
    "ExecuteTime": {
     "end_time": "2023-02-09T00:43:11.315728Z",
     "start_time": "2023-02-09T00:43:11.241507Z"
    }
   },
   "outputs": [
    {
     "data": {
      "image/png": "[encoded data removed]",
      "text/plain": [
       "<Figure size 432x288 with 1 Axes>"
      ]
     },
     "metadata": {
      "needs_background": "light"
     },
     "output_type": "display_data"
    }
   ],
   "source": [
    "RocCurveDisplay.from_predictions(\n",
    "    Y_test,\n",
    "    predictions,\n",
    "    name='ROC Curve'\n",
    ")\n",
    "plt.plot([0, 1], [0, 1], \"k--\", label=\"chance level (AUC = 0.5)\")\n",
    "plt.axis(\"square\")\n",
    "plt.xlabel(\"False Positive Rate\")\n",
    "plt.ylabel(\"True Positive Rate\")\n",
    "plt.title(\"ROC Curve\")\n",
    "plt.legend()\n",
    "plt.show()"
   ]
  },
  {
   "cell_type": "markdown",
   "id": "a9c42cb2",
   "metadata": {},
   "source": [
    "### Task 12"
   ]
  },
  {
   "cell_type": "markdown",
   "id": "e60f1e6a",
   "metadata": {
    "ExecuteTime": {
     "end_time": "2023-02-08T22:57:25.762053Z",
     "start_time": "2023-02-08T22:57:25.758673Z"
    }
   },
   "source": [
    "Threshold from ROC Curve = 0.66"
   ]
  },
  {
   "cell_type": "code",
   "execution_count": 47,
   "id": "f1fb3405",
   "metadata": {
    "ExecuteTime": {
     "end_time": "2023-02-09T00:43:11.321319Z",
     "start_time": "2023-02-09T00:43:11.316984Z"
    }
   },
   "outputs": [],
   "source": [
    "predictions = pd.Series([1 if x>0.6 else 0 for x in predictions]) ### result appears to be same from and above threshold 0.4"
   ]
  },
  {
   "cell_type": "code",
   "execution_count": 48,
   "id": "1717e59a",
   "metadata": {
    "ExecuteTime": {
     "end_time": "2023-02-09T00:43:11.332177Z",
     "start_time": "2023-02-09T00:43:11.322500Z"
    }
   },
   "outputs": [
    {
     "name": "stdout",
     "output_type": "stream",
     "text": [
      "              precision    recall  f1-score   support\n",
      "\n",
      "           0       0.39      0.01      0.01      1029\n",
      "           1       0.89      1.00      0.94      7995\n",
      "\n",
      "    accuracy                           0.89      9024\n",
      "   macro avg       0.64      0.50      0.48      9024\n",
      "weighted avg       0.83      0.89      0.83      9024\n",
      "\n"
     ]
    }
   ],
   "source": [
    "print(classification_report(Y_test,predictions))"
   ]
  },
  {
   "cell_type": "markdown",
   "id": "7e9cecc5",
   "metadata": {},
   "source": [
    "### Task 13"
   ]
  },
  {
   "cell_type": "code",
   "execution_count": 49,
   "id": "f4d371b4",
   "metadata": {
    "ExecuteTime": {
     "end_time": "2023-02-09T00:43:11.338434Z",
     "start_time": "2023-02-09T00:43:11.333596Z"
    }
   },
   "outputs": [
    {
     "data": {
      "text/plain": [
       "array([[   7, 1022],\n",
       "       [  11, 7984]])"
      ]
     },
     "execution_count": 49,
     "metadata": {},
     "output_type": "execute_result"
    }
   ],
   "source": [
    "metrics.confusion_matrix(Y_test, predictions)"
   ]
  },
  {
   "cell_type": "markdown",
   "id": "bd85c6b7",
   "metadata": {},
   "source": [
    "### Task 14"
   ]
  },
  {
   "cell_type": "markdown",
   "id": "bbec49b1",
   "metadata": {},
   "source": [
    "The data set has records around 50k with various parameters including age, balance and their respective employement information.  \n",
    "Age of all the individuals seems to be normally distributed in the range of 0 to 80.  \n",
    "Quality of data : The target variable 'y' appears to be highly imbalanced with a class balance of 88% yes and 12% no and this requires rebalancing of the data by either downsampling or upsaampling the dataset.  \n",
    "Meaningful insights were derived by performing Exploratory Data Analysis on variables education, employement and their correlation with our target variable.  \n",
    "A better model could be built after rebalancing the data as the current data is highly biased which is to be considered by the stakeholders."
   ]
  },
  {
   "cell_type": "code",
   "execution_count": null,
   "id": "fe9f8c5c",
   "metadata": {},
   "outputs": [],
   "source": []
  }
 ],
 "metadata": {
  "kernelspec": {
   "display_name": "Python 3 (ipykernel)",
   "language": "python",
   "name": "python3"
  },
  "language_info": {
   "codemirror_mode": {
    "name": "ipython",
    "version": 3
   },
   "file_extension": ".py",
   "mimetype": "text/x-python",
   "name": "python",
   "nbconvert_exporter": "python",
   "pygments_lexer": "ipython3",
   "version": "3.9.12"
  }
 },
 "nbformat": 4,
 "nbformat_minor": 5
}
